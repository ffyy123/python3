{
 "cells": [
  {
   "cell_type": "markdown",
   "metadata": {},
   "source": [
    "# 更多字符串和特殊方法\n",
    "- 前面我们已经学了类，在Python中还有一些特殊的方法起着非常重要的作用，这里会介绍一些特殊的方法和运算符的重载，以及使用特殊方法设计类"
   ]
  },
  {
   "cell_type": "markdown",
   "metadata": {},
   "source": [
    "## str 类\n",
    "- 一个str对象是不可变的，也就是说，一旦创建了这个字符串，那么它的内容在认为不改变的情况下是不会变的\n",
    "- s1 = str()\n",
    "- s2 = str('welcome to Python')"
   ]
  },
  {
   "cell_type": "markdown",
   "metadata": {},
   "source": [
    "## 创建两个对象，分别观察两者id\n",
    "- id为Python内存地址"
   ]
  },
  {
   "cell_type": "code",
   "execution_count": 1,
   "metadata": {},
   "outputs": [
    {
     "name": "stdout",
     "output_type": "stream",
     "text": [
      "1818876422384\n",
      "1818876422384\n"
     ]
    }
   ],
   "source": [
    "print(id('a'))\n",
    "print(id('a'))"
   ]
  },
  {
   "cell_type": "code",
   "execution_count": 2,
   "metadata": {},
   "outputs": [
    {
     "name": "stdout",
     "output_type": "stream",
     "text": [
      "1818876422384\n",
      "1818876422384\n"
     ]
    }
   ],
   "source": [
    "a='a'\n",
    "b='a'\n",
    "print(id(a))\n",
    "print(id(b))"
   ]
  },
  {
   "cell_type": "code",
   "execution_count": 3,
   "metadata": {},
   "outputs": [
    {
     "name": "stdout",
     "output_type": "stream",
     "text": [
      "1818876422384\n",
      "1816813593968\n"
     ]
    }
   ],
   "source": [
    "a='a'\n",
    "b='aaa'\n",
    "print(id(a))\n",
    "print(id(b))"
   ]
  },
  {
   "cell_type": "markdown",
   "metadata": {},
   "source": [
    "## 处理字符串的函数\n",
    "- len\n",
    "- max\n",
    "- min\n",
    "- 字符串一切是按照ASCII码值进行比较"
   ]
  },
  {
   "cell_type": "code",
   "execution_count": 4,
   "metadata": {},
   "outputs": [
    {
     "data": {
      "text/plain": [
       "4"
      ]
     },
     "execution_count": 4,
     "metadata": {},
     "output_type": "execute_result"
    }
   ],
   "source": [
    "len('abcd')#返回字符串的长度"
   ]
  },
  {
   "cell_type": "code",
   "execution_count": 7,
   "metadata": {},
   "outputs": [
    {
     "data": {
      "text/plain": [
       "'a'"
      ]
     },
     "execution_count": 7,
     "metadata": {},
     "output_type": "execute_result"
    }
   ],
   "source": [
    "a='abc'\n",
    "a[0]"
   ]
  },
  {
   "cell_type": "code",
   "execution_count": 6,
   "metadata": {},
   "outputs": [
    {
     "name": "stdout",
     "output_type": "stream",
     "text": [
      "a\n",
      "b\n",
      "c\n"
     ]
    }
   ],
   "source": [
    "i=0\n",
    "a='abc'\n",
    "while i<len('abc'):\n",
    "    print(a[i])\n",
    "    i+=1\n",
    "\n",
    "    "
   ]
  },
  {
   "cell_type": "markdown",
   "metadata": {},
   "source": [
    "## 下角标运算符 []\n",
    "- 一个字符串是一个字符序列，可以通过索引进行访问\n",
    "- 观察字符串是否是一个可迭代序列  \\__iter__"
   ]
  },
  {
   "cell_type": "code",
   "execution_count": 10,
   "metadata": {},
   "outputs": [
    {
     "data": {
      "text/plain": [
       "'qw'"
      ]
     },
     "execution_count": 10,
     "metadata": {},
     "output_type": "execute_result"
    }
   ],
   "source": [
    "a='qwer'\n",
    "a[0:2]"
   ]
  },
  {
   "cell_type": "code",
   "execution_count": 12,
   "metadata": {},
   "outputs": [
    {
     "data": {
      "text/plain": [
       "'rttyuiolkjhhgfd'"
      ]
     },
     "execution_count": 12,
     "metadata": {},
     "output_type": "execute_result"
    }
   ],
   "source": [
    "a='dfghhjkloiuyttr'#最后一个\n",
    "a[-1]"
   ]
  },
  {
   "cell_type": "code",
   "execution_count": 13,
   "metadata": {},
   "outputs": [
    {
     "data": {
      "text/plain": [
       "'oiuyttrewq'"
      ]
     },
     "execution_count": 13,
     "metadata": {},
     "output_type": "execute_result"
    }
   ],
   "source": [
    "a='qwerttyuio'\n",
    "a[::-1]"
   ]
  },
  {
   "cell_type": "code",
   "execution_count": 15,
   "metadata": {},
   "outputs": [
    {
     "data": {
      "text/plain": [
       "'r'"
      ]
     },
     "execution_count": 15,
     "metadata": {},
     "output_type": "execute_result"
    }
   ],
   "source": [
    "a='qwertgfdtyuior'\n",
    "a[::-1][0]"
   ]
  },
  {
   "cell_type": "code",
   "execution_count": 23,
   "metadata": {},
   "outputs": [
    {
     "data": {
      "text/plain": [
       "'acegikmoqs'"
      ]
     },
     "execution_count": 23,
     "metadata": {},
     "output_type": "execute_result"
    }
   ],
   "source": [
    "b='abcdefghijklmnopqrst'#取奇数位\n",
    "b[::2]"
   ]
  },
  {
   "cell_type": "code",
   "execution_count": 24,
   "metadata": {},
   "outputs": [
    {
     "data": {
      "text/plain": [
       "'bdfhjlnprt'"
      ]
     },
     "execution_count": 24,
     "metadata": {},
     "output_type": "execute_result"
    }
   ],
   "source": [
    "b='abcdefghijklmnopqrst'#取偶数位\n",
    "b[1::2]"
   ]
  },
  {
   "cell_type": "markdown",
   "metadata": {},
   "source": [
    "## 切片 [start: end]\n",
    "- start 默认值为0\n",
    "- end 默认值为-1"
   ]
  },
  {
   "cell_type": "code",
   "execution_count": null,
   "metadata": {},
   "outputs": [],
   "source": []
  },
  {
   "cell_type": "markdown",
   "metadata": {},
   "source": [
    "## 链接运算符 + 和复制运算符 *\n",
    "- \\+ 链接多个字符串，同时''.join()也是\n",
    "- \\* 复制多个字符串"
   ]
  },
  {
   "cell_type": "code",
   "execution_count": 26,
   "metadata": {},
   "outputs": [
    {
     "data": {
      "text/plain": [
       "'sssss'"
      ]
     },
     "execution_count": 26,
     "metadata": {},
     "output_type": "execute_result"
    }
   ],
   "source": [
    "'s'+'d'"
   ]
  },
  {
   "cell_type": "code",
   "execution_count": 27,
   "metadata": {},
   "outputs": [
    {
     "data": {
      "text/plain": [
       "'sssss'"
      ]
     },
     "execution_count": 27,
     "metadata": {},
     "output_type": "execute_result"
    }
   ],
   "source": [
    "'s'*5"
   ]
  },
  {
   "cell_type": "code",
   "execution_count": 64,
   "metadata": {},
   "outputs": [
    {
     "name": "stdout",
     "output_type": "stream",
     "text": [
      "******** \n",
      "*      * \n",
      "*      * \n",
      "*      * \n",
      "*      * \n",
      "*      * \n",
      "*      * \n",
      "******** \n"
     ]
    }
   ],
   "source": [
    "for i in range(8):\n",
    "    for j in range(8):\n",
    "        if i==0 or i ==7:\n",
    "            print('*',end=\"\")\n",
    "        elif j==0 or j==7:\n",
    "            print('*',end=\"\")\n",
    "        else:\n",
    "            print(\" \",end=\"\")\n",
    "    print(\" \")"
   ]
  },
  {
   "cell_type": "code",
   "execution_count": 71,
   "metadata": {},
   "outputs": [
    {
     "name": "stdout",
     "output_type": "stream",
     "text": [
      "*********\n",
      "*       *\n",
      "*       *\n",
      "*       *\n",
      "*       *\n",
      "*       *\n",
      "*       *\n",
      "*********\n"
     ]
    }
   ],
   "source": [
    "for i in range(0,8):\n",
    "        if i==0 or i ==7:\n",
    "            print('*'*9)\n",
    "        else:\n",
    "            print('*'+' '*7+'*')"
   ]
  },
  {
   "cell_type": "code",
   "execution_count": 55,
   "metadata": {},
   "outputs": [
    {
     "data": {
      "text/plain": [
       "'h!f!s!j!h!d!j!s'"
      ]
     },
     "execution_count": 55,
     "metadata": {},
     "output_type": "execute_result"
    }
   ],
   "source": [
    "'!'.join('hfsjhdjs')"
   ]
  },
  {
   "cell_type": "markdown",
   "metadata": {},
   "source": [
    "# in 和 not in 运算符\n",
    "- in :判断某个字符是否在字符串内 \n",
    "- not in ：判断某个字符是否不在字符串内\n",
    "- 返回的是布尔值"
   ]
  },
  {
   "cell_type": "code",
   "execution_count": 65,
   "metadata": {},
   "outputs": [
    {
     "data": {
      "text/plain": [
       "True"
      ]
     },
     "execution_count": 65,
     "metadata": {},
     "output_type": "execute_result"
    }
   ],
   "source": [
    "'a'in'aaaa'"
   ]
  },
  {
   "cell_type": "code",
   "execution_count": 72,
   "metadata": {},
   "outputs": [
    {
     "data": {
      "text/plain": [
       "False"
      ]
     },
     "execution_count": 72,
     "metadata": {},
     "output_type": "execute_result"
    }
   ],
   "source": [
    "a in'dfgg'\n",
    "b in'd'\n",
    "b in a"
   ]
  },
  {
   "cell_type": "code",
   "execution_count": 73,
   "metadata": {},
   "outputs": [],
   "source": [
    "def xxx(a,b):\n",
    "    for i in a:\n",
    "        if i == b:\n",
    "                return True\n",
    "    return False"
   ]
  },
  {
   "cell_type": "code",
   "execution_count": 10,
   "metadata": {},
   "outputs": [
    {
     "ename": "FileNotFoundError",
     "evalue": "[Errno 2] No such file or directory: '/Users/ASUS/Desktop/mail.txt'",
     "output_type": "error",
     "traceback": [
      "\u001b[1;31m---------------------------------------------------------------------------\u001b[0m",
      "\u001b[1;31mFileNotFoundError\u001b[0m                         Traceback (most recent call last)",
      "\u001b[1;32m<ipython-input-10-40bac749a2cf>\u001b[0m in \u001b[0;36m<module>\u001b[1;34m\u001b[0m\n\u001b[0;32m      1\u001b[0m \u001b[0mpath\u001b[0m \u001b[1;33m=\u001b[0m \u001b[1;34m'/Users/ASUS/Desktop/mail.txt'\u001b[0m\u001b[1;33m\u001b[0m\u001b[1;33m\u001b[0m\u001b[0m\n\u001b[1;32m----> 2\u001b[1;33m \u001b[1;32mwith\u001b[0m \u001b[0mopen\u001b[0m \u001b[1;33m(\u001b[0m\u001b[0mpath\u001b[0m\u001b[1;33m)\u001b[0m \u001b[1;32mas\u001b[0m \u001b[0mf\u001b[0m\u001b[1;33m:\u001b[0m\u001b[1;33m\u001b[0m\u001b[1;33m\u001b[0m\u001b[0m\n\u001b[0m\u001b[0;32m      3\u001b[0m     \u001b[1;32mfor\u001b[0m \u001b[0mi\u001b[0m \u001b[1;32min\u001b[0m \u001b[0mrange\u001b[0m\u001b[1;33m(\u001b[0m\u001b[1;36m5000\u001b[0m\u001b[1;33m)\u001b[0m\u001b[1;33m:\u001b[0m\u001b[1;33m\u001b[0m\u001b[1;33m\u001b[0m\u001b[0m\n\u001b[0;32m      4\u001b[0m         \u001b[0mlines\u001b[0m\u001b[1;33m=\u001b[0m\u001b[0mf\u001b[0m\u001b[1;33m.\u001b[0m\u001b[0mrandline\u001b[0m\u001b[1;33m(\u001b[0m\u001b[1;33m)\u001b[0m\u001b[1;33m\u001b[0m\u001b[1;33m\u001b[0m\u001b[0m\n\u001b[0;32m      5\u001b[0m         \u001b[0ma\u001b[0m\u001b[1;33m=\u001b[0m\u001b[0mlines\u001b[0m\u001b[1;33m[\u001b[0m\u001b[1;36m0\u001b[0m\u001b[1;33m]\u001b[0m\u001b[1;33m\u001b[0m\u001b[1;33m\u001b[0m\u001b[0m\n",
      "\u001b[1;31mFileNotFoundError\u001b[0m: [Errno 2] No such file or directory: '/Users/ASUS/Desktop/mail.txt'"
     ]
    }
   ],
   "source": [
    "path = '/Users/ASUS/Desktop/mail.txt'\n",
    "with open (path) as f:\n",
    "    for i in range(5000):\n",
    "        lines=f.randline()\n",
    "        a=lines[0]\n",
    "        if a == '1':\n",
    "            print(lines)"
   ]
  },
  {
   "cell_type": "markdown",
   "metadata": {},
   "source": [
    "## 比较字符串\n",
    "-  ==, !=, >=, <=, >, <\n",
    "- 依照ASCII码值进行比较"
   ]
  },
  {
   "cell_type": "code",
   "execution_count": 87,
   "metadata": {},
   "outputs": [
    {
     "data": {
      "text/plain": [
       "'seaca'"
      ]
     },
     "execution_count": 87,
     "metadata": {},
     "output_type": "execute_result"
    }
   ],
   "source": [
    "#输入'abcse'    输出'se a ca'\n",
    "j='abcse'   \n",
    "j[-2: ]+j[0]+j[2]+j[0]"
   ]
  },
  {
   "cell_type": "code",
   "execution_count": null,
   "metadata": {},
   "outputs": [],
   "source": [
    "#输入'abcse'    输出'se a ca'"
   ]
  },
  {
   "cell_type": "markdown",
   "metadata": {},
   "source": [
    "## 测试字符串\n",
    "![](../Photo/99.png)\n",
    "- 注意：\n",
    "> - isalnum() 中是不能包含空格，否则会返回False"
   ]
  },
  {
   "cell_type": "raw",
   "metadata": {},
   "source": [
    "请输入8位密码，大写，小写，数字"
   ]
  },
  {
   "cell_type": "code",
   "execution_count": 101,
   "metadata": {},
   "outputs": [],
   "source": [
    "def  Check(password):\n",
    "    \"\"\"\n",
    "    Check Password\n",
    "    Parameters:\n",
    "    ----------\n",
    "        password:Need Check Password.\n",
    "    Returns:\n",
    "    -------\n",
    "        None.\n",
    "    Note:\n",
    "    -----\n",
    "        1.Must use for loop.\n",
    "        2.必须写上注释\n",
    "    \"\"\"\n",
    "    a='123dfj'\n",
    "    N=len(a)\n",
    "    N1,N2,N3=0,0,0\n",
    "    for i in a:\n",
    "        if i.isupper():\n",
    "            N1+=1\n",
    "        elif i.islower():\n",
    "            N2+=1\n",
    "        elif i.isdigit():\n",
    "            N3+=1\n",
    "    if N1==0:\n",
    "        print('密码必须含有大写')\n",
    "    if N2==0:\n",
    "        print('密码必须含有小写')\n",
    "    if N3==0:\n",
    "        print('密码必须含有数字')\n",
    "    if N<=8:\n",
    "        print('密码必须超过8位')"
   ]
  },
  {
   "cell_type": "code",
   "execution_count": 102,
   "metadata": {},
   "outputs": [
    {
     "name": "stdout",
     "output_type": "stream",
     "text": [
      "密码必须含有大写\n",
      "密码必须超过8位\n"
     ]
    }
   ],
   "source": [
    "Check(a)"
   ]
  },
  {
   "cell_type": "markdown",
   "metadata": {},
   "source": [
    "## 搜索子串\n",
    "![](../Photo/100.png)"
   ]
  },
  {
   "cell_type": "code",
   "execution_count": 107,
   "metadata": {},
   "outputs": [
    {
     "data": {
      "text/plain": [
       "-1"
      ]
     },
     "execution_count": 107,
     "metadata": {},
     "output_type": "execute_result"
    }
   ],
   "source": [
    "c='asdf'\n",
    "c.find('ac')  #-1表示没有找到"
   ]
  },
  {
   "cell_type": "code",
   "execution_count": 108,
   "metadata": {},
   "outputs": [
    {
     "data": {
      "text/plain": [
       "7"
      ]
     },
     "execution_count": 108,
     "metadata": {},
     "output_type": "execute_result"
    }
   ],
   "source": [
    "d='gdahdajkhdh'   #加r是从右往左找返回第一个，返回的数是从左往右数的  不加r是从左往右找\n",
    "d.rfind('k')"
   ]
  },
  {
   "cell_type": "code",
   "execution_count": 1,
   "metadata": {},
   "outputs": [],
   "source": [
    "import requests"
   ]
  },
  {
   "cell_type": "code",
   "execution_count": 13,
   "metadata": {},
   "outputs": [
    {
     "name": "stdout",
     "output_type": "stream",
     "text": [
      "['<!DOCTYPE html PUBLIC \"-//W3C//DTD XHTML 1.0 Transitional//EN\" \"http://www.w3.org/TR/xhtml1/DTD/xhtml1-transitional.dtd\">', '<html xmlns=\"http://www.w3.org/1999/xhtml\">', '<head>', '<meta http-equiv=\"Content-Type\" content=\"text/html; charset=utf-8\" />', '<title>海贼王图片-海贼王图片大全-海贼王专题-4399动漫网</title>', '<meta name=\"keywords\" content=\"海贼王图片,海贼王壁纸,海贼王图片大全\" />', '<meta name=\"description\" content=\"4399海贼王专题为您提供海贼王图片大全，拥有路飞、索隆、山治、娜美、罗宾、女帝等海量高清海贼王壁纸、同人图。更多人气海贼王角色图片等您一睹为快。\" />', '<meta http-equiv=\"Cache-Control\" content=\"no-transform\" />', '<link href=\"http://www.4399dmw.com/css/public/top_bar/v2/topbar.css?v=20190307\" rel=\"stylesheet\" type=\"text/css\" /><link href=\"/css/haizeiwang_global.css?v=20190307\" rel=\"stylesheet\" type=\"text/css\" />', '<link href=\"/css/haizeiwang2_140918.css?v=2\" rel=\"stylesheet\" type=\"text/css\" />', '<meta http-equiv=\"X-UA-Compatible\" content=\"IE=edge,chrome=1\"/>', '<script type=\"text/javascript\" src=\"/data/haizei.js\"></script>', '<script type=\"text/javascript\" src=\"/js/data_haizeiwang2.js\"></script>', '<base target=\"_blank\" />', '<script type=\"application/ld+json\">', '    {', '        \"@context\":\"https://ziyuan.baidu.com/contexts/cambrian.jsonld\",', '        \"@id\":\"http://www.4399dmw.com/haizeiwang/tupian/\",', '        \"upDate\":\"2019-04-12T16:20:41\"', '    }', '</script></head>', '<body>', '<div class=\"dm-topbar\">', '<div class=\"dm-topbar_in clearfix\" id=\"div_dm_topbar_id\">', '<a href=\"/\" class=\"tbr__logo fl\">', '<img src=\"/images/index/v2/logo.png\" title=\"4399动漫\" alt=\"4399动漫\" width=\"126\" height=\"27\">', '</a>', '<ul class=\"tbr__list fl home-nav\">', '<li class=\"tbr__item\"><a href=\"/\" target=\"_blank\">首页</a></li>', '<li class=\"tbr__item\"><a href=\"/donghua/\" target=\"_blank\">动画</a></li>', '<li class=\"tbr__item\"><a href=\"/manhua/\" target=\"_blank\">漫画</a></li>                ', '<li class=\"tbr__item\"><a href=\"/music/\" target=\"_blank\">音乐</a></li>', '<li class=\"tbr__item\"><a href=\"/news/\" target=\"_blank\">速递</a></li>', '<li class=\"tbr__item\"><a href=\"/tuku/\" target=\"_blank\">图库</a></li>', '<li class=\"tbr__item\"><a href=\"http://my.4399.com/forums/page-dm\" target=\"_blank\">群组</a></li>', '</ul>', '<ul class=\"tbr__list-2 fr\">', '<li class=\"tbr__list-write\">', '<a style=\"cursor: pointer;\" target=\"_blank\" class=\"txt\">投稿</a>', '<ul class=\"tbr__write-list clearfix\">', '<!--<li class=\"tbr-novel\" title=\"写小说\">', '<a href=\"http://www.4399dmw.com/works-index.php\" target=\"_blank\">', '<i></i>', '<span>写小说</span>', '</a>', '</li>-->', '<li class=\"tbr-cartoon\" title=\"画漫画\">', '<a href=\"http://huodong.4399.com/comm/dmtougao/index.php?zt=77\" target=\"_blank\">', '<i></i>', '<span>画漫画</span>', '</a>', '</li>', '<li class=\"tbr-article\" title=\"写文章\">', '<a href=\"http://huodong.4399.com/comm/dmtougao/arc.php?zt=77\" target=\"_blank\">', '<i></i>', '<span>写文章</span>', '</a>', '</li>', '</ul>', '</li>', '<li><a class=\"bar-fav-btn\" href=\"#\" target=\"_blank\" title=\"请收藏示爱！\">收藏</a></li>', '</ul>', '<div id=\"user-login-bar\">', '</div>', '</div>', '</div> ', '<div class=\"head_wrap\">', '<div class=\"head\"> <a href=\"javascript:void(0);\" title=\"4399海贼王动漫专区\" onclick=\"addfav(special_title,special_url);return false;\" class=\"logo\"></a> </div>', '<div class=\"nav\">', '<ul class=\"clearfix\">', '<li ><a target=\"_self\" href=\"/haizeiwang/\" class=\"a1\">海贼王</a></li>', '<li ><a target=\"_blank\" href=\"/haizeiwang/donghua/\" class=\"a2\">海贼动画</a></li>', '<li ><a target=\"_blank\" href=\"/haizeiwang/manhua/\" class=\"a3\">海贼漫画</a></li>', '<li ><a target=\"_self\" href=\"/haizeiwang/zixunzatan/\" class=\"a4\">资讯杂谈</a></li>', '<li  class=\"cur\"><a target=\"_self\" href=\"/haizeiwang/tupian/\" class=\"a5\">海贼图片</a></li>', '<li ><a target=\"_self\" href=\"/haizeiwang/juqing/\" class=\"a6\">海贼分析</a></li>', '<li ><a target=\"_self\" href=\"/haizeiwang/shipin/\" class=\"a7\">海贼视频</a></li>', '<li ><a target=\"_self\" href=\"/haizeiwang/tongren/\" class=\"a8\">海贼同人</a></li>', '<li ><a target=\"_self\" href=\"/haizeiwang/yinyue/\" class=\"a9\">海贼音乐</a></li>', '<li ><a target=\"_self\" href=\"/haizeiwang/renwu/\" class=\"a10\">悬赏令</a></li>', '<li ><a target=\"_self\" href=\"/haizeiwang/emgs/\" class=\"a11\">恶魔果实大全</a></li>', '</ul>', '</div>', '<div class=\"navb clearfix\">', '<div class=\"sehbx clearfix\">', '<form target=\"_blank\" class=\"search\" method=\"get\" action=\"/search/index.php\" onsubmit=\"if(this.search.value == false || this.search.value == \\'请输入你想查找的内容\\'){alert(\\'请输入你想查找的内容\\');return false;}\">', '<input type=\"submit\" class=\"sehbtn\" value=\"\" />', '<input type=\"hidden\" id=\"ipt_type\" name=\"type\"/>', '<input type=\"text\" class=\"sehtxt\" id=\"seh_t\" value=\"请输入你想查找的内容\" onfocus=\"if(this.value==\\'请输入你想查找的内容\\') this.value=\\'\\';\" onblur=\"if(this.value == false){ this.value=\\'请输入你想查找的内容\\';}\"  name=\"search\" />', '</form>', '<p class=\"sehhot\">', '<span>热门搜索：</span>', '<a href=\"/dh/dlzs3/\">斗龙战士3</a>', '<a href=\"/dh/zzx10/\">猪猪侠之五灵守卫者</a>', '<a href=\"/dh/mhcs/\">魔幻车神</a>', '</p>', '</div>', '<div class=\"notice fl\" id=\"info\">', '<div class=\"tit\">最新公告</div>', '<div class=\"notice_in\">', '<ul>', '<li><a href=\"http://www.4399dmw.com/haizeiwang/manhua/274923.html\">海贼王826话 山治家族姐弟登场</a></li>', '<li><a href=\"http://www.4399dmw.com/haizeiwang/shipin/271774.html\">海贼王燃烧之血超震撼游戏宣传片</a></li>', '<li><a href=\"http://www.4399dmw.com/haizeiwang/tupian/270215.html\">海贼王第80卷SBS新鲜内容大放送！</a></li>', '<li><a href=\"http://www.4399dmw.com/haizeiwang/donghua/270363.html\">海贼王730集  蔓雪莉的奇迹之泪</a></li>', '<li><a href=\"http://www.4399dmw.com/haizeiwang/juqing/262935.html\">50条关于海贼王的小秘密 你都知道哪一些</a></li>', '<li><a href=\"http://www.4399dmw.com/haizeiwang/shipin/261621.html\">尾田荣一郎现场彩页作画过程</a></li>', '<li><a href=\"http://www.4399dmw.com/haizeiwang/tupian/260698.html\">海贼王2016年动画版年历</a></li>', '<li><a href=\"http://www.4399dmw.com/haizeiwang/tupian/260371.html\">海贼王2016年官方月历欣赏</a></li>', '<li><a href=\"http://weibo.com/xiaduophoto\">关注夏多老师微博  实时交流海贼王之道！</a></li>', '<li>4399海贼王官方群 群号：183253772</li>', '<li><a href=\"http://www.4399dmw.com/haizeiwang/juqing/220490.html\">夏多分析合集 过去的篇章全部在这里</a></li>', '<li><a href=\"http://www.4399dmw.com/tuku/269004.html\">海贼王burning blood参战角色图赏</a></li>', '<li>4399海贼王官方超级群 QQ群号：76975076</li>', '<li><a href=\"http://weibo.com/dm4399\">4399动漫网官方微博 萌萌微博娘等你来调戏</a></li>', '<li>海贼剧情讨论的乐园 夏多海贼团群号：385212372</li>', '</ul>', '</div>', '</div>', '</div>', '</div>', '<div id=\"baiduadholder\" class=\"dm_ads\"></div><div class=\"wrap mt10\">', '<div class=\"g_row clearfix\">', '<div class=\"g_col g_col_w700\">', '<div class=\"g_box\">', '<div class=\"g_hd\"> <span class=\"lt\"></span> <span class=\"rt\"></span> </div>', '<div class=\"g_bd\">', '<div class=\"dm_crumbs g_crumbs\"> 当前位置：<a href=\\'/\\' target=\\'_self\\'>4399动漫网</a><span class=\\'s_g5\\'>&gt;</span><a href=\\'/haizeiwang/\\' target=\\'_self\\'>海贼王</a><span class=\\'s_g5\\'>&gt;</span><a href=\\'/haizeiwang/tupian/\\' target=\\'_self\\'>海贼王图片</a> </div>', '<div class=\"g_albumlist\">', '<ul class=\"clearfix\">', '<li> <a title=\"海贼王80卷单行本SBS\" href=\"/haizeiwang/tupian/270215.html\" class=\"img\"> <img src=\"http://dmimg.5054399.com/allimg/160217/6_160217142248_2.jpg\" alt=\"海贼王80卷单行本SBS\" /> </a> <a href=\"/haizeiwang/tupian/270215.html\" class=\"tit\">海贼王80卷单行本SBS</a> </li>', '<li> <a title=\"柯拉松先生同人图\" href=\"http://www.4399dmw.com/tuku/269112.html\" class=\"img\"> <img src=\"http://dmimg.5054399.com/allimg/160127/6_160127110842_1.jpg\" alt=\"柯拉松先生同人图\" /> </a> <a href=\"http://www.4399dmw.com/tuku/269112.html\" class=\"tit\">柯拉松先生同人图</a> </li>', '<li> <a title=\"海贼王Burning Blood游戏参战角色\" href=\"http://www.4399dmw.com/tuku/269004.html\" class=\"img\"> <img src=\"http://dmimg.5054399.com/allimg/160126/6_160126100905_2.jpg\" alt=\"海贼王Burning Blood游戏参战角色\" /> </a> <a href=\"http://www.4399dmw.com/tuku/269004.html\" class=\"tit\">海贼王Burning Blood游戏参战角色</a> </li>', '<li> <a title=\"海贼王万圣节ZOMBIE主题磁章\" href=\"/haizeiwang/tupian/261738.html\" class=\"img\"> <img src=\"http://dmimg.5054399.com/allimg/151028/6_151028142939_1.jpg\" alt=\"海贼王万圣节ZOMBIE主题磁章\" /> </a> <a href=\"/haizeiwang/tupian/261738.html\" class=\"tit\">海贼王万圣节ZOMBIE主题磁章</a> </li>', '<li> <a title=\"海贼王79卷SBS及角色生日大全\" href=\"/haizeiwang/tupian/261691.html\" class=\"img\"> <img src=\"http://dmimg.5054399.com/allimg/151027/6_151027140205_1.jpg\" alt=\"海贼王79卷SBS及角色生日大全\" /> </a> <a href=\"/haizeiwang/tupian/261691.html\" class=\"tit\">海贼王79卷SBS及角色生日大全</a> </li>', '<li> <a title=\"海贼王2016年动画版年历\" href=\"/haizeiwang/tupian/260698.html\" class=\"img\"> <img src=\"http://dmimg.5054399.com/allimg/151006/6_151006204107_1.jpg\" alt=\"海贼王2016年动画版年历\" /> </a> <a href=\"/haizeiwang/tupian/260698.html\" class=\"tit\">海贼王2016年动画版年历</a> </li>', '<li> <a title=\"海贼王2016年官方月历\" href=\"/haizeiwang/tupian/260371.html\" class=\"img\"> <img src=\"http://dmimg.5054399.com/allimg/150927/6_150927153510_1.jpg\" alt=\"海贼王2016年官方月历\" /> </a> <a href=\"/haizeiwang/tupian/260371.html\" class=\"tit\">海贼王2016年官方月历</a> </li>', '<li> <a title=\"海贼王柯拉松和罗同人图\" href=\"/haizeiwang/tupian/258635.html\" class=\"img\"> <img src=\"http://dmimg.5054399.com/allimg/150821/6_150821105253_2.jpg\" alt=\"海贼王柯拉松和罗同人图\" /> </a> <a href=\"/haizeiwang/tupian/258635.html\" class=\"tit\">海贼王柯拉松和罗同人图</a> </li>', '<li> <a title=\"画师盖括 一支笔一个梦海贼篇合辑\" href=\"/haizeiwang/tupian/257341.html\" class=\"img\"> <img src=\"http://dmimg.5054399.com/allimg/150728/6_150728100515_1.jpg\" alt=\"画师盖括 一支笔一个梦海贼篇合辑\" /> </a> <a href=\"/haizeiwang/tupian/257341.html\" class=\"tit\">画师盖括 一支笔一个梦海贼篇合辑</a> </li>', '<li> <a title=\"海贼王78卷SBS\" href=\"/haizeiwang/tupian/257280.html\" class=\"img\"> <img src=\"http://dmimg.5054399.com/allimg/150727/6_150727114156_1.jpg\" alt=\"海贼王78卷SBS\" /> </a> <a href=\"/haizeiwang/tupian/257280.html\" class=\"tit\">海贼王78卷SBS</a> </li>', '<li> <a title=\"ONE PIECE JEANIST牛仔裤组图\" href=\"/haizeiwang/tupian/257190.html\" class=\"img\"> <img src=\"http://dmimg.5054399.com/allimg/150726/6_150726014844_1.jpg\" alt=\"ONE PIECE JEANIST牛仔裤组图\" /> </a> <a href=\"/haizeiwang/tupian/257190.html\" class=\"tit\">ONE PIECE JEANIST牛仔裤组图</a> </li>', '<li> <a title=\"推进城狱卒小萨迪COSPLAY欣赏\" href=\"/haizeiwang/tupian/253253.html\" class=\"img\"> <img src=\"http://dmimg.5054399.com/allimg/150529/6_150529115733_1.jpg\" alt=\"推进城狱卒小萨迪COSPLAY欣赏\" /> </a> <a href=\"/haizeiwang/tupian/253253.html\" class=\"tit\">推进城狱卒小萨迪COSPLAY欣赏</a> </li>', '<li> <a title=\"路飞2015年5月5日生日贺图\" href=\"/haizeiwang/tupian/251825.html\" class=\"img\"> <img src=\"http://dmimg.5054399.com/allimg/150505/6_150505112033_1.jpg\" alt=\"路飞2015年5月5日生日贺图\" /> </a> <a href=\"/haizeiwang/tupian/251825.html\" class=\"tit\">路飞2015年5月5日生日贺图</a> </li>', '<li> <a title=\"海贼王77卷SBS\" href=\"/haizeiwang/tupian/250388.html\" class=\"img\"> <img src=\"http://dmimg.5054399.com/allimg/150416/6_150416172603_1.jpg\" alt=\"海贼王77卷SBS\" /> </a> <a href=\"/haizeiwang/tupian/250388.html\" class=\"tit\">海贼王77卷SBS</a> </li>', '<li> <a title=\"海贼王柯拉松同人图\" href=\"/haizeiwang/tupian/250345.html\" class=\"img\"> <img src=\"http://dmimg.5054399.com/allimg/150415/6_150415170647_1.jpg\" alt=\"海贼王柯拉松同人图\" /> </a> <a href=\"/haizeiwang/tupian/250345.html\" class=\"tit\">海贼王柯拉松同人图</a> </li>', '<li> <a title=\"轻松熊版海贼王萌头像\" href=\"/haizeiwang/tupian/250281.html\" class=\"img\"> <img src=\"http://dmimg.5054399.com/allimg/150414/6_150414115634_1.jpg\" alt=\"轻松熊版海贼王萌头像\" /> </a> <a href=\"/haizeiwang/tupian/250281.html\" class=\"tit\">轻松熊版海贼王萌头像</a> </li>', '<li> <a title=\"海贼王寻宝之旅官方人物图鉴\" href=\"/haizeiwang/tupian/249779.html\" class=\"img\"> <img src=\"http://dmimg.5054399.com/allimg/150407/6_150407142509_2.jpg\" alt=\"海贼王寻宝之旅官方人物图鉴\" /> </a> <a href=\"/haizeiwang/tupian/249779.html\" class=\"tit\">海贼王寻宝之旅官方人物图鉴</a> </li>', '<li> <a title=\"乔巴可爱拟人COSPLAY欣赏\" href=\"/haizeiwang/tupian/249445.html\" class=\"img\"> <img src=\"http://dmimg.5054399.com/allimg/150330/6_150330170659_2.jpg\" alt=\"乔巴可爱拟人COSPLAY欣赏\" /> </a> <a href=\"/haizeiwang/tupian/249445.html\" class=\"tit\">乔巴可爱拟人COSPLAY欣赏</a> </li>', '</ul>', '</div>', '<div class=\"dm_page\">', '<div class=\"pages_n\"><a href=\\'javascript:void(0);\\' class=\\'pages_n_b\\' target=\"_self\">1</a>&nbsp;<a href=\\'/haizeiwang/tupian/list-273-2.html\\' class=\\'pages_n_a\\' target=\"_self\">2</a>&nbsp;<a href=\\'/haizeiwang/tupian/list-273-3.html\\' class=\\'pages_n_a\\' target=\"_self\">3</a>&nbsp;<a href=\\'/haizeiwang/tupian/list-273-4.html\\' class=\\'pages_n_a\\' target=\"_self\">4</a>&nbsp;<a href=\\'/haizeiwang/tupian/list-273-5.html\\' class=\\'pages_n_a\\' target=\"_self\">5</a>&nbsp;<a href=\\'/haizeiwang/tupian/list-273-6.html\\' class=\\'pages_n_a\\' target=\"_self\">6</a>&nbsp;<a href=\\'/haizeiwang/tupian/list-273-7.html\\' class=\\'pages_n_a\\' target=\"_self\">7</a>&nbsp;<a href=\\'/haizeiwang/tupian/list-273-2.html\\' class=\\'pages_n_a\\' target=\"_self\" title=\\'下一页\\'>&gt;&gt;</a>&nbsp;</div>          </div>', '</div>', '<div class=\"g_fd\"> <span class=\"lb\"></span> <span class=\"rb\"></span> </div>', '</div>', '<div class=\"g_box hzwxyx_box mt10\">', '<div class=\"g_hd\"> <span class=\"lt\"></span> <span class=\"rt\"></span> </div>', '<div class=\"g_bd\"> ', '<div class=\"g_box_title\">', '<a class=\"title\" href=\"http://www.4399.com/special/277.htm\"> <i class=\"icon\"></i> 动漫小游戏大全 </a>', '</div>', '<ul class=\"g_imglist g_mimglist clearfix\">', '<li> <a href=\"http://my.4399.com/yxhhw/\"> <img name=\"lzimg_1\" lz_src=\"http://dmimg.5054399.com/allimg/xiaduo/121.jpg\" alt=\"4399航海王OL\">4399航海王OL </a> </li>', '<li> <a href=\"http://www.4399.com/flash/140922.htm\"> <img name=\"lzimg_1\" lz_src=\"http://dmimg.5054399.com/allimg/xiaduo/122.jpg\" alt=\"妖尾VS海贼王0.7\">妖尾VS海贼王0.7 </a> </li>', '<li> <a href=\"http://www.4399.com/flash/87159.htm\"> <img name=\"lzimg_1\" lz_src=\"http://dmimg.5054399.com/allimg/xiaduo/123.jpg\" alt=\"海贼王异域冒险3\">海贼王异域冒险3 </a> </li>', '<li> <a href=\"http://www.4399.com/flash/97213_2.htm\"> <img name=\"lzimg_1\" lz_src=\"http://dmimg.5054399.com/allimg/170415/6_170415112850_1.jpg\" alt=\"海贼VS火影\">海贼VS火影 </a> </li>', '<li> <a href=\"http://www.4399.com/flash/118829.htm\"> <img name=\"lzimg_1\" lz_src=\"http://dmimg.5054399.com/allimg/xiaduo/126.jpg\" alt=\"海贼王终极对决1.6\">海贼王终极对决1.6 </a> </li>', '<li> <a href=\"http://www.4399.com/flash/39039.htm\"> <img name=\"lzimg_1\" lz_src=\"http://dmimg.5054399.com/allimg/xiaduo/124.jpg\" alt=\"海贼王叉鱼记\">海贼王叉鱼记 </a> </li>', '</ul>', '</div>', '<div class=\"g_fd\"> <span class=\"lb\"></span> <span class=\"rb\"></span> </div>', '<i class=\"bhock_u bhock_lt\"></i> <i class=\"bhock_u bhock_rt\"></i> </div>    </div>', '<div class=\"g_col g_col_w270 ml10\">', '<div class=\"g_flagbox g_sidebox rmzx_sdbox mt2r\">', '<div class=\"g_flaghd\"> <span class=\"lt\"></span> <span class=\"rt\"></span> </div>', '<div class=\"g_flagbd\">', '<div class=\"g_box_title\"> <a href=\"/haizeiwang/zixunzatan/\" class=\"more\">更多&gt;&gt;</a>', '<a class=\"title\" href=\"/haizeiwang/zixunzatan/\"> <i class=\"icon\"></i> 海贼王热门资讯 </a>', '</div>', '<h3 class=\"g_side_actitle\"><a href=\"/haizeiwang/zixunzatan/304508.html\">《海贼王》奇葩产物 那些奇奇</a></h3>', '<div class=\"g_imgtext\"> <a href=\"/haizeiwang/zixunzatan/304508.html\" class=\"img\" title=\"《海贼王》奇葩产物 那些奇奇\"> <img alt=\"《海贼王》奇葩产物 那些奇奇\" src=\"http://dmimg.5054399.com/allimg/170613/42_170613104122_3.jpg\" /> </a>', '<p class=\"text\">海贼王里的电话虫是一种伟大航道内的通讯工具，虽然是生物，但......</p>', '</div>', '<div class=\"newsbox\">', '<ul class=\"g_textlist\">', '<li> <span class=\"time\">[05-31]</span> <a href=\"/haizeiwang/zixunzatan/302016.html\">盘点海贼王漫画中让人匪夷所</a> </li>', '<li> <span class=\"time\">[05-25]</span> <a href=\"/haizeiwang/zixunzatan/300598.html\">《海贼王》里最适合撩妹的岛</a> </li>', '<li> <span class=\"time\">[05-24]</span> <a href=\"/haizeiwang/zixunzatan/300368.html\">《海贼王》里十大最丑的角色</a> </li>', '<li> <span class=\"time\">[05-15]</span> <a href=\"/haizeiwang/zixunzatan/298482.html\">《海贼王》里最会占女生便宜</a> </li>', '<li> <span class=\"time\">[04-28]</span> <a href=\"/haizeiwang/zixunzatan/296224.html\">海贼王角色两年前后对比 变化</a> </li>', '</ul>', '</div>', '</div>', '<div class=\"g_flagfd\"> <span class=\"lb\"></span> <span class=\"rb\"></span> </div>', '<i class=\"fbhock_u fbhock_ulb\"></i> <i class=\"fbhock_u fbhock_urb\"></i> </div>', '<div class=\"g_dmbtns\"> <a href=\"/haizeiwang/manhua/\" class=\"mhbtn\"> <i></i> <b>海贼王漫画</b> </a> <a href=\"/haizeiwang/donghua/\" class=\"dhbtn\"> <i></i> <b>海贼王动画</b> </a> </div>', '<div class=\"g_flagbox g_sidebox hztj_sdbox\">', '<div class=\"g_flaghd\"> <span class=\"lt\"></span> <span class=\"rt\"></span> </div>', '<div class=\"g_flagbd\">', '<div class=\"g_box_title\"> <a href=\"/haizeiwang/tupian/\" class=\"more\">更多&gt;&gt;</a>', '<a href=\"/haizeiwang/tupian/\" class=\"title\"> <i class=\"icon\"></i> 海贼王图片 </a>', '</div>', '<ul class=\"g_imglist g_mdimglist clearfix\">', '<li> <a href=\"/haizeiwang/tupian/270215.html\"> <img src=\"http://dmimg.5054399.com/allimg/160217/6_160217142248_3.jpg\" alt=\"海贼王80卷单行本SBS\" />海贼王80卷单行本SBS</a> </li>', '<li> <a href=\"http://www.4399dmw.com/tuku/269112.html\"> <img src=\"http://dmimg.5054399.com/allimg/160127/6_160127110842_2.jpg\" alt=\"柯拉松先生同人图\" />柯拉松先生同人图</a> </li>', '<li> <a href=\"http://www.4399dmw.com/tuku/269004.html\"> <img src=\"http://dmimg.5054399.com/allimg/160126/6_160126100905_3.jpg\" alt=\"海贼王Burning Blood游戏参战角色\" />海贼王Burning Blood游戏参战角色</a> </li>', '<li> <a href=\"/haizeiwang/tupian/261738.html\"> <img src=\"http://dmimg.5054399.com/allimg/151028/6_151028142939_2.jpg\" alt=\"海贼王万圣节ZOMBIE主题磁章\" />海贼王万圣节ZOMBIE主题磁章</a> </li>', '</ul>', '<span class=\"knife\"></span> </div>', '<div class=\"g_flagfd\"> <span class=\"lb\"></span> <span class=\"rb\"></span> </div>', '<i class=\"fbhock_d fbhock_dlt\"></i> <i class=\"fbhock_d fbhock_drt \"></i> <i class=\"fbhock_u fbhock_ulb\"></i> <i class=\"fbhock_u fbhock_urb\"></i> </div>', '<div class=\"g_flagbox g_sidebox hzfx_sdbox mt15\">', '<div class=\"g_flaghd\"> <span class=\"lt\"></span> <span class=\"rt\"></span> </div>', '<div class=\"g_flagbd\">', '<div class=\"g_box_title\"> <a href=\"/haizeiwang/juqing/\" class=\"more\">更多&gt;&gt;</a>', '<a class=\"title\" href=\"/haizeiwang/juqing/\"> <i class=\"icon\"></i> 海贼王分析 </a>', '</div>', '<div class=\"newsbox\">', '<ul class=\"g_textlist\">', '<li> <span class=\"time\">[03-11]</span> <a href=\"/haizeiwang/juqing/271421.html\">关于文斯莫克山治的分析</a> </li>', '<li> <span class=\"time\">[03-09]</span> <a href=\"http://weibo.com/ttarticle/p/show?id=2309403951190911130828\">夏多的海贼王分析 和大家再见</a> </li>', '<li> <span class=\"time\">[03-01]</span> <a href=\"/haizeiwang/juqing/270577.html\">海贼王817分析</a> </li>', '<li> <span class=\"time\">[02-17]</span> <a href=\"/haizeiwang/juqing/270230.html\">新人浅谈我对海贼王和黑胡子</a> </li>', '<li> <span class=\"time\">[02-17]</span> <a href=\"/haizeiwang/juqing/270219.html\">龙之华盛顿的2016海贼初分析</a> </li>', '<li> <span class=\"time\">[02-16]</span> <a href=\"/haizeiwang/juqing/269976.html\">海贼王816分析</a> </li>', '<li> <span class=\"time\">[02-08]</span> <a href=\"/haizeiwang/juqing/269870.html\">浅析草帽海贼团第十人</a> </li>', '<li> <span class=\"time\">[02-06]</span> <a href=\"/haizeiwang/juqing/269679.html\">海贼王815分析</a> </li>', '<li> <span class=\"time\">[01-30]</span> <a href=\"/haizeiwang/juqing/269353.html\">山治的新娘等于第十人？</a> </li>', '<li> <span class=\"time\">[01-30]</span> <a href=\"/haizeiwang/juqing/269246.html\">海贼王814分析</a> </li>', '</ul>', '</div>', '</div>', '<div class=\"g_flagfd\"> <span class=\"lb\"></span> <span class=\"rb\"></span> </div>', '<i class=\"fbhock_d fbhock_dlt\"></i> <i class=\"fbhock_d fbhock_drt \"></i> <i class=\"fbhock_u fbhock_ulb\"></i> <i class=\"fbhock_u fbhock_urb\"></i> </div>', '<div class=\"g_flagbox g_sidebox rmdm_sdbox mt15\">', '<div class=\"g_flaghd\"> <span class=\"lt\"></span> <span class=\"rt\"></span> </div>', '<div class=\"g_flagbd\">', '<div class=\"recomboard\">', '<div class=\"g_tab dmtab\">', '<ul class=\"clearfix\" id=\"j-roletab2\">', '<li class=\"cur\"> <i class=\"ico1\"></i> <span>热门动画</span> </li>', '<li> <i class=\"ico2\"></i> <span>热门漫画</span> </li>', '</ul>', '</div>', '<div id=\"j-rolecon2\" class=\"rolecon\"> ', '<ul class=\"ranklist\">', '<li><a href=\"http://www.4399dmw.com/dh/zzxbsxyx/\">猪猪侠之变身小英雄</a></li>', '<li><a href=\"http://www.4399dmw.com/dh/kaijiayongshinawa/\">铠甲勇士拿瓦</a></li>', '<li><a href=\"http://www.4399dmw.com/dh/atxddl/\">爱探险的朵拉</a></li>', '<li><a href=\"http://www.4399dmw.com/dh/zdzwjfzhdeb/\">战斗王之飓风战魂</a></li>', '<li><a href=\"http://www.4399dmw.com/dh/xcmzclzdy/\">熊出没之丛林总动员</a></li>', '<li><a href=\"http://www.4399dmw.com/dh/xdtxt/\">新大头儿子和小头爸爸</a></li>', '<li><a href=\"http://www.4399dmw.com/dh/xcmdbxb/\">熊出没之夺宝熊兵</a></li>', '</ul>', '<ul class=\"ranklist\" style=\"display:none\">', '<li><a href=\"http://www.4399dmw.com/mh/juhuaxiaodian/\">菊花笑典</a></li>', '<li><a href=\"http://www.4399dmw.com/mh/au/\">阿U漫画</a></li>', '<li><a href=\"http://www.4399dmw.com/mh/niuniutao/\">妞妞淘</a></li>', '<li><a href=\"http://www.4399dmw.com/heizhishi/manhua/\">黑执事漫画</a></li>', '<li><a href=\"http://www.4399dmw.com/huoying/manhua/\">火影忍者漫画</a></li>', '<li><a href=\"http://www.4399dmw.com/mh/ppxqchdqs/\">炮炮向前冲之荒岛求生</a></li>', '<li><a href=\"http://www.4399dmw.com/duolaameng/manhua/\">哆啦a梦漫画</a></li>', '</ul>', '</div>', '</div>', '</div>', '<div class=\"g_flagfd\"> <span class=\"lb\"></span> <span class=\"rb\"></span> </div>', '<i class=\"fbhock_d fbhock_dlt\"></i> <i class=\"fbhock_d fbhock_drt \"></i> </div>', '</div>  </div>', '<div class=\"g_row\">', '<div class=\"rmssboard\">', '<div class=\"rmss_hd\"></div>', '<div class=\"rmss_bd clearfix\">', '<dl class=\"rmssdl\">', '<dt>热门搜索：</dt>', '<dd class=\"clearfix\">', '<a href=\"http://www.4399dmw.com/donghua/\">动画片</a><a href=\"http://www.4399dmw.com/manhua/\">漫画网</a><a href=\"http://www.4399dmw.com/\">动漫网</a><a href=\"http://www.4399dmw.com/huoying/\">火影忍者</a><a href=\"http://www.4399dmw.com/qinshimingyue/\">秦时明月</a><a href=\"http://www.4399dmw.com/dh/kjysbj/\">铠甲勇士捕将</a><a href=\"http://www.4399dmw.com/haizeiwang/\">海贼王</a><a href=\"http://www.4399dmw.com/yaojingdeweiba/\">妖精的尾巴</a><a href=\"http://www.4399dmw.com/orz/23/\">搞笑动画推荐</a><a href=\"http://www.4399dmw.com/atm/\">奥特曼专区</a><a href=\"http://www.4399dmw.com/news/\">动漫速递</a><a href=\"http://www.4399dmw.com/dh/bbmd/\">百变马丁</a><a href=\"http://www.4399dmw.com/zixun/381175.html\">19年1月新番</a><a href=\"http://www.4399dmw.com/orz/20/\">动漫小主题汇总</a><a href=\"http://www.4399dmw.com/xcmmovie3/\">熊出没之熊心归来大电影</a><a href=\"http://www.4399dmw.com/dh/dlzs3/\">斗龙战士3龙印之战</a><a href=\"http://www.4399dmw.com/dh/seerdiliuji/\">赛尔号第六季</a><a href=\"http://www.4399dmw.com/qinshimingyue/jltx/\">秦时明月之君临天下</a><a href=\"http://www.4399dmw.com/dh/drlft/\">熊出没之冬日乐翻天</a><a href=\"http://www.4399dmw.com/dh/qjleyuan/\">奇积乐园</a><a href=\"http://www.4399dmw.com/dh/akmfsn/\">艾可魔法少女</a>          </dd>', '</dl>', '</div>', '<div class=\"rmss_fd\"></div>', '</div>', '</div>', '</div>', '<script type=\"text/javascript\" src=\"/js/libs/public/v1/jquery-1.4.4.min.js\"></script>', '<script type=\"text/javascript\" src=\"/js/libs/common.js?v=20190307\"></script>', '<script type=\"text/javascript\" src=\"/js/widget/history/home.js?v=20190307\"></script>', '<script type=\"text/javascript\" src=\"/js/commshare_g.js\"></script>', '<script type=\"text/javascript\">', \"    var topbar_html_url = '/data/top_bar_data.html';\", '</script>', '<script type=\"text/javascript\" src=\"http://www.4399dmw.com/js/shares/common/jquery.cookie.js\"></script>', '<script type=\"text/javascript\" src=\"http://www.4399dmw.com/js/libs/public/top_bar/v2/page.js?v=20190307\"></script>', '<script type=\"text/javascript\" src=\"http://www.4399dmw.com/js/usercenter/user/v1/userlogin.js?v=20190307\"></script>', '<script type=\"text/javascript\" src=\"http://www.4399dmw.com/baiduad/baiduad_funs.js\"></script>', '<script  type=\"text/javascript\">', \"\\tadd_baidu_define_ad(980, 90, 'baiduadholder', 'margin-top:8px;');\", '</script>', '<script type=\"text/javascript\">', \"    var typename = '海贼王';\", \"    var special_title = '海贼王专题-海贼王动漫中文网-4399动漫网';\", \"    var special_url ='http://www.4399dmw.com/haizeiwang/';\", '</script>', '<script src=\"/js/4399.js\"></script> ', '<script src=\"/js/haizeiwang2tab.js\"></script> ', '<script src=\"http://www.4399dmw.com/js/libs/public/v1/ks.marquee.js\"></script> ', '<script>', '//最新公告滚动', 'ue.marquee({', '    hovertarget : \"#info\",//鼠标hover停止切换的对象', \"    target : '#info .notice_in ul',//滚动对象 一般为 ul\", \"    items : '#info .notice_in li', //滚动的详细列表\", '    delay : 1000,//切换间隔时间', '    speed : 900,//切换速度', '    visiblenum : 1,//可见个数', '    scrollnum : 1,//每次滚动个数', '    autoplay : true,//是否自动播放    ', '    loop : 1,//循环模式 1 无限循环 0 不循环', '    mode : 0,', '    direction : 0', '  });', '', 'if($(\"#j-roletab\").length != 0){', '    tab(\"j-roletab\",\"li\",\"j-rolecon\",\"ul\");', '}', 'if($(\"#j-roletab2\").length != 0){', '    tab2(\"j-roletab2\",\"li\",\"j-rolecon2\",\"ul\");', '}', '//展示全部', '$(\".btnshowall\").bind(\"click\",function(){', '    $(\"#iga\").removeClass(\"modemini\");', '    $(\".btnshowall\").hide();', '    var this_img = $(\"#iga\");', '    var replace_html = this_img.html().replace(/lz_src/g, \"src\");', '    this_img.html(replace_html);', '    return false;', '}); ', '</script>', '<div class=\"dm_bottombar\" id=\"footer\">', '<div class=\"dm_bottombar footer\">', '<a href=\"http://www.4399dmw.com/contact_us.html\" rel=\"external nofollow\">联系我们</a> |   <a href=\"http://www.4399dmw.com/disclaimer.html\" rel=\"external nofollow\">免责声明</a>  | <a href=\"http://web.4399.com/local/200810/22-1230.html\">隐私政策</a> | <a href=\"http://www.4399dmw.com/map.html\">网站地图</a> | <a href=\"http://www.4399dmw.com/copyright.html\" rel=\"external nofollow\">版权保护投诉声明</a> | <a href=\"http://www.4399dmw.com/uploadinfo.html\" rel=\"external nofollow\">动漫作品上传须知</a> | <a rel=\"external nofollow\" href=\"http://web.4399.com/jiazhang/\">未成年人家长监护</a><br />', '    本站漫画等相关内容均来自网友分享和上传，以供漫画爱好者研究漫画画法技巧和构图方式，若侵犯到您的权益，请立即联系我们删除。本站不负任何相关责任。<br />', '<a rel=\"external nofollow\" href=\"http://sq.ccm.gov.cn/ccnt/sczr/service/business/emark/toDetail/9F5113E34F5E4443A68F11E8A6E2685C\"><img src=\"/images/bg-whjy.png\" style=\"vertical-align: middle;\" /> 闽网文〔2018〕9590-427号</a> | <a rel=\"external nofollow\" href=\"http://www.4399.com/zs/chuban.html \">新出网证(闽)字06号</a> | <a rel=\"external nofollow\" href=\"http://www.miitbeian.gov.cn/\">ICP证闽B2-20040099-21</a> 如果有意见和建议，请点击至<a rel=\"external nofollow\" href=\"http://huodong.4399.com/dongman/faq_suggestion/\" style=\"color:#1111bb;\">反馈报错箱</a> 或 请惠赐E-mail至<a href=\"mailto:4399dmw@4399inc.com\">4399dmw@4399inc.com</a><br />', '    Copyright &copy; 2004 - 2019 4399dmw.com All Rights Reserved.四三九九网络股份有限公司 版权所有    </div>', '<!--[if IE 6]>', '<script src=\"http://www.4399dmw.com/js/libs/public/v1/DD_belatedPNG_0.0.8a-min.js\"></script><script type=\"text/javascript\">DD_belatedPNG.fix(\\'.png_img\\');</script>', '<![endif]-->', '<div style=\"display:none\">', '<script type=\"text/javascript\" src=\"http://www.4399dmw.com/js/dmcount.js\"></script>', '</div>    </div>', '</body>', '</html>', '']\n"
     ]
    }
   ],
   "source": [
    "url='http://www.4399dmw.com/haizeiwang/tupian/'   #找出所有包含  海贼王  的信息\n",
    "HTML=requests.get(url).text\n",
    "LIST=HTML.split('\\n')\n",
    "print(LIST)"
   ]
  },
  {
   "cell_type": "code",
   "execution_count": 6,
   "metadata": {},
   "outputs": [
    {
     "name": "stdout",
     "output_type": "stream",
     "text": [
      "<title>海贼王图片-海贼王图片大全-海贼王专题-4399动漫网</title>\n",
      "<meta name=\"keywords\" content=\"海贼王图片,海贼王壁纸,海贼王图片大全\" />\n",
      "<meta name=\"description\" content=\"4399海贼王专题为您提供海贼王图片大全，拥有路飞、索隆、山治、娜美、罗宾、女帝等海量高清海贼王壁纸、同人图。更多人气海贼王角色图片等您一睹为快。\" />\n",
      "<div class=\"head\"> <a href=\"javascript:void(0);\" title=\"4399海贼王动漫专区\" onclick=\"addfav(special_title,special_url);return false;\" class=\"logo\"></a> </div>\n",
      "<li ><a target=\"_self\" href=\"/haizeiwang/\" class=\"a1\">海贼王</a></li>\n",
      "<li><a href=\"http://www.4399dmw.com/haizeiwang/manhua/274923.html\">海贼王826话 山治家族姐弟登场</a></li>\n",
      "<li><a href=\"http://www.4399dmw.com/haizeiwang/shipin/271774.html\">海贼王燃烧之血超震撼游戏宣传片</a></li>\n",
      "<li><a href=\"http://www.4399dmw.com/haizeiwang/tupian/270215.html\">海贼王第80卷SBS新鲜内容大放送！</a></li>\n",
      "<li><a href=\"http://www.4399dmw.com/haizeiwang/donghua/270363.html\">海贼王730集  蔓雪莉的奇迹之泪</a></li>\n",
      "<li><a href=\"http://www.4399dmw.com/haizeiwang/juqing/262935.html\">50条关于海贼王的小秘密 你都知道哪一些</a></li>\n",
      "<li><a href=\"http://www.4399dmw.com/haizeiwang/tupian/260698.html\">海贼王2016年动画版年历</a></li>\n",
      "<li><a href=\"http://www.4399dmw.com/haizeiwang/tupian/260371.html\">海贼王2016年官方月历欣赏</a></li>\n",
      "<li><a href=\"http://weibo.com/xiaduophoto\">关注夏多老师微博  实时交流海贼王之道！</a></li>\n",
      "<li>4399海贼王官方群 群号：183253772</li>\n",
      "<li><a href=\"http://www.4399dmw.com/tuku/269004.html\">海贼王burning blood参战角色图赏</a></li>\n",
      "<li>4399海贼王官方超级群 QQ群号：76975076</li>\n",
      "<div class=\"dm_crumbs g_crumbs\"> 当前位置：<a href='/' target='_self'>4399动漫网</a><span class='s_g5'>&gt;</span><a href='/haizeiwang/' target='_self'>海贼王</a><span class='s_g5'>&gt;</span><a href='/haizeiwang/tupian/' target='_self'>海贼王图片</a> </div>\n",
      "<li> <a title=\"海贼王80卷单行本SBS\" href=\"/haizeiwang/tupian/270215.html\" class=\"img\"> <img src=\"http://dmimg.5054399.com/allimg/160217/6_160217142248_2.jpg\" alt=\"海贼王80卷单行本SBS\" /> </a> <a href=\"/haizeiwang/tupian/270215.html\" class=\"tit\">海贼王80卷单行本SBS</a> </li>\n",
      "<li> <a title=\"海贼王Burning Blood游戏参战角色\" href=\"http://www.4399dmw.com/tuku/269004.html\" class=\"img\"> <img src=\"http://dmimg.5054399.com/allimg/160126/6_160126100905_2.jpg\" alt=\"海贼王Burning Blood游戏参战角色\" /> </a> <a href=\"http://www.4399dmw.com/tuku/269004.html\" class=\"tit\">海贼王Burning Blood游戏参战角色</a> </li>\n",
      "<li> <a title=\"海贼王万圣节ZOMBIE主题磁章\" href=\"/haizeiwang/tupian/261738.html\" class=\"img\"> <img src=\"http://dmimg.5054399.com/allimg/151028/6_151028142939_1.jpg\" alt=\"海贼王万圣节ZOMBIE主题磁章\" /> </a> <a href=\"/haizeiwang/tupian/261738.html\" class=\"tit\">海贼王万圣节ZOMBIE主题磁章</a> </li>\n",
      "<li> <a title=\"海贼王79卷SBS及角色生日大全\" href=\"/haizeiwang/tupian/261691.html\" class=\"img\"> <img src=\"http://dmimg.5054399.com/allimg/151027/6_151027140205_1.jpg\" alt=\"海贼王79卷SBS及角色生日大全\" /> </a> <a href=\"/haizeiwang/tupian/261691.html\" class=\"tit\">海贼王79卷SBS及角色生日大全</a> </li>\n",
      "<li> <a title=\"海贼王2016年动画版年历\" href=\"/haizeiwang/tupian/260698.html\" class=\"img\"> <img src=\"http://dmimg.5054399.com/allimg/151006/6_151006204107_1.jpg\" alt=\"海贼王2016年动画版年历\" /> </a> <a href=\"/haizeiwang/tupian/260698.html\" class=\"tit\">海贼王2016年动画版年历</a> </li>\n",
      "<li> <a title=\"海贼王2016年官方月历\" href=\"/haizeiwang/tupian/260371.html\" class=\"img\"> <img src=\"http://dmimg.5054399.com/allimg/150927/6_150927153510_1.jpg\" alt=\"海贼王2016年官方月历\" /> </a> <a href=\"/haizeiwang/tupian/260371.html\" class=\"tit\">海贼王2016年官方月历</a> </li>\n",
      "<li> <a title=\"海贼王柯拉松和罗同人图\" href=\"/haizeiwang/tupian/258635.html\" class=\"img\"> <img src=\"http://dmimg.5054399.com/allimg/150821/6_150821105253_2.jpg\" alt=\"海贼王柯拉松和罗同人图\" /> </a> <a href=\"/haizeiwang/tupian/258635.html\" class=\"tit\">海贼王柯拉松和罗同人图</a> </li>\n",
      "<li> <a title=\"海贼王78卷SBS\" href=\"/haizeiwang/tupian/257280.html\" class=\"img\"> <img src=\"http://dmimg.5054399.com/allimg/150727/6_150727114156_1.jpg\" alt=\"海贼王78卷SBS\" /> </a> <a href=\"/haizeiwang/tupian/257280.html\" class=\"tit\">海贼王78卷SBS</a> </li>\n",
      "<li> <a title=\"海贼王77卷SBS\" href=\"/haizeiwang/tupian/250388.html\" class=\"img\"> <img src=\"http://dmimg.5054399.com/allimg/150416/6_150416172603_1.jpg\" alt=\"海贼王77卷SBS\" /> </a> <a href=\"/haizeiwang/tupian/250388.html\" class=\"tit\">海贼王77卷SBS</a> </li>\n",
      "<li> <a title=\"海贼王柯拉松同人图\" href=\"/haizeiwang/tupian/250345.html\" class=\"img\"> <img src=\"http://dmimg.5054399.com/allimg/150415/6_150415170647_1.jpg\" alt=\"海贼王柯拉松同人图\" /> </a> <a href=\"/haizeiwang/tupian/250345.html\" class=\"tit\">海贼王柯拉松同人图</a> </li>\n",
      "<li> <a title=\"轻松熊版海贼王萌头像\" href=\"/haizeiwang/tupian/250281.html\" class=\"img\"> <img src=\"http://dmimg.5054399.com/allimg/150414/6_150414115634_1.jpg\" alt=\"轻松熊版海贼王萌头像\" /> </a> <a href=\"/haizeiwang/tupian/250281.html\" class=\"tit\">轻松熊版海贼王萌头像</a> </li>\n",
      "<li> <a title=\"海贼王寻宝之旅官方人物图鉴\" href=\"/haizeiwang/tupian/249779.html\" class=\"img\"> <img src=\"http://dmimg.5054399.com/allimg/150407/6_150407142509_2.jpg\" alt=\"海贼王寻宝之旅官方人物图鉴\" /> </a> <a href=\"/haizeiwang/tupian/249779.html\" class=\"tit\">海贼王寻宝之旅官方人物图鉴</a> </li>\n",
      "<li> <a href=\"http://www.4399.com/flash/140922.htm\"> <img name=\"lzimg_1\" lz_src=\"http://dmimg.5054399.com/allimg/xiaduo/122.jpg\" alt=\"妖尾VS海贼王0.7\">妖尾VS海贼王0.7 </a> </li>\n",
      "<li> <a href=\"http://www.4399.com/flash/87159.htm\"> <img name=\"lzimg_1\" lz_src=\"http://dmimg.5054399.com/allimg/xiaduo/123.jpg\" alt=\"海贼王异域冒险3\">海贼王异域冒险3 </a> </li>\n",
      "<li> <a href=\"http://www.4399.com/flash/118829.htm\"> <img name=\"lzimg_1\" lz_src=\"http://dmimg.5054399.com/allimg/xiaduo/126.jpg\" alt=\"海贼王终极对决1.6\">海贼王终极对决1.6 </a> </li>\n",
      "<li> <a href=\"http://www.4399.com/flash/39039.htm\"> <img name=\"lzimg_1\" lz_src=\"http://dmimg.5054399.com/allimg/xiaduo/124.jpg\" alt=\"海贼王叉鱼记\">海贼王叉鱼记 </a> </li>\n",
      "<a class=\"title\" href=\"/haizeiwang/zixunzatan/\"> <i class=\"icon\"></i> 海贼王热门资讯 </a>\n",
      "<h3 class=\"g_side_actitle\"><a href=\"/haizeiwang/zixunzatan/304508.html\">《海贼王》奇葩产物 那些奇奇</a></h3>\n",
      "<div class=\"g_imgtext\"> <a href=\"/haizeiwang/zixunzatan/304508.html\" class=\"img\" title=\"《海贼王》奇葩产物 那些奇奇\"> <img alt=\"《海贼王》奇葩产物 那些奇奇\" src=\"http://dmimg.5054399.com/allimg/170613/42_170613104122_3.jpg\" /> </a>\n",
      "<p class=\"text\">海贼王里的电话虫是一种伟大航道内的通讯工具，虽然是生物，但......</p>\n",
      "<li> <span class=\"time\">[05-31]</span> <a href=\"/haizeiwang/zixunzatan/302016.html\">盘点海贼王漫画中让人匪夷所</a> </li>\n",
      "<li> <span class=\"time\">[05-25]</span> <a href=\"/haizeiwang/zixunzatan/300598.html\">《海贼王》里最适合撩妹的岛</a> </li>\n",
      "<li> <span class=\"time\">[05-24]</span> <a href=\"/haizeiwang/zixunzatan/300368.html\">《海贼王》里十大最丑的角色</a> </li>\n",
      "<li> <span class=\"time\">[05-15]</span> <a href=\"/haizeiwang/zixunzatan/298482.html\">《海贼王》里最会占女生便宜</a> </li>\n",
      "<li> <span class=\"time\">[04-28]</span> <a href=\"/haizeiwang/zixunzatan/296224.html\">海贼王角色两年前后对比 变化</a> </li>\n",
      "<div class=\"g_dmbtns\"> <a href=\"/haizeiwang/manhua/\" class=\"mhbtn\"> <i></i> <b>海贼王漫画</b> </a> <a href=\"/haizeiwang/donghua/\" class=\"dhbtn\"> <i></i> <b>海贼王动画</b> </a> </div>\n",
      "<a href=\"/haizeiwang/tupian/\" class=\"title\"> <i class=\"icon\"></i> 海贼王图片 </a>\n",
      "<li> <a href=\"/haizeiwang/tupian/270215.html\"> <img src=\"http://dmimg.5054399.com/allimg/160217/6_160217142248_3.jpg\" alt=\"海贼王80卷单行本SBS\" />海贼王80卷单行本SBS</a> </li>\n",
      "<li> <a href=\"http://www.4399dmw.com/tuku/269004.html\"> <img src=\"http://dmimg.5054399.com/allimg/160126/6_160126100905_3.jpg\" alt=\"海贼王Burning Blood游戏参战角色\" />海贼王Burning Blood游戏参战角色</a> </li>\n",
      "<li> <a href=\"/haizeiwang/tupian/261738.html\"> <img src=\"http://dmimg.5054399.com/allimg/151028/6_151028142939_2.jpg\" alt=\"海贼王万圣节ZOMBIE主题磁章\" />海贼王万圣节ZOMBIE主题磁章</a> </li>\n",
      "<a class=\"title\" href=\"/haizeiwang/juqing/\"> <i class=\"icon\"></i> 海贼王分析 </a>\n",
      "<li> <span class=\"time\">[03-09]</span> <a href=\"http://weibo.com/ttarticle/p/show?id=2309403951190911130828\">夏多的海贼王分析 和大家再见</a> </li>\n",
      "<li> <span class=\"time\">[03-01]</span> <a href=\"/haizeiwang/juqing/270577.html\">海贼王817分析</a> </li>\n",
      "<li> <span class=\"time\">[02-17]</span> <a href=\"/haizeiwang/juqing/270230.html\">新人浅谈我对海贼王和黑胡子</a> </li>\n",
      "<li> <span class=\"time\">[02-16]</span> <a href=\"/haizeiwang/juqing/269976.html\">海贼王816分析</a> </li>\n",
      "<li> <span class=\"time\">[02-06]</span> <a href=\"/haizeiwang/juqing/269679.html\">海贼王815分析</a> </li>\n",
      "<li> <span class=\"time\">[01-30]</span> <a href=\"/haizeiwang/juqing/269246.html\">海贼王814分析</a> </li>\n",
      "<a href=\"http://www.4399dmw.com/donghua/\">动画片</a><a href=\"http://www.4399dmw.com/manhua/\">漫画网</a><a href=\"http://www.4399dmw.com/\">动漫网</a><a href=\"http://www.4399dmw.com/huoying/\">火影忍者</a><a href=\"http://www.4399dmw.com/qinshimingyue/\">秦时明月</a><a href=\"http://www.4399dmw.com/dh/kjysbj/\">铠甲勇士捕将</a><a href=\"http://www.4399dmw.com/haizeiwang/\">海贼王</a><a href=\"http://www.4399dmw.com/yaojingdeweiba/\">妖精的尾巴</a><a href=\"http://www.4399dmw.com/orz/23/\">搞笑动画推荐</a><a href=\"http://www.4399dmw.com/atm/\">奥特曼专区</a><a href=\"http://www.4399dmw.com/news/\">动漫速递</a><a href=\"http://www.4399dmw.com/dh/bbmd/\">百变马丁</a><a href=\"http://www.4399dmw.com/zixun/381175.html\">19年1月新番</a><a href=\"http://www.4399dmw.com/orz/20/\">动漫小主题汇总</a><a href=\"http://www.4399dmw.com/xcmmovie3/\">熊出没之熊心归来大电影</a><a href=\"http://www.4399dmw.com/dh/dlzs3/\">斗龙战士3龙印之战</a><a href=\"http://www.4399dmw.com/dh/seerdiliuji/\">赛尔号第六季</a><a href=\"http://www.4399dmw.com/qinshimingyue/jltx/\">秦时明月之君临天下</a><a href=\"http://www.4399dmw.com/dh/drlft/\">熊出没之冬日乐翻天</a><a href=\"http://www.4399dmw.com/dh/qjleyuan/\">奇积乐园</a><a href=\"http://www.4399dmw.com/dh/akmfsn/\">艾可魔法少女</a>          </dd>\n",
      "    var typename = '海贼王';\n",
      "    var special_title = '海贼王专题-海贼王动漫中文网-4399动漫网';\n"
     ]
    }
   ],
   "source": [
    "url='http://www.4399dmw.com/haizeiwang/tupian/'   #找出所有包含  海贼王  的信息\n",
    "HTML=requests.get(url).text\n",
    "LIST=HTML.split('\\n')\n",
    "for i in LIST:\n",
    "    if i.find(\"海贼王\")!=-1:\n",
    "        print(i)"
   ]
  },
  {
   "cell_type": "code",
   "execution_count": 20,
   "metadata": {},
   "outputs": [
    {
     "name": "stdout",
     "output_type": "stream",
     "text": [
      "http://dmimg.5054399.com/allimg/160217/6_160217142248_2.jpg\n",
      "http://dmimg.5054399.com/allimg/160127/6_160127110842_1.jpg\n",
      "http://dmimg.5054399.com/allimg/160126/6_160126100905_2.jpg\n",
      "http://dmimg.5054399.com/allimg/151028/6_151028142939_1.jpg\n",
      "http://dmimg.5054399.com/allimg/151027/6_151027140205_1.jpg\n",
      "http://dmimg.5054399.com/allimg/151006/6_151006204107_1.jpg\n",
      "http://dmimg.5054399.com/allimg/150927/6_150927153510_1.jpg\n",
      "http://dmimg.5054399.com/allimg/150821/6_150821105253_2.jpg\n",
      "http://dmimg.5054399.com/allimg/150728/6_150728100515_1.jpg\n",
      "http://dmimg.5054399.com/allimg/150727/6_150727114156_1.jpg\n",
      "http://dmimg.5054399.com/allimg/150726/6_150726014844_1.jpg\n",
      "http://dmimg.5054399.com/allimg/150529/6_150529115733_1.jpg\n",
      "http://dmimg.5054399.com/allimg/150505/6_150505112033_1.jpg\n",
      "http://dmimg.5054399.com/allimg/150416/6_150416172603_1.jpg\n",
      "http://dmimg.5054399.com/allimg/150415/6_150415170647_1.jpg\n",
      "http://dmimg.5054399.com/allimg/150414/6_150414115634_1.jpg\n",
      "http://dmimg.5054399.com/allimg/150407/6_150407142509_2.jpg\n",
      "http://dmimg.5054399.com/allimg/150330/6_150330170659_2.jpg\n",
      "http://dmimg.5054399.com/allimg/xiaduo/121.jpg\n",
      "http://dmimg.5054399.com/allimg/xiaduo/122.jpg\n",
      "http://dmimg.5054399.com/allimg/xiaduo/123.jpg\n",
      "http://dmimg.5054399.com/allimg/170415/6_170415112850_1.jpg\n",
      "http://dmimg.5054399.com/allimg/xiaduo/126.jpg\n",
      "http://dmimg.5054399.com/allimg/xiaduo/124.jpg\n",
      "http://dmimg.5054399.com/allimg/170613/42_170613104122_3.jpg\n",
      "http://dmimg.5054399.com/allimg/160217/6_160217142248_3.jpg\n",
      "http://dmimg.5054399.com/allimg/160127/6_160127110842_2.jpg\n",
      "http://dmimg.5054399.com/allimg/160126/6_160126100905_3.jpg\n",
      "http://dmimg.5054399.com/allimg/151028/6_151028142939_2.jpg\n"
     ]
    }
   ],
   "source": [
    "url='http://www.4399dmw.com/haizeiwang/tupian/'   #找出所有包含  海贼王  的信息\n",
    "HTML=requests.get(url).text\n",
    "LIST=HTML.split('\\n')\n",
    "for line in LIST:  \n",
    "    if '.jpg' in line:\n",
    "        lin2=line.split('\"')\n",
    "        #print(lin2)\n",
    "        for linee in lin2:\n",
    "            if '.jpg' in linee:\n",
    "                print(linee)\n",
    "        #break        "
   ]
  },
  {
   "cell_type": "code",
   "execution_count": 25,
   "metadata": {},
   "outputs": [
    {
     "name": "stdout",
     "output_type": "stream",
     "text": [
      "http://dmimg.5054399.com/allimg/150330/6_150330161421_2.jpg\n",
      "http://dmimg.5054399.com/allimg/150320/6_150320104402_1.jpg\n",
      "http://dmimg.5054399.com/allimg/150317/6_150317101316_1.jpg\n",
      "http://dmimg.5054399.com/allimg/150331/6_150331095525_1.jpg\n",
      "http://dmimg.5054399.com/allimg/150305/6_150305102040_3.jpg\n",
      "http://dmimg.5054399.com/allimg/150218/6_150218163858_2.jpg\n",
      "http://dmimg.5054399.com/allimg/150209/6_150209151809_1.jpg\n",
      "http://dmimg.5054399.com/allimg/150206/6_150206154705_1.jpg\n",
      "http://dmimg.5054399.com/allimg/150203/32_150203114445_1.jpg\n",
      "http://dmimg.5054399.com/allimg/150130/6_150130160542_1.jpg\n",
      "http://dmimg.5054399.com/allimg/150129/6_150129154845_1.jpg\n",
      "http://dmimg.5054399.com/allimg/150128/6_150128193911_1.jpg\n",
      "http://dmimg.5054399.com/allimg/150128/6_150128165954_1.jpg\n",
      "http://dmimg.5054399.com/allimg/150127/6_150127115234_1.jpg\n",
      "http://dmimg.5054399.com/allimg/140623/6_140623110852_1.jpg\n",
      "http://dmimg.5054399.com/allimg/150121/6_150121135815_1.jpg\n",
      "http://dmimg.5054399.com/allimg/150114/6_150114094256_1.jpg\n",
      "http://dmimg.5054399.com/allimg/141212/6_141212093715_1.jpg\n",
      "http://dmimg.5054399.com/allimg/xiaduo/121.jpg\n",
      "http://dmimg.5054399.com/allimg/xiaduo/122.jpg\n",
      "http://dmimg.5054399.com/allimg/xiaduo/123.jpg\n",
      "http://dmimg.5054399.com/allimg/170415/6_170415112850_1.jpg\n",
      "http://dmimg.5054399.com/allimg/xiaduo/126.jpg\n",
      "http://dmimg.5054399.com/allimg/xiaduo/124.jpg\n",
      "http://dmimg.5054399.com/allimg/170613/42_170613104122_3.jpg\n",
      "http://dmimg.5054399.com/allimg/160217/6_160217142248_3.jpg\n",
      "http://dmimg.5054399.com/allimg/160127/6_160127110842_2.jpg\n",
      "http://dmimg.5054399.com/allimg/160126/6_160126100905_3.jpg\n",
      "http://dmimg.5054399.com/allimg/151028/6_151028142939_2.jpg\n"
     ]
    }
   ],
   "source": [
    "url='http://www.4399dmw.com/haizeiwang/tupian/list-273-2.html'   \n",
    "HTML=requests.get(url).text\n",
    "LIST=HTML.split('\\n')\n",
    "for line in LIST:  \n",
    "    if '.jpg' in line:\n",
    "        lin2=line.split('\"')\n",
    "        #print(lin2)\n",
    "        for linee in lin2:\n",
    "            if '.jpg' in linee:\n",
    "                print(linee)\n",
    "        #break        "
   ]
  },
  {
   "cell_type": "code",
   "execution_count": null,
   "metadata": {},
   "outputs": [],
   "source": [
    "while 1:\n",
    "    i=2\n",
    "    url='http://www.4399dmw.com/haizeiwang/tupian/list-273-2.html'  \n",
    "    i+=1\n",
    "    i<8\n",
    "    HTML=requests.get(url).text\n",
    "    LIST=HTML.split('\\n')\n",
    "    for line in LIST:  \n",
    "        if '.jpg' in line:\n",
    "            lin2=line.split('\"')\n",
    "            #print(lin2)\n",
    "            for linee in lin2:\n",
    "                if '.jpg' in linee:\n",
    "                    print(linee)       "
   ]
  },
  {
   "cell_type": "markdown",
   "metadata": {},
   "source": [
    "## 转换字符串\n",
    "![](../Photo/101.png)"
   ]
  },
  {
   "cell_type": "code",
   "execution_count": 7,
   "metadata": {},
   "outputs": [
    {
     "data": {
      "text/plain": [
       "'SKJDSKJK'"
      ]
     },
     "execution_count": 7,
     "metadata": {},
     "output_type": "execute_result"
    }
   ],
   "source": [
    "a='skjdskjk'  #转换成大写\n",
    "a.swapcase()"
   ]
  },
  {
   "cell_type": "code",
   "execution_count": 8,
   "metadata": {},
   "outputs": [
    {
     "data": {
      "text/plain": [
       "'skqdskqk'"
      ]
     },
     "execution_count": 8,
     "metadata": {},
     "output_type": "execute_result"
    }
   ],
   "source": [
    "a='skjdskjk'  #替换\n",
    "a.replace(\"j\",\"q\")"
   ]
  },
  {
   "cell_type": "code",
   "execution_count": 9,
   "metadata": {},
   "outputs": [
    {
     "data": {
      "text/plain": [
       "'skjdskjk'"
      ]
     },
     "execution_count": 9,
     "metadata": {},
     "output_type": "execute_result"
    }
   ],
   "source": [
    "a='s k j d s k j k'  \n",
    "a.replace(\" \",\"\")"
   ]
  },
  {
   "cell_type": "code",
   "execution_count": 11,
   "metadata": {},
   "outputs": [
    {
     "ename": "TypeError",
     "evalue": "unsupported operand type(s) for -: 'str' and 'str'",
     "output_type": "error",
     "traceback": [
      "\u001b[1;31m---------------------------------------------------------------------------\u001b[0m",
      "\u001b[1;31mTypeError\u001b[0m                                 Traceback (most recent call last)",
      "\u001b[1;32m<ipython-input-11-51295a93d4cf>\u001b[0m in \u001b[0;36m<module>\u001b[1;34m\u001b[0m\n\u001b[1;32m----> 1\u001b[1;33m \u001b[0ma\u001b[0m\u001b[1;33m-\u001b[0m\u001b[1;34m'              kjjkjj'\u001b[0m\u001b[1;33m\u001b[0m\u001b[1;33m\u001b[0m\u001b[0m\n\u001b[0m\u001b[0;32m      2\u001b[0m \u001b[0ma\u001b[0m\u001b[1;33m.\u001b[0m\u001b[0mreplace\u001b[0m\u001b[1;33m(\u001b[0m\u001b[1;34m\" \"\u001b[0m\u001b[1;33m,\u001b[0m\u001b[1;34m\"\"\u001b[0m\u001b[1;33m)\u001b[0m\u001b[1;33m\u001b[0m\u001b[1;33m\u001b[0m\u001b[0m\n",
      "\u001b[1;31mTypeError\u001b[0m: unsupported operand type(s) for -: 'str' and 'str'"
     ]
    }
   ],
   "source": [
    "a-'              kjjkjj'\n",
    "a.replace(\" \",\"\")"
   ]
  },
  {
   "cell_type": "markdown",
   "metadata": {},
   "source": [
    "## 删除字符串\n",
    "![](../Photo/146.png)"
   ]
  },
  {
   "cell_type": "markdown",
   "metadata": {},
   "source": [
    "## 格式化字符串\n",
    "![](../Photo/103.png)"
   ]
  },
  {
   "cell_type": "markdown",
   "metadata": {},
   "source": [
    "## EP:\n",
    "- 1\n",
    "![](../Photo/104.png)\n",
    "- 2 \n",
    "    随机参数100个数字，将www.baidu.com/?page=进行拼接"
   ]
  },
  {
   "cell_type": "markdown",
   "metadata": {},
   "source": [
    "## Python高级使用方法 -- 字符串\n",
    "- 我们经常使用的方法实际上就是调用Python的运算重载\n",
    "![](../Photo/105.png)"
   ]
  },
  {
   "cell_type": "markdown",
   "metadata": {},
   "source": [
    "# Homework\n",
    "- 1\n",
    "![](../Photo/106.png)"
   ]
  },
  {
   "cell_type": "code",
   "execution_count": 11,
   "metadata": {},
   "outputs": [
    {
     "name": "stdout",
     "output_type": "stream",
     "text": [
      "按照格式ddd-dd-dddd输入社会安全号码：333-33-3333\n"
     ]
    }
   ],
   "source": [
    "import random\n",
    "a = eval(input(\"按照格式ddd-dd-dddd输入社会安全号码：\"))\n",
    "d = random.randint(0,9)\n",
    "def a1():\n",
    "    if a in ddd-dd-dddd:\n",
    "        print(\"Valid SSN\")\n",
    "    else:\n",
    "        print(\"Invalid SSN\")"
   ]
  },
  {
   "cell_type": "code",
   "execution_count": null,
   "metadata": {},
   "outputs": [],
   "source": []
  },
  {
   "cell_type": "markdown",
   "metadata": {},
   "source": [
    "- 2\n",
    "![](../Photo/107.png)"
   ]
  },
  {
   "cell_type": "code",
   "execution_count": 3,
   "metadata": {},
   "outputs": [
    {
     "name": "stdout",
     "output_type": "stream",
     "text": [
      ">>fdfdfghk\n",
      ">>ghb\n",
      "不是子串\n"
     ]
    }
   ],
   "source": [
    "def find():\n",
    "    a = input(\">>\")\n",
    "    b = input(\">>\")\n",
    "    if a in b:\n",
    "        print(\"子串\")\n",
    "    else:\n",
    "        print(\"不是子串\")\n",
    "find()"
   ]
  },
  {
   "cell_type": "code",
   "execution_count": null,
   "metadata": {},
   "outputs": [],
   "source": []
  },
  {
   "cell_type": "markdown",
   "metadata": {},
   "source": [
    "- 3\n",
    "![](../Photo/108.png)"
   ]
  },
  {
   "cell_type": "code",
   "execution_count": 35,
   "metadata": {},
   "outputs": [],
   "source": [
    "def check(password):\n",
    "    N=len(password)\n",
    "    N1,N2,N3=0,0,0\n",
    "    for i in password:\n",
    "        if i.isupper():  #检验大写\n",
    "            N1 += 1\n",
    "        elif i.islower():  #检验小写\n",
    "            N2 += 1\n",
    "        elif i.isdigit():   #检验数字\n",
    "            N3 += 1\n",
    "    if N1==0 and N2==0:\n",
    "        print('密码必须含有字母')\n",
    "    if N3<2:\n",
    "        print('密码至少含有两个数字')\n",
    "    if N<8:\n",
    "        print('密码至少含有8位')\n"
   ]
  },
  {
   "cell_type": "code",
   "execution_count": 37,
   "metadata": {},
   "outputs": [
    {
     "name": "stdout",
     "output_type": "stream",
     "text": [
      "密码至少含有两个数字\n",
      "密码至少含有8位\n"
     ]
    }
   ],
   "source": [
    "password = \"fghj\"\n",
    "check(password)"
   ]
  },
  {
   "cell_type": "markdown",
   "metadata": {},
   "source": [
    "- 4\n",
    "![](../Photo/109.png)"
   ]
  },
  {
   "cell_type": "code",
   "execution_count": 45,
   "metadata": {},
   "outputs": [],
   "source": [
    "def countLetters(s):        #字母出现的形式只有大写或者小写两种形式，所以判断字母是否是大小写，如果是大写，自加一；如果小写，自加一。 \n",
    "    N=0\n",
    "    for a in s:\n",
    "        if a.isupper(): #检验大写\n",
    "            N+=1\n",
    "        if a.islower(): #检验小写\n",
    "            N+=1\n",
    "    print(N)\n"
   ]
  },
  {
   "cell_type": "code",
   "execution_count": 46,
   "metadata": {},
   "outputs": [
    {
     "name": "stdout",
     "output_type": "stream",
     "text": [
      "4\n"
     ]
    }
   ],
   "source": [
    "s=\"16hj2rf\"\n",
    "countLetters(s)"
   ]
  },
  {
   "cell_type": "markdown",
   "metadata": {},
   "source": [
    "- 5\n",
    "![](../Photo/110.png)"
   ]
  },
  {
   "cell_type": "markdown",
   "metadata": {},
   "source": [
    "- 6\n",
    "![](../Photo/111.png)"
   ]
  },
  {
   "cell_type": "code",
   "execution_count": 51,
   "metadata": {},
   "outputs": [],
   "source": [
    "def reverse(s):    #reverse()将列表的所有元素倒序\n",
    "    #reverse（）反向打印字符串\n",
    "   \n",
    "    s = input(\"输入>>:\")\n",
    "    s_ = list(s)\n",
    "    s_.reverse()\n",
    "    print(s_)"
   ]
  },
  {
   "cell_type": "code",
   "execution_count": 52,
   "metadata": {},
   "outputs": [
    {
     "name": "stdout",
     "output_type": "stream",
     "text": [
      "输入>>:dkald;ak\n",
      "['k', 'a', ';', 'd', 'l', 'a', 'k', 'd']\n"
     ]
    }
   ],
   "source": [
    "reverse(s)"
   ]
  },
  {
   "cell_type": "markdown",
   "metadata": {},
   "source": [
    "- 7\n",
    "![](../Photo/112.png)"
   ]
  },
  {
   "cell_type": "markdown",
   "metadata": {},
   "source": [
    "- 8\n",
    "![](../Photo/113.png)"
   ]
  },
  {
   "cell_type": "markdown",
   "metadata": {},
   "source": [
    "- 9\n",
    "![](../Photo/114.png)"
   ]
  }
 ],
 "metadata": {
  "kernelspec": {
   "display_name": "Python 3",
   "language": "python",
   "name": "python3"
  },
  "language_info": {
   "codemirror_mode": {
    "name": "ipython",
    "version": 3
   },
   "file_extension": ".py",
   "mimetype": "text/x-python",
   "name": "python",
   "nbconvert_exporter": "python",
   "pygments_lexer": "ipython3",
   "version": "3.7.3"
  }
 },
 "nbformat": 4,
 "nbformat_minor": 2
}
