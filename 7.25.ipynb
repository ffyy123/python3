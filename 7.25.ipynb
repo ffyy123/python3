{
 "cells": [
  {
   "cell_type": "markdown",
   "metadata": {},
   "source": [
    "# 列表List\n",
    "- 一个列表可以储存任意大小的数据集合，你可以理解为他是一个容器"
   ]
  },
  {
   "cell_type": "code",
   "execution_count": 1,
   "metadata": {},
   "outputs": [
    {
     "data": {
      "text/plain": [
       "list"
      ]
     },
     "execution_count": 1,
     "metadata": {},
     "output_type": "execute_result"
    }
   ],
   "source": [
    "a=[1,2,4,'a',1,0,[2,6]]\n",
    "type(a)"
   ]
  },
  {
   "cell_type": "code",
   "execution_count": 3,
   "metadata": {},
   "outputs": [],
   "source": [
    "import numpy as np"
   ]
  },
  {
   "cell_type": "code",
   "execution_count": 4,
   "metadata": {},
   "outputs": [
    {
     "data": {
      "text/plain": [
       "array([[2, 6],\n",
       "       [5, 7]])"
      ]
     },
     "execution_count": 4,
     "metadata": {},
     "output_type": "execute_result"
    }
   ],
   "source": [
    "a=[[2,6],[5,7]]\n",
    "np.array(a)"
   ]
  },
  {
   "cell_type": "markdown",
   "metadata": {},
   "source": [
    "## 先来一个例子爽一爽\n",
    "![](../Photo/115.png)"
   ]
  },
  {
   "cell_type": "markdown",
   "metadata": {},
   "source": [
    "## 创建一个列表\n",
    "- a = [1,2,3,4,5]"
   ]
  },
  {
   "cell_type": "markdown",
   "metadata": {},
   "source": [
    "## 列表的一般操作\n",
    "![](../Photo/116.png)"
   ]
  },
  {
   "cell_type": "code",
   "execution_count": 7,
   "metadata": {},
   "outputs": [
    {
     "data": {
      "text/plain": [
       "True"
      ]
     },
     "execution_count": 7,
     "metadata": {},
     "output_type": "execute_result"
    }
   ],
   "source": [
    "a=[1,4,2,'gd',6,8,9,4,'fgh']\n",
    "b='hdhf'\n",
    "b not in a\n"
   ]
  },
  {
   "cell_type": "code",
   "execution_count": 8,
   "metadata": {},
   "outputs": [
    {
     "data": {
      "text/plain": [
       "True"
      ]
     },
     "execution_count": 8,
     "metadata": {},
     "output_type": "execute_result"
    }
   ],
   "source": [
    "a=[1,4,2,'gd',6,8,9,4,'fgh']\n",
    "c='gd'\n",
    "c in a"
   ]
  },
  {
   "cell_type": "code",
   "execution_count": 10,
   "metadata": {},
   "outputs": [
    {
     "data": {
      "text/plain": [
       "[3]"
      ]
     },
     "execution_count": 10,
     "metadata": {},
     "output_type": "execute_result"
    }
   ],
   "source": [
    "a=[3]\n",
    "b=[]\n",
    "a+b"
   ]
  },
  {
   "cell_type": "code",
   "execution_count": 11,
   "metadata": {},
   "outputs": [
    {
     "data": {
      "text/plain": [
       "15"
      ]
     },
     "execution_count": 11,
     "metadata": {},
     "output_type": "execute_result"
    }
   ],
   "source": [
    "a=5\n",
    "b=3\n",
    "a*b"
   ]
  },
  {
   "cell_type": "code",
   "execution_count": 12,
   "metadata": {},
   "outputs": [
    {
     "data": {
      "text/plain": [
       "6"
      ]
     },
     "execution_count": 12,
     "metadata": {},
     "output_type": "execute_result"
    }
   ],
   "source": [
    "a=[1,2,4,1,0,2,6]\n",
    "a[-1] #相当于len -1"
   ]
  },
  {
   "cell_type": "code",
   "execution_count": 18,
   "metadata": {},
   "outputs": [
    {
     "data": {
      "text/plain": [
       "[2, 4]"
      ]
     },
     "execution_count": 18,
     "metadata": {},
     "output_type": "execute_result"
    }
   ],
   "source": [
    "a=[1,2,4,5]\n",
    "a[1:3]"
   ]
  },
  {
   "cell_type": "code",
   "execution_count": 24,
   "metadata": {},
   "outputs": [
    {
     "data": {
      "text/plain": [
       "[5, 4, 2]"
      ]
     },
     "execution_count": 24,
     "metadata": {},
     "output_type": "execute_result"
    }
   ],
   "source": [
    "a=[1,2,4,5]\n",
    "a[3:0:-1]  #'5'的索引是3，若取大于3的数，默认是最后一位"
   ]
  },
  {
   "cell_type": "code",
   "execution_count": 25,
   "metadata": {},
   "outputs": [
    {
     "data": {
      "text/plain": [
       "[5, 4, 2]"
      ]
     },
     "execution_count": 25,
     "metadata": {},
     "output_type": "execute_result"
    }
   ],
   "source": [
    "a=[1,2,4,5]\n",
    "a[9:0:-1]  #'5'的索引是3，若取大于3的数，默认是最后一位"
   ]
  },
  {
   "cell_type": "code",
   "execution_count": 29,
   "metadata": {},
   "outputs": [
    {
     "data": {
      "text/plain": [
       "[5, 4, 2, 1]"
      ]
     },
     "execution_count": 29,
     "metadata": {},
     "output_type": "execute_result"
    }
   ],
   "source": [
    "a=[1,2,4,5]\n",
    "a[::-1] "
   ]
  },
  {
   "cell_type": "code",
   "execution_count": 28,
   "metadata": {},
   "outputs": [
    {
     "data": {
      "text/plain": [
       "[5, 2]"
      ]
     },
     "execution_count": 28,
     "metadata": {},
     "output_type": "execute_result"
    }
   ],
   "source": [
    "a=[1,2,4,5]\n",
    "a[::-2] "
   ]
  },
  {
   "cell_type": "code",
   "execution_count": 30,
   "metadata": {},
   "outputs": [
    {
     "data": {
      "text/plain": [
       "[1, 4]"
      ]
     },
     "execution_count": 30,
     "metadata": {},
     "output_type": "execute_result"
    }
   ],
   "source": [
    "a=[1,2,4,5]\n",
    "a[0:3:2] "
   ]
  },
  {
   "cell_type": "code",
   "execution_count": 32,
   "metadata": {
    "scrolled": true
   },
   "outputs": [
    {
     "data": {
      "text/plain": [
       "984"
      ]
     },
     "execution_count": 32,
     "metadata": {},
     "output_type": "execute_result"
    }
   ],
   "source": [
    "a=[26,455,54,[534,45,984],[43,876,323]]  #嵌套的列表\n",
    "a[3][2]"
   ]
  },
  {
   "cell_type": "raw",
   "metadata": {},
   "source": [
    "三阶矩阵    0,1,2\n",
    "         3,4,5\n",
    "         6,7,8 \n",
    "以下列方式输出    0,1    1,2    3,4    4,5\n",
    "             3,4    4,5    6,7    7,8 "
   ]
  },
  {
   "cell_type": "code",
   "execution_count": 33,
   "metadata": {},
   "outputs": [],
   "source": [
    "a=[[0,1,2],[3,4,5],[6,7,8]] "
   ]
  },
  {
   "cell_type": "code",
   "execution_count": 40,
   "metadata": {},
   "outputs": [
    {
     "name": "stdout",
     "output_type": "stream",
     "text": [
      "[0, 1]\n",
      "[3, 4]\n",
      "-----------\n",
      "[1, 2]\n",
      "[4, 5]\n",
      "-----------\n",
      "[3, 4]\n",
      "[6, 7]\n",
      "-----------\n",
      "[4, 5]\n",
      "[7, 8]\n",
      "-----------\n"
     ]
    }
   ],
   "source": [
    "for i in range(2):\n",
    "    for j in range(2):\n",
    "        print(a[i][j:j+2])\n",
    "        print(a[i+1][j:j+2])\n",
    "        print('-----------')"
   ]
  },
  {
   "cell_type": "code",
   "execution_count": null,
   "metadata": {},
   "outputs": [],
   "source": []
  },
  {
   "cell_type": "code",
   "execution_count": 34,
   "metadata": {},
   "outputs": [
    {
     "data": {
      "text/plain": [
       "array([[0, 1, 2],\n",
       "       [3, 4, 5],\n",
       "       [6, 7, 8]])"
      ]
     },
     "execution_count": 34,
     "metadata": {},
     "output_type": "execute_result"
    }
   ],
   "source": [
    "a=[[0,1,2],[3,4,5],[6,7,8]] \n",
    "aa=np.array(a)\n",
    "aa"
   ]
  },
  {
   "cell_type": "code",
   "execution_count": 41,
   "metadata": {},
   "outputs": [
    {
     "data": {
      "text/plain": [
       "6"
      ]
     },
     "execution_count": 41,
     "metadata": {},
     "output_type": "execute_result"
    }
   ],
   "source": [
    "a=[12,43,65,78,98,[34,54,23]]\n",
    "len(a)"
   ]
  },
  {
   "cell_type": "code",
   "execution_count": 4,
   "metadata": {},
   "outputs": [
    {
     "data": {
      "text/plain": [
       "4"
      ]
     },
     "execution_count": 4,
     "metadata": {},
     "output_type": "execute_result"
    }
   ],
   "source": [
    "a=[12,48,98,True]\n",
    "len(a)"
   ]
  },
  {
   "cell_type": "code",
   "execution_count": 7,
   "metadata": {},
   "outputs": [
    {
     "name": "stdout",
     "output_type": "stream",
     "text": [
      "12\n",
      "48\n",
      "98\n",
      "654\n",
      "[67, 87, 43]\n"
     ]
    }
   ],
   "source": [
    "a=[12,48,98,654,[67,87,43]]\n",
    "for i in a:\n",
    "    print(i)"
   ]
  },
  {
   "cell_type": "code",
   "execution_count": 8,
   "metadata": {},
   "outputs": [
    {
     "data": {
      "text/plain": [
       "True"
      ]
     },
     "execution_count": 8,
     "metadata": {},
     "output_type": "execute_result"
    }
   ],
   "source": [
    "a=[12,48,98,654]\n",
    "b=[56,76,23,74]\n",
    "a<b"
   ]
  },
  {
   "cell_type": "markdown",
   "metadata": {},
   "source": [
    "# 列表索引操作\n",
    "- Mylist[index]\n",
    "- 正序索引，逆序索引\n",
    "- 列表一定注意越界\n",
    "- ![](../Photo/117.png)"
   ]
  },
  {
   "cell_type": "markdown",
   "metadata": {},
   "source": [
    "## 列表切片操作\n",
    "- Mylist[start:end]\n",
    "- 正序切片，逆序切片"
   ]
  },
  {
   "cell_type": "markdown",
   "metadata": {},
   "source": [
    "## 列表 +、*、in 、not in"
   ]
  },
  {
   "cell_type": "markdown",
   "metadata": {},
   "source": [
    "## 使用for循环遍历元素\n",
    "- for 循环可以遍历一切可迭代元素"
   ]
  },
  {
   "cell_type": "code",
   "execution_count": 9,
   "metadata": {},
   "outputs": [
    {
     "name": "stdout",
     "output_type": "stream",
     "text": [
      "12\n",
      "48\n",
      "97\n",
      "831\n",
      "438\n",
      "654\n"
     ]
    }
   ],
   "source": [
    "a=[12,48,97,831,438,654]\n",
    "for i in a:\n",
    "    print(i)"
   ]
  },
  {
   "cell_type": "markdown",
   "metadata": {},
   "source": [
    "## EP：\n",
    "- 使用while 循环遍历列表"
   ]
  },
  {
   "cell_type": "code",
   "execution_count": 1,
   "metadata": {},
   "outputs": [
    {
     "name": "stdout",
     "output_type": "stream",
     "text": [
      "12\n",
      "48\n",
      "97\n",
      "831\n",
      "438\n",
      "654\n"
     ]
    }
   ],
   "source": [
    "a=[12,48,97,831,438,654]\n",
    "i=0\n",
    "while i<len(a):\n",
    "    print(a[i])\n",
    "    i+=1"
   ]
  },
  {
   "cell_type": "markdown",
   "metadata": {},
   "source": [
    "## 列表的比较\n",
    "- \\>,<,>=,<=,==,!="
   ]
  },
  {
   "cell_type": "markdown",
   "metadata": {},
   "source": [
    "## 列表生成式\n",
    "[x for x in range(10)]"
   ]
  },
  {
   "cell_type": "code",
   "execution_count": 2,
   "metadata": {},
   "outputs": [
    {
     "data": {
      "text/plain": [
       "[0, 1, 2, 3, 4, 5, 6, 7, 8, 9]"
      ]
     },
     "execution_count": 2,
     "metadata": {},
     "output_type": "execute_result"
    }
   ],
   "source": [
    "q=[x for x in range(10)]     #3种方法\n",
    "q"
   ]
  },
  {
   "cell_type": "code",
   "execution_count": 3,
   "metadata": {},
   "outputs": [
    {
     "data": {
      "text/plain": [
       "[100, 101, 102, 103, 104, 105, 106, 107, 108, 109]"
      ]
     },
     "execution_count": 3,
     "metadata": {},
     "output_type": "execute_result"
    }
   ],
   "source": [
    "q=[x +100 for x in range(10)]\n",
    "q"
   ]
  },
  {
   "cell_type": "code",
   "execution_count": 4,
   "metadata": {},
   "outputs": [
    {
     "data": {
      "text/plain": [
       "[0, 2, 4, 6, 8]"
      ]
     },
     "execution_count": 4,
     "metadata": {},
     "output_type": "execute_result"
    }
   ],
   "source": [
    "q=[x for x in range(10) if x%2==0]\n",
    "q"
   ]
  },
  {
   "cell_type": "code",
   "execution_count": null,
   "metadata": {},
   "outputs": [],
   "source": []
  },
  {
   "cell_type": "code",
   "execution_count": 6,
   "metadata": {},
   "outputs": [],
   "source": [
    "import random"
   ]
  },
  {
   "cell_type": "code",
   "execution_count": 7,
   "metadata": {},
   "outputs": [
    {
     "data": {
      "text/plain": [
       "[10, 7, 8, 7, 1, 3, 7, 5, 0, 3]"
      ]
     },
     "execution_count": 7,
     "metadata": {},
     "output_type": "execute_result"
    }
   ],
   "source": [
    "a=[random.randint (0,10) for i in range(10)]    #连续产生10个随机数\n",
    "a"
   ]
  },
  {
   "cell_type": "markdown",
   "metadata": {},
   "source": [
    "## 列表的方法\n",
    "![](../Photo/118.png)"
   ]
  },
  {
   "cell_type": "code",
   "execution_count": 10,
   "metadata": {},
   "outputs": [],
   "source": [
    "a=10     #追加\n",
    "b=[100]\n",
    "b.append(a)"
   ]
  },
  {
   "cell_type": "code",
   "execution_count": 11,
   "metadata": {},
   "outputs": [
    {
     "data": {
      "text/plain": [
       "[100, 10]"
      ]
     },
     "execution_count": 11,
     "metadata": {},
     "output_type": "execute_result"
    }
   ],
   "source": [
    "b"
   ]
  },
  {
   "cell_type": "code",
   "execution_count": null,
   "metadata": {},
   "outputs": [],
   "source": []
  },
  {
   "cell_type": "code",
   "execution_count": 22,
   "metadata": {},
   "outputs": [
    {
     "data": {
      "text/plain": [
       "[1, 2, 3, 4, 100, 200, 300, 400]"
      ]
     },
     "execution_count": 22,
     "metadata": {},
     "output_type": "execute_result"
    }
   ],
   "source": [
    "a=[1,2,3,4]     #b追加到a里\n",
    "b=[100,200,300,400]\n",
    "for i in b:\n",
    "    a.append(i)\n",
    "a"
   ]
  },
  {
   "cell_type": "code",
   "execution_count": 23,
   "metadata": {},
   "outputs": [
    {
     "data": {
      "text/plain": [
       "[1, 2, 3, 4, [200, 300]]"
      ]
     },
     "execution_count": 23,
     "metadata": {},
     "output_type": "execute_result"
    }
   ],
   "source": [
    "a=[1,2,3,4]     #追加到200,300\n",
    "b=[100,200,300,400]\n",
    "a.append(b[1:3])\n",
    "a"
   ]
  },
  {
   "cell_type": "code",
   "execution_count": 35,
   "metadata": {},
   "outputs": [
    {
     "data": {
      "text/plain": [
       "1"
      ]
     },
     "execution_count": 35,
     "metadata": {},
     "output_type": "execute_result"
    }
   ],
   "source": [
    "a=[2,3,4,[3,2,2,2],5,1,1,1]\n",
    "a.count(2)"
   ]
  },
  {
   "cell_type": "code",
   "execution_count": 36,
   "metadata": {},
   "outputs": [
    {
     "name": "stdout",
     "output_type": "stream",
     "text": [
      "3\n"
     ]
    }
   ],
   "source": [
    "for i in a:\n",
    "    if type(i) is list:\n",
    "        print (i.count(2))"
   ]
  },
  {
   "cell_type": "code",
   "execution_count": 37,
   "metadata": {},
   "outputs": [
    {
     "data": {
      "text/plain": [
       "[1, 2, 3, 4, 100, 200, 300, 400]"
      ]
     },
     "execution_count": 37,
     "metadata": {},
     "output_type": "execute_result"
    }
   ],
   "source": [
    "a=[1,2,3,4]    #合并起来\n",
    "b=[100,200,300,400]\n",
    "a.extend(b)\n",
    "a"
   ]
  },
  {
   "cell_type": "raw",
   "metadata": {},
   "source": []
  },
  {
   "cell_type": "raw",
   "metadata": {},
   "source": [
    "指定位置插入"
   ]
  },
  {
   "cell_type": "code",
   "execution_count": 39,
   "metadata": {},
   "outputs": [],
   "source": [
    "a=[1,2,3,4]    \n",
    "a.insert(0,100)"
   ]
  },
  {
   "cell_type": "code",
   "execution_count": 40,
   "metadata": {},
   "outputs": [
    {
     "data": {
      "text/plain": [
       "[100, 1, 2, 3, 4]"
      ]
     },
     "execution_count": 40,
     "metadata": {},
     "output_type": "execute_result"
    }
   ],
   "source": [
    "a"
   ]
  },
  {
   "cell_type": "code",
   "execution_count": 41,
   "metadata": {},
   "outputs": [],
   "source": [
    "a=[1,2,3,4]    \n",
    "a.insert(2,100)"
   ]
  },
  {
   "cell_type": "code",
   "execution_count": 42,
   "metadata": {},
   "outputs": [
    {
     "data": {
      "text/plain": [
       "[1, 2, 100, 3, 4]"
      ]
     },
     "execution_count": 42,
     "metadata": {},
     "output_type": "execute_result"
    }
   ],
   "source": [
    "a"
   ]
  },
  {
   "cell_type": "code",
   "execution_count": null,
   "metadata": {},
   "outputs": [],
   "source": []
  },
  {
   "cell_type": "code",
   "execution_count": 7,
   "metadata": {},
   "outputs": [],
   "source": [
    "a=[1,2,3,4,5,6,7,8,9]  #偶数加100\n",
    "c=[]"
   ]
  },
  {
   "cell_type": "code",
   "execution_count": 11,
   "metadata": {},
   "outputs": [
    {
     "data": {
      "text/plain": [
       "[1, 100, 2, 3, 100, 4, 5, 100, 6, 7, 100, 8, 9]"
      ]
     },
     "execution_count": 11,
     "metadata": {},
     "output_type": "execute_result"
    }
   ],
   "source": [
    "for i in a:\n",
    "    if i%2 == 0 and i !=100 and i not in c:\n",
    "        c.append(i)\n",
    "        index_=a.index(i)\n",
    "        a.insert(index_,100)\n",
    "a"
   ]
  },
  {
   "cell_type": "code",
   "execution_count": 17,
   "metadata": {},
   "outputs": [],
   "source": [
    "a=[1,2,3,4,5,6,7,8,9]  #偶数加100\n",
    "c=[]"
   ]
  },
  {
   "cell_type": "code",
   "execution_count": 18,
   "metadata": {},
   "outputs": [
    {
     "data": {
      "text/plain": [
       "[1, 100, 2, 3, 100, 4, 5, 100, 6, 7, 100, 8, 9]"
      ]
     },
     "execution_count": 18,
     "metadata": {},
     "output_type": "execute_result"
    }
   ],
   "source": [
    "num=0\n",
    "for i in range(len(a)):\n",
    "    if a[i + num] %2 == 0:\n",
    "        num2 = i + num\n",
    "        a.insert(num2,100)\n",
    "        num += 1\n",
    "a"
   ]
  },
  {
   "cell_type": "code",
   "execution_count": 25,
   "metadata": {},
   "outputs": [],
   "source": [
    "f=[1,2,3,4,1,5,1,1,1]\n",
    "f.remove(1)"
   ]
  },
  {
   "cell_type": "code",
   "execution_count": 27,
   "metadata": {},
   "outputs": [
    {
     "data": {
      "text/plain": [
       "[2, 3, 4, 1, 5, 1, 1, 1]"
      ]
     },
     "execution_count": 27,
     "metadata": {},
     "output_type": "execute_result"
    }
   ],
   "source": [
    "f"
   ]
  },
  {
   "cell_type": "markdown",
   "metadata": {},
   "source": [
    "## 将字符串分割成列表\n",
    "- split  按照自定义的内容拆分"
   ]
  },
  {
   "cell_type": "markdown",
   "metadata": {},
   "source": [
    "## EP:\n",
    "![](../Photo/119.png)\n",
    "![](../Photo/120.png)"
   ]
  },
  {
   "cell_type": "markdown",
   "metadata": {},
   "source": [
    "## 列表的复制\n",
    "- copy 浅复制\n",
    "- deepcopy import copy  深复制\n",
    "- http://www.pythontutor.com/visualize.html#mode=edit"
   ]
  },
  {
   "cell_type": "markdown",
   "metadata": {},
   "source": [
    "## 列表排序\n",
    "- sort\n",
    "- sorted\n",
    "- 列表的多级排序\n",
    "    - 匿名函数"
   ]
  },
  {
   "cell_type": "markdown",
   "metadata": {},
   "source": [
    "## EP：\n",
    "- 手动排序该列表[5,3,8,0,17]，以升序或者降序"
   ]
  },
  {
   "cell_type": "code",
   "execution_count": 1,
   "metadata": {},
   "outputs": [
    {
     "name": "stdout",
     "output_type": "stream",
     "text": [
      "123456789\n",
      "321\n"
     ]
    }
   ],
   "source": [
    "\n"
   ]
  },
  {
   "cell_type": "markdown",
   "metadata": {},
   "source": [
    "- 1\n",
    "![](../Photo/121.png)"
   ]
  },
  {
   "cell_type": "markdown",
   "metadata": {},
   "source": [
    "- 2\n",
    "![](../Photo/122.png)"
   ]
  },
  {
   "cell_type": "code",
   "execution_count": 2,
   "metadata": {},
   "outputs": [
    {
     "name": "stdout",
     "output_type": "stream",
     "text": [
      "345\n",
      "543\n"
     ]
    }
   ],
   "source": [
    "x = input()\n",
    "x = list(x)\n",
    "a = int(x[0])\n",
    "b = int(x[1])\n",
    "c = int(x[2])\n",
    "if c == 0:\n",
    "    if b == 0:   #取第三位\n",
    "        print(a)\n",
    "    else:\n",
    "        print(\"%d%d\" % (b, a))  #取第二位\n",
    "else:\n",
    "    print(\"%d%d%d\" % (c, b, a))"
   ]
  },
  {
   "cell_type": "markdown",
   "metadata": {},
   "source": [
    "- 3\n",
    "![](../Photo/123.png)"
   ]
  },
  {
   "cell_type": "code",
   "execution_count": 4,
   "metadata": {},
   "outputs": [
    {
     "name": "stdout",
     "output_type": "stream",
     "text": [
      "{2: 1, 3: 3, 5: 2, 9: 2}\n"
     ]
    }
   ],
   "source": [
    "List =[2,3,3,5,9,5,3,9]\n",
    "d1 = {}\n",
    "for i in List:\n",
    "    if List.count(i) >= 1:\n",
    "        d1[i] = List.count(i)\n",
    "print(d1)"
   ]
  },
  {
   "cell_type": "markdown",
   "metadata": {},
   "source": [
    "- 4\n",
    "![](../Photo/124.png)"
   ]
  },
  {
   "cell_type": "markdown",
   "metadata": {},
   "source": [
    "- 5\n",
    "![](../Photo/125.png)"
   ]
  },
  {
   "cell_type": "code",
   "execution_count": 5,
   "metadata": {},
   "outputs": [
    {
     "name": "stdout",
     "output_type": "stream",
     "text": [
      "[6, 5, 7, 3, 2, 9, 7, 8, 4, 5, 5, 5, 4, 2, 2, 9, 5, 7, 9, 2, 7, 8, 5, 0, 6, 4, 3, 4, 7, 3, 2, 6, 0, 9, 2, 1, 6, 4, 8, 1, 7, 7, 2, 3, 9, 1, 0, 7, 0, 1, 9, 2, 7, 2, 5, 3, 8, 3, 8, 8, 6, 2, 3, 2, 7, 7, 4, 3, 0, 3, 0, 2, 9, 8, 1, 2, 3, 1, 7, 8, 3, 6, 4, 4, 0, 0, 6, 8, 8, 8, 0, 4, 3, 1, 3, 8, 7, 5, 3, 1, 0, 6, 0, 0, 3, 6, 6, 9, 9, 9, 4, 3, 5, 1, 8, 7, 5, 4, 7, 7, 0, 1, 7, 3, 9, 0, 9, 0, 4, 9, 9, 9, 8, 0, 0, 2, 3, 7, 1, 5, 7, 9, 2, 4, 7, 9, 7, 6, 1, 6, 5, 1, 6, 0, 8, 7, 0, 7, 8, 3, 4, 9, 5, 6, 7, 6, 1, 6, 9, 1, 9, 1, 3, 0, 1, 4, 9, 1, 2, 8, 9, 7, 1, 2, 5, 3, 5, 9, 4, 4, 7, 6, 6, 2, 7, 2, 8, 1, 2, 8, 5, 9, 5, 2, 9, 3, 5, 6, 5, 6, 2, 7, 7, 4, 7, 5, 5, 7, 6, 0, 7, 2, 8, 3, 7, 7, 1, 8, 5, 8, 7, 8, 2, 0, 1, 1, 2, 5, 9, 5, 5, 2, 7, 2, 7, 1, 3, 1, 2, 3, 9, 8, 1, 5, 6, 1, 5, 7, 6, 6, 2, 5, 4, 2, 2, 7, 7, 9, 2, 7, 0, 5, 1, 4, 0, 4, 7, 7, 9, 1, 7, 1, 1, 5, 8, 3, 4, 6, 2, 6, 3, 2, 6, 7, 5, 6, 8, 8, 8, 8, 1, 2, 4, 6, 0, 5, 5, 1, 3, 6, 6, 6, 2, 8, 6, 9, 7, 9, 3, 6, 3, 0, 0, 7, 9, 8, 5, 2, 2, 8, 9, 4, 1, 2, 3, 9, 1, 3, 3, 7, 5, 1, 9, 4, 7, 9, 4, 6, 5, 4, 0, 6, 5, 1, 7, 5, 0, 1, 2, 0, 8, 7, 0, 9, 2, 6, 0, 8, 3, 7, 3, 4, 9, 4, 6, 7, 8, 9, 2, 1, 1, 3, 7, 1, 9, 1, 2, 8, 7, 0, 0, 3, 7, 3, 3, 5, 2, 5, 5, 0, 5, 4, 8, 4, 6, 0, 6, 3, 8, 7, 7, 2, 3, 9, 5, 2, 7, 9, 1, 8, 2, 5, 8, 6, 8, 5, 4, 0, 2, 5, 5, 3, 4, 8, 5, 1, 2, 4, 2, 5, 2, 2, 2, 1, 1, 5, 8, 5, 3, 0, 6, 1, 6, 2, 1, 4, 3, 3, 2, 7, 9, 6, 9, 3, 2, 6, 9, 8, 7, 0, 4, 7, 9, 4, 7, 7, 2, 6, 6, 1, 1, 9, 8, 3, 1, 6, 7, 3, 5, 1, 9, 8, 3, 9, 9, 4, 6, 2, 3, 3, 2, 7, 8, 1, 8, 9, 2, 5, 4, 1, 8, 7, 2, 1, 9, 8, 8, 7, 9, 8, 3, 9, 6, 0, 5, 7, 1, 0, 2, 9, 1, 1, 9, 0, 0, 8, 7, 4, 8, 5, 2, 6, 2, 4, 0, 4, 4, 5, 8, 6, 3, 3, 9, 7, 1, 7, 3, 5, 0, 4, 8, 8, 6, 4, 1, 2, 8, 8, 4, 4, 0, 8, 0, 4, 3, 6, 0, 1, 9, 0, 2, 5, 9, 6, 1, 5, 6, 2, 7, 7, 1, 3, 2, 2, 7, 3, 0, 9, 4, 0, 1, 1, 2, 7, 6, 1, 3, 3, 3, 5, 5, 0, 9, 9, 8, 0, 2, 1, 7, 1, 7, 5, 7, 3, 9, 4, 0, 0, 6, 7, 3, 4, 5, 2, 9, 1, 7, 5, 8, 8, 8, 4, 8, 0, 6, 5, 7, 8, 2, 4, 8, 1, 6, 3, 7, 5, 1, 9, 0, 1, 9, 5, 6, 0, 8, 9, 4, 7, 2, 8, 0, 4, 6, 7, 8, 9, 1, 6, 7, 1, 3, 1, 8, 4, 4, 0, 8, 7, 2, 3, 1, 1, 6, 8, 5, 1, 7, 4, 1, 6, 1, 4, 7, 3, 9, 2, 7, 9, 7, 4, 2, 3, 0, 5, 2, 5, 8, 9, 1, 9, 7, 8, 7, 1, 8, 7, 7, 3, 8, 8, 0, 7, 0, 1, 3, 9, 2, 4, 9, 1, 5, 9, 6, 1, 6, 4, 3, 3, 0, 5, 5, 4, 9, 8, 8, 3, 8, 6, 8, 3, 2, 7, 6, 0, 8, 0, 0, 7, 1, 8, 8, 0, 2, 0, 8, 7, 9, 7, 0, 3, 6, 6, 5, 0, 2, 2, 3, 2, 0, 1, 9, 6, 2, 5, 9, 5, 1, 9, 3, 7, 1, 0, 0, 0, 2, 3, 7, 3, 8, 6, 8, 3, 9, 0, 6, 4, 8, 1, 1, 4, 0, 8, 9, 0, 7, 9, 0, 5, 8, 0, 2, 1, 4, 8, 6, 7, 0, 4, 5, 4, 6, 9, 1, 4, 9, 8, 4, 4, 8, 1, 6, 0, 9, 4, 0, 7, 0, 1, 3, 0, 2, 2, 3, 0, 1, 1, 9, 2, 9, 5, 5, 5, 2, 0, 3, 5, 9, 6, 6, 0, 3, 4, 9, 8, 9, 7, 2, 1, 8, 1, 4, 9, 9, 4, 1, 2, 1, 4, 7, 6, 0, 7, 7, 4, 6, 4, 2, 9, 1, 1, 0, 4, 6, 5, 9, 2, 5, 2, 9, 1, 9, 3, 1, 3, 3, 6, 1, 4, 8, 6, 1, 8, 1, 3, 8, 5, 8, 2, 1, 1, 9, 8, 7, 5, 3, 7, 7, 4, 6, 5, 1, 7, 5, 0, 0, 4, 8, 3, 0, 0, 9, 2, 1, 1, 7, 9, 9, 6, 6, 7, 0, 3, 4, 3, 1, 6, 0, 8, 0, 3, 3, 8, 9, 5, 0, 5, 4, 7, 1, 4, 3, 6, 8, 5, 9, 3, 8, 5, 8, 2]\n",
      "89 numbers 6 in this list\n",
      "92 numbers 5 in this list\n",
      "116 numbers 7 in this list\n",
      "96 numbers 3 in this list\n",
      "99 numbers 2 in this list\n",
      "103 numbers 9 in this list\n",
      "116 numbers 7 in this list\n",
      "107 numbers 8 in this list\n",
      "85 numbers 4 in this list\n",
      "92 numbers 5 in this list\n",
      "92 numbers 5 in this list\n",
      "92 numbers 5 in this list\n",
      "85 numbers 4 in this list\n",
      "99 numbers 2 in this list\n",
      "99 numbers 2 in this list\n",
      "103 numbers 9 in this list\n",
      "92 numbers 5 in this list\n",
      "116 numbers 7 in this list\n",
      "103 numbers 9 in this list\n",
      "99 numbers 2 in this list\n",
      "116 numbers 7 in this list\n",
      "107 numbers 8 in this list\n",
      "92 numbers 5 in this list\n",
      "98 numbers 0 in this list\n",
      "89 numbers 6 in this list\n",
      "85 numbers 4 in this list\n",
      "96 numbers 3 in this list\n",
      "85 numbers 4 in this list\n",
      "116 numbers 7 in this list\n",
      "96 numbers 3 in this list\n",
      "99 numbers 2 in this list\n",
      "89 numbers 6 in this list\n",
      "98 numbers 0 in this list\n",
      "103 numbers 9 in this list\n",
      "99 numbers 2 in this list\n",
      "115 numbers 1 in this list\n",
      "89 numbers 6 in this list\n",
      "85 numbers 4 in this list\n",
      "107 numbers 8 in this list\n",
      "115 numbers 1 in this list\n",
      "116 numbers 7 in this list\n",
      "116 numbers 7 in this list\n",
      "99 numbers 2 in this list\n",
      "96 numbers 3 in this list\n",
      "103 numbers 9 in this list\n",
      "115 numbers 1 in this list\n",
      "98 numbers 0 in this list\n",
      "116 numbers 7 in this list\n",
      "98 numbers 0 in this list\n",
      "115 numbers 1 in this list\n",
      "103 numbers 9 in this list\n",
      "99 numbers 2 in this list\n",
      "116 numbers 7 in this list\n",
      "99 numbers 2 in this list\n",
      "92 numbers 5 in this list\n",
      "96 numbers 3 in this list\n",
      "107 numbers 8 in this list\n",
      "96 numbers 3 in this list\n",
      "107 numbers 8 in this list\n",
      "107 numbers 8 in this list\n",
      "89 numbers 6 in this list\n",
      "99 numbers 2 in this list\n",
      "96 numbers 3 in this list\n",
      "99 numbers 2 in this list\n",
      "116 numbers 7 in this list\n",
      "116 numbers 7 in this list\n",
      "85 numbers 4 in this list\n",
      "96 numbers 3 in this list\n",
      "98 numbers 0 in this list\n",
      "96 numbers 3 in this list\n",
      "98 numbers 0 in this list\n",
      "99 numbers 2 in this list\n",
      "103 numbers 9 in this list\n",
      "107 numbers 8 in this list\n",
      "115 numbers 1 in this list\n",
      "99 numbers 2 in this list\n",
      "96 numbers 3 in this list\n",
      "115 numbers 1 in this list\n",
      "116 numbers 7 in this list\n",
      "107 numbers 8 in this list\n",
      "96 numbers 3 in this list\n",
      "89 numbers 6 in this list\n",
      "85 numbers 4 in this list\n",
      "85 numbers 4 in this list\n",
      "98 numbers 0 in this list\n",
      "98 numbers 0 in this list\n",
      "89 numbers 6 in this list\n",
      "107 numbers 8 in this list\n",
      "107 numbers 8 in this list\n",
      "107 numbers 8 in this list\n",
      "98 numbers 0 in this list\n",
      "85 numbers 4 in this list\n",
      "96 numbers 3 in this list\n",
      "115 numbers 1 in this list\n",
      "96 numbers 3 in this list\n",
      "107 numbers 8 in this list\n",
      "116 numbers 7 in this list\n",
      "92 numbers 5 in this list\n",
      "96 numbers 3 in this list\n",
      "115 numbers 1 in this list\n",
      "98 numbers 0 in this list\n",
      "89 numbers 6 in this list\n",
      "98 numbers 0 in this list\n",
      "98 numbers 0 in this list\n",
      "96 numbers 3 in this list\n",
      "89 numbers 6 in this list\n",
      "89 numbers 6 in this list\n",
      "103 numbers 9 in this list\n",
      "103 numbers 9 in this list\n",
      "103 numbers 9 in this list\n",
      "85 numbers 4 in this list\n",
      "96 numbers 3 in this list\n",
      "92 numbers 5 in this list\n",
      "115 numbers 1 in this list\n",
      "107 numbers 8 in this list\n",
      "116 numbers 7 in this list\n",
      "92 numbers 5 in this list\n",
      "85 numbers 4 in this list\n",
      "116 numbers 7 in this list\n",
      "116 numbers 7 in this list\n",
      "98 numbers 0 in this list\n",
      "115 numbers 1 in this list\n",
      "116 numbers 7 in this list\n",
      "96 numbers 3 in this list\n",
      "103 numbers 9 in this list\n",
      "98 numbers 0 in this list\n",
      "103 numbers 9 in this list\n",
      "98 numbers 0 in this list\n",
      "85 numbers 4 in this list\n",
      "103 numbers 9 in this list\n",
      "103 numbers 9 in this list\n",
      "103 numbers 9 in this list\n",
      "107 numbers 8 in this list\n",
      "98 numbers 0 in this list\n",
      "98 numbers 0 in this list\n",
      "99 numbers 2 in this list\n",
      "96 numbers 3 in this list\n",
      "116 numbers 7 in this list\n",
      "115 numbers 1 in this list\n",
      "92 numbers 5 in this list\n",
      "116 numbers 7 in this list\n",
      "103 numbers 9 in this list\n",
      "99 numbers 2 in this list\n",
      "85 numbers 4 in this list\n",
      "116 numbers 7 in this list\n",
      "103 numbers 9 in this list\n",
      "116 numbers 7 in this list\n",
      "89 numbers 6 in this list\n",
      "115 numbers 1 in this list\n",
      "89 numbers 6 in this list\n",
      "92 numbers 5 in this list\n",
      "115 numbers 1 in this list\n",
      "89 numbers 6 in this list\n",
      "98 numbers 0 in this list\n",
      "107 numbers 8 in this list\n",
      "116 numbers 7 in this list\n",
      "98 numbers 0 in this list\n",
      "116 numbers 7 in this list\n",
      "107 numbers 8 in this list\n",
      "96 numbers 3 in this list\n",
      "85 numbers 4 in this list\n",
      "103 numbers 9 in this list\n",
      "92 numbers 5 in this list\n",
      "89 numbers 6 in this list\n",
      "116 numbers 7 in this list\n",
      "89 numbers 6 in this list\n",
      "115 numbers 1 in this list\n",
      "89 numbers 6 in this list\n",
      "103 numbers 9 in this list\n",
      "115 numbers 1 in this list\n",
      "103 numbers 9 in this list\n",
      "115 numbers 1 in this list\n",
      "96 numbers 3 in this list\n",
      "98 numbers 0 in this list\n",
      "115 numbers 1 in this list\n",
      "85 numbers 4 in this list\n",
      "103 numbers 9 in this list\n",
      "115 numbers 1 in this list\n",
      "99 numbers 2 in this list\n",
      "107 numbers 8 in this list\n",
      "103 numbers 9 in this list\n",
      "116 numbers 7 in this list\n",
      "115 numbers 1 in this list\n",
      "99 numbers 2 in this list\n",
      "92 numbers 5 in this list\n",
      "96 numbers 3 in this list\n",
      "92 numbers 5 in this list\n",
      "103 numbers 9 in this list\n",
      "85 numbers 4 in this list\n",
      "85 numbers 4 in this list\n",
      "116 numbers 7 in this list\n",
      "89 numbers 6 in this list\n",
      "89 numbers 6 in this list\n",
      "99 numbers 2 in this list\n",
      "116 numbers 7 in this list\n",
      "99 numbers 2 in this list\n",
      "107 numbers 8 in this list\n",
      "115 numbers 1 in this list\n",
      "99 numbers 2 in this list\n",
      "107 numbers 8 in this list\n",
      "92 numbers 5 in this list\n",
      "103 numbers 9 in this list\n",
      "92 numbers 5 in this list\n",
      "99 numbers 2 in this list\n",
      "103 numbers 9 in this list\n",
      "96 numbers 3 in this list\n",
      "92 numbers 5 in this list\n",
      "89 numbers 6 in this list\n",
      "92 numbers 5 in this list\n",
      "89 numbers 6 in this list\n",
      "99 numbers 2 in this list\n",
      "116 numbers 7 in this list\n",
      "116 numbers 7 in this list\n",
      "85 numbers 4 in this list\n",
      "116 numbers 7 in this list\n",
      "92 numbers 5 in this list\n",
      "92 numbers 5 in this list\n",
      "116 numbers 7 in this list\n",
      "89 numbers 6 in this list\n",
      "98 numbers 0 in this list\n",
      "116 numbers 7 in this list\n",
      "99 numbers 2 in this list\n",
      "107 numbers 8 in this list\n",
      "96 numbers 3 in this list\n",
      "116 numbers 7 in this list\n",
      "116 numbers 7 in this list\n",
      "115 numbers 1 in this list\n",
      "107 numbers 8 in this list\n",
      "92 numbers 5 in this list\n",
      "107 numbers 8 in this list\n",
      "116 numbers 7 in this list\n",
      "107 numbers 8 in this list\n",
      "99 numbers 2 in this list\n",
      "98 numbers 0 in this list\n",
      "115 numbers 1 in this list\n",
      "115 numbers 1 in this list\n",
      "99 numbers 2 in this list\n",
      "92 numbers 5 in this list\n",
      "103 numbers 9 in this list\n",
      "92 numbers 5 in this list\n",
      "92 numbers 5 in this list\n",
      "99 numbers 2 in this list\n",
      "116 numbers 7 in this list\n",
      "99 numbers 2 in this list\n",
      "116 numbers 7 in this list\n",
      "115 numbers 1 in this list\n",
      "96 numbers 3 in this list\n",
      "115 numbers 1 in this list\n",
      "99 numbers 2 in this list\n",
      "96 numbers 3 in this list\n",
      "103 numbers 9 in this list\n",
      "107 numbers 8 in this list\n",
      "115 numbers 1 in this list\n",
      "92 numbers 5 in this list\n",
      "89 numbers 6 in this list\n",
      "115 numbers 1 in this list\n",
      "92 numbers 5 in this list\n",
      "116 numbers 7 in this list\n",
      "89 numbers 6 in this list\n",
      "89 numbers 6 in this list\n",
      "99 numbers 2 in this list\n",
      "92 numbers 5 in this list\n",
      "85 numbers 4 in this list\n",
      "99 numbers 2 in this list\n",
      "99 numbers 2 in this list\n",
      "116 numbers 7 in this list\n",
      "116 numbers 7 in this list\n",
      "103 numbers 9 in this list\n",
      "99 numbers 2 in this list\n",
      "116 numbers 7 in this list\n",
      "98 numbers 0 in this list\n",
      "92 numbers 5 in this list\n",
      "115 numbers 1 in this list\n",
      "85 numbers 4 in this list\n",
      "98 numbers 0 in this list\n",
      "85 numbers 4 in this list\n",
      "116 numbers 7 in this list\n",
      "116 numbers 7 in this list\n",
      "103 numbers 9 in this list\n",
      "115 numbers 1 in this list\n",
      "116 numbers 7 in this list\n",
      "115 numbers 1 in this list\n",
      "115 numbers 1 in this list\n",
      "92 numbers 5 in this list\n",
      "107 numbers 8 in this list\n",
      "96 numbers 3 in this list\n",
      "85 numbers 4 in this list\n",
      "89 numbers 6 in this list\n",
      "99 numbers 2 in this list\n",
      "89 numbers 6 in this list\n",
      "96 numbers 3 in this list\n",
      "99 numbers 2 in this list\n",
      "89 numbers 6 in this list\n",
      "116 numbers 7 in this list\n",
      "92 numbers 5 in this list\n",
      "89 numbers 6 in this list\n",
      "107 numbers 8 in this list\n",
      "107 numbers 8 in this list\n",
      "107 numbers 8 in this list\n",
      "107 numbers 8 in this list\n",
      "115 numbers 1 in this list\n",
      "99 numbers 2 in this list\n",
      "85 numbers 4 in this list\n",
      "89 numbers 6 in this list\n",
      "98 numbers 0 in this list\n",
      "92 numbers 5 in this list\n",
      "92 numbers 5 in this list\n",
      "115 numbers 1 in this list\n",
      "96 numbers 3 in this list\n",
      "89 numbers 6 in this list\n",
      "89 numbers 6 in this list\n",
      "89 numbers 6 in this list\n",
      "99 numbers 2 in this list\n",
      "107 numbers 8 in this list\n",
      "89 numbers 6 in this list\n",
      "103 numbers 9 in this list\n",
      "116 numbers 7 in this list\n",
      "103 numbers 9 in this list\n",
      "96 numbers 3 in this list\n",
      "89 numbers 6 in this list\n",
      "96 numbers 3 in this list\n",
      "98 numbers 0 in this list\n",
      "98 numbers 0 in this list\n",
      "116 numbers 7 in this list\n",
      "103 numbers 9 in this list\n",
      "107 numbers 8 in this list\n",
      "92 numbers 5 in this list\n",
      "99 numbers 2 in this list\n",
      "99 numbers 2 in this list\n",
      "107 numbers 8 in this list\n",
      "103 numbers 9 in this list\n",
      "85 numbers 4 in this list\n",
      "115 numbers 1 in this list\n",
      "99 numbers 2 in this list\n",
      "96 numbers 3 in this list\n",
      "103 numbers 9 in this list\n",
      "115 numbers 1 in this list\n",
      "96 numbers 3 in this list\n",
      "96 numbers 3 in this list\n",
      "116 numbers 7 in this list\n",
      "92 numbers 5 in this list\n",
      "115 numbers 1 in this list\n",
      "103 numbers 9 in this list\n",
      "85 numbers 4 in this list\n",
      "116 numbers 7 in this list\n",
      "103 numbers 9 in this list\n",
      "85 numbers 4 in this list\n",
      "89 numbers 6 in this list\n",
      "92 numbers 5 in this list\n",
      "85 numbers 4 in this list\n",
      "98 numbers 0 in this list\n",
      "89 numbers 6 in this list\n",
      "92 numbers 5 in this list\n",
      "115 numbers 1 in this list\n",
      "116 numbers 7 in this list\n",
      "92 numbers 5 in this list\n",
      "98 numbers 0 in this list\n",
      "115 numbers 1 in this list\n",
      "99 numbers 2 in this list\n",
      "98 numbers 0 in this list\n",
      "107 numbers 8 in this list\n",
      "116 numbers 7 in this list\n",
      "98 numbers 0 in this list\n",
      "103 numbers 9 in this list\n",
      "99 numbers 2 in this list\n",
      "89 numbers 6 in this list\n",
      "98 numbers 0 in this list\n",
      "107 numbers 8 in this list\n",
      "96 numbers 3 in this list\n",
      "116 numbers 7 in this list\n",
      "96 numbers 3 in this list\n",
      "85 numbers 4 in this list\n",
      "103 numbers 9 in this list\n",
      "85 numbers 4 in this list\n",
      "89 numbers 6 in this list\n",
      "116 numbers 7 in this list\n",
      "107 numbers 8 in this list\n",
      "103 numbers 9 in this list\n",
      "99 numbers 2 in this list\n",
      "115 numbers 1 in this list\n",
      "115 numbers 1 in this list\n",
      "96 numbers 3 in this list\n",
      "116 numbers 7 in this list\n",
      "115 numbers 1 in this list\n",
      "103 numbers 9 in this list\n",
      "115 numbers 1 in this list\n",
      "99 numbers 2 in this list\n",
      "107 numbers 8 in this list\n",
      "116 numbers 7 in this list\n",
      "98 numbers 0 in this list\n",
      "98 numbers 0 in this list\n",
      "96 numbers 3 in this list\n",
      "116 numbers 7 in this list\n",
      "96 numbers 3 in this list\n",
      "96 numbers 3 in this list\n",
      "92 numbers 5 in this list\n",
      "99 numbers 2 in this list\n",
      "92 numbers 5 in this list\n",
      "92 numbers 5 in this list\n",
      "98 numbers 0 in this list\n",
      "92 numbers 5 in this list\n",
      "85 numbers 4 in this list\n",
      "107 numbers 8 in this list\n",
      "85 numbers 4 in this list\n",
      "89 numbers 6 in this list\n",
      "98 numbers 0 in this list\n",
      "89 numbers 6 in this list\n",
      "96 numbers 3 in this list\n",
      "107 numbers 8 in this list\n",
      "116 numbers 7 in this list\n",
      "116 numbers 7 in this list\n",
      "99 numbers 2 in this list\n",
      "96 numbers 3 in this list\n",
      "103 numbers 9 in this list\n",
      "92 numbers 5 in this list\n",
      "99 numbers 2 in this list\n",
      "116 numbers 7 in this list\n",
      "103 numbers 9 in this list\n",
      "115 numbers 1 in this list\n",
      "107 numbers 8 in this list\n",
      "99 numbers 2 in this list\n",
      "92 numbers 5 in this list\n",
      "107 numbers 8 in this list\n",
      "89 numbers 6 in this list\n",
      "107 numbers 8 in this list\n",
      "92 numbers 5 in this list\n",
      "85 numbers 4 in this list\n",
      "98 numbers 0 in this list\n",
      "99 numbers 2 in this list\n",
      "92 numbers 5 in this list\n",
      "92 numbers 5 in this list\n",
      "96 numbers 3 in this list\n",
      "85 numbers 4 in this list\n",
      "107 numbers 8 in this list\n",
      "92 numbers 5 in this list\n",
      "115 numbers 1 in this list\n",
      "99 numbers 2 in this list\n",
      "85 numbers 4 in this list\n",
      "99 numbers 2 in this list\n",
      "92 numbers 5 in this list\n",
      "99 numbers 2 in this list\n",
      "99 numbers 2 in this list\n",
      "99 numbers 2 in this list\n",
      "115 numbers 1 in this list\n",
      "115 numbers 1 in this list\n",
      "92 numbers 5 in this list\n",
      "107 numbers 8 in this list\n",
      "92 numbers 5 in this list\n",
      "96 numbers 3 in this list\n",
      "98 numbers 0 in this list\n",
      "89 numbers 6 in this list\n",
      "115 numbers 1 in this list\n",
      "89 numbers 6 in this list\n",
      "99 numbers 2 in this list\n",
      "115 numbers 1 in this list\n",
      "85 numbers 4 in this list\n",
      "96 numbers 3 in this list\n",
      "96 numbers 3 in this list\n",
      "99 numbers 2 in this list\n",
      "116 numbers 7 in this list\n",
      "103 numbers 9 in this list\n",
      "89 numbers 6 in this list\n",
      "103 numbers 9 in this list\n",
      "96 numbers 3 in this list\n",
      "99 numbers 2 in this list\n",
      "89 numbers 6 in this list\n",
      "103 numbers 9 in this list\n",
      "107 numbers 8 in this list\n",
      "116 numbers 7 in this list\n",
      "98 numbers 0 in this list\n",
      "85 numbers 4 in this list\n",
      "116 numbers 7 in this list\n",
      "103 numbers 9 in this list\n",
      "85 numbers 4 in this list\n",
      "116 numbers 7 in this list\n",
      "116 numbers 7 in this list\n",
      "99 numbers 2 in this list\n",
      "89 numbers 6 in this list\n",
      "89 numbers 6 in this list\n",
      "115 numbers 1 in this list\n",
      "115 numbers 1 in this list\n",
      "103 numbers 9 in this list\n",
      "107 numbers 8 in this list\n",
      "96 numbers 3 in this list\n",
      "115 numbers 1 in this list\n",
      "89 numbers 6 in this list\n",
      "116 numbers 7 in this list\n",
      "96 numbers 3 in this list\n",
      "92 numbers 5 in this list\n",
      "115 numbers 1 in this list\n",
      "103 numbers 9 in this list\n",
      "107 numbers 8 in this list\n",
      "96 numbers 3 in this list\n",
      "103 numbers 9 in this list\n",
      "103 numbers 9 in this list\n",
      "85 numbers 4 in this list\n",
      "89 numbers 6 in this list\n",
      "99 numbers 2 in this list\n",
      "96 numbers 3 in this list\n",
      "96 numbers 3 in this list\n",
      "99 numbers 2 in this list\n",
      "116 numbers 7 in this list\n",
      "107 numbers 8 in this list\n",
      "115 numbers 1 in this list\n",
      "107 numbers 8 in this list\n",
      "103 numbers 9 in this list\n",
      "99 numbers 2 in this list\n",
      "92 numbers 5 in this list\n",
      "85 numbers 4 in this list\n",
      "115 numbers 1 in this list\n",
      "107 numbers 8 in this list\n",
      "116 numbers 7 in this list\n",
      "99 numbers 2 in this list\n",
      "115 numbers 1 in this list\n",
      "103 numbers 9 in this list\n",
      "107 numbers 8 in this list\n",
      "107 numbers 8 in this list\n",
      "116 numbers 7 in this list\n",
      "103 numbers 9 in this list\n",
      "107 numbers 8 in this list\n",
      "96 numbers 3 in this list\n",
      "103 numbers 9 in this list\n",
      "89 numbers 6 in this list\n",
      "98 numbers 0 in this list\n",
      "92 numbers 5 in this list\n",
      "116 numbers 7 in this list\n",
      "115 numbers 1 in this list\n",
      "98 numbers 0 in this list\n",
      "99 numbers 2 in this list\n",
      "103 numbers 9 in this list\n",
      "115 numbers 1 in this list\n",
      "115 numbers 1 in this list\n",
      "103 numbers 9 in this list\n",
      "98 numbers 0 in this list\n",
      "98 numbers 0 in this list\n",
      "107 numbers 8 in this list\n",
      "116 numbers 7 in this list\n",
      "85 numbers 4 in this list\n",
      "107 numbers 8 in this list\n",
      "92 numbers 5 in this list\n",
      "99 numbers 2 in this list\n",
      "89 numbers 6 in this list\n",
      "99 numbers 2 in this list\n",
      "85 numbers 4 in this list\n",
      "98 numbers 0 in this list\n",
      "85 numbers 4 in this list\n",
      "85 numbers 4 in this list\n",
      "92 numbers 5 in this list\n",
      "107 numbers 8 in this list\n",
      "89 numbers 6 in this list\n",
      "96 numbers 3 in this list\n",
      "96 numbers 3 in this list\n",
      "103 numbers 9 in this list\n",
      "116 numbers 7 in this list\n",
      "115 numbers 1 in this list\n",
      "116 numbers 7 in this list\n",
      "96 numbers 3 in this list\n",
      "92 numbers 5 in this list\n",
      "98 numbers 0 in this list\n",
      "85 numbers 4 in this list\n",
      "107 numbers 8 in this list\n",
      "107 numbers 8 in this list\n",
      "89 numbers 6 in this list\n",
      "85 numbers 4 in this list\n",
      "115 numbers 1 in this list\n",
      "99 numbers 2 in this list\n",
      "107 numbers 8 in this list\n",
      "107 numbers 8 in this list\n",
      "85 numbers 4 in this list\n",
      "85 numbers 4 in this list\n",
      "98 numbers 0 in this list\n",
      "107 numbers 8 in this list\n",
      "98 numbers 0 in this list\n",
      "85 numbers 4 in this list\n",
      "96 numbers 3 in this list\n",
      "89 numbers 6 in this list\n",
      "98 numbers 0 in this list\n",
      "115 numbers 1 in this list\n",
      "103 numbers 9 in this list\n",
      "98 numbers 0 in this list\n",
      "99 numbers 2 in this list\n",
      "92 numbers 5 in this list\n",
      "103 numbers 9 in this list\n",
      "89 numbers 6 in this list\n",
      "115 numbers 1 in this list\n",
      "92 numbers 5 in this list\n",
      "89 numbers 6 in this list\n",
      "99 numbers 2 in this list\n",
      "116 numbers 7 in this list\n",
      "116 numbers 7 in this list\n",
      "115 numbers 1 in this list\n",
      "96 numbers 3 in this list\n",
      "99 numbers 2 in this list\n",
      "99 numbers 2 in this list\n",
      "116 numbers 7 in this list\n",
      "96 numbers 3 in this list\n",
      "98 numbers 0 in this list\n",
      "103 numbers 9 in this list\n",
      "85 numbers 4 in this list\n",
      "98 numbers 0 in this list\n",
      "115 numbers 1 in this list\n",
      "115 numbers 1 in this list\n",
      "99 numbers 2 in this list\n",
      "116 numbers 7 in this list\n",
      "89 numbers 6 in this list\n",
      "115 numbers 1 in this list\n",
      "96 numbers 3 in this list\n",
      "96 numbers 3 in this list\n",
      "96 numbers 3 in this list\n",
      "92 numbers 5 in this list\n",
      "92 numbers 5 in this list\n",
      "98 numbers 0 in this list\n",
      "103 numbers 9 in this list\n",
      "103 numbers 9 in this list\n",
      "107 numbers 8 in this list\n",
      "98 numbers 0 in this list\n",
      "99 numbers 2 in this list\n",
      "115 numbers 1 in this list\n",
      "116 numbers 7 in this list\n",
      "115 numbers 1 in this list\n",
      "116 numbers 7 in this list\n",
      "92 numbers 5 in this list\n",
      "116 numbers 7 in this list\n",
      "96 numbers 3 in this list\n",
      "103 numbers 9 in this list\n",
      "85 numbers 4 in this list\n",
      "98 numbers 0 in this list\n",
      "98 numbers 0 in this list\n",
      "89 numbers 6 in this list\n",
      "116 numbers 7 in this list\n",
      "96 numbers 3 in this list\n",
      "85 numbers 4 in this list\n",
      "92 numbers 5 in this list\n",
      "99 numbers 2 in this list\n",
      "103 numbers 9 in this list\n",
      "115 numbers 1 in this list\n",
      "116 numbers 7 in this list\n",
      "92 numbers 5 in this list\n",
      "107 numbers 8 in this list\n",
      "107 numbers 8 in this list\n",
      "107 numbers 8 in this list\n",
      "85 numbers 4 in this list\n",
      "107 numbers 8 in this list\n",
      "98 numbers 0 in this list\n",
      "89 numbers 6 in this list\n",
      "92 numbers 5 in this list\n",
      "116 numbers 7 in this list\n",
      "107 numbers 8 in this list\n",
      "99 numbers 2 in this list\n",
      "85 numbers 4 in this list\n",
      "107 numbers 8 in this list\n",
      "115 numbers 1 in this list\n",
      "89 numbers 6 in this list\n",
      "96 numbers 3 in this list\n",
      "116 numbers 7 in this list\n",
      "92 numbers 5 in this list\n",
      "115 numbers 1 in this list\n",
      "103 numbers 9 in this list\n",
      "98 numbers 0 in this list\n",
      "115 numbers 1 in this list\n",
      "103 numbers 9 in this list\n",
      "92 numbers 5 in this list\n",
      "89 numbers 6 in this list\n",
      "98 numbers 0 in this list\n",
      "107 numbers 8 in this list\n",
      "103 numbers 9 in this list\n",
      "85 numbers 4 in this list\n",
      "116 numbers 7 in this list\n",
      "99 numbers 2 in this list\n",
      "107 numbers 8 in this list\n",
      "98 numbers 0 in this list\n",
      "85 numbers 4 in this list\n",
      "89 numbers 6 in this list\n",
      "116 numbers 7 in this list\n",
      "107 numbers 8 in this list\n",
      "103 numbers 9 in this list\n",
      "115 numbers 1 in this list\n",
      "89 numbers 6 in this list\n",
      "116 numbers 7 in this list\n",
      "115 numbers 1 in this list\n",
      "96 numbers 3 in this list\n",
      "115 numbers 1 in this list\n",
      "107 numbers 8 in this list\n",
      "85 numbers 4 in this list\n",
      "85 numbers 4 in this list\n",
      "98 numbers 0 in this list\n",
      "107 numbers 8 in this list\n",
      "116 numbers 7 in this list\n",
      "99 numbers 2 in this list\n",
      "96 numbers 3 in this list\n",
      "115 numbers 1 in this list\n",
      "115 numbers 1 in this list\n",
      "89 numbers 6 in this list\n",
      "107 numbers 8 in this list\n",
      "92 numbers 5 in this list\n",
      "115 numbers 1 in this list\n",
      "116 numbers 7 in this list\n",
      "85 numbers 4 in this list\n",
      "115 numbers 1 in this list\n",
      "89 numbers 6 in this list\n",
      "115 numbers 1 in this list\n",
      "85 numbers 4 in this list\n",
      "116 numbers 7 in this list\n",
      "96 numbers 3 in this list\n",
      "103 numbers 9 in this list\n",
      "99 numbers 2 in this list\n",
      "116 numbers 7 in this list\n",
      "103 numbers 9 in this list\n",
      "116 numbers 7 in this list\n",
      "85 numbers 4 in this list\n",
      "99 numbers 2 in this list\n",
      "96 numbers 3 in this list\n",
      "98 numbers 0 in this list\n",
      "92 numbers 5 in this list\n",
      "99 numbers 2 in this list\n",
      "92 numbers 5 in this list\n",
      "107 numbers 8 in this list\n",
      "103 numbers 9 in this list\n",
      "115 numbers 1 in this list\n",
      "103 numbers 9 in this list\n",
      "116 numbers 7 in this list\n",
      "107 numbers 8 in this list\n",
      "116 numbers 7 in this list\n",
      "115 numbers 1 in this list\n",
      "107 numbers 8 in this list\n",
      "116 numbers 7 in this list\n",
      "116 numbers 7 in this list\n",
      "96 numbers 3 in this list\n",
      "107 numbers 8 in this list\n",
      "107 numbers 8 in this list\n",
      "98 numbers 0 in this list\n",
      "116 numbers 7 in this list\n",
      "98 numbers 0 in this list\n",
      "115 numbers 1 in this list\n",
      "96 numbers 3 in this list\n",
      "103 numbers 9 in this list\n",
      "99 numbers 2 in this list\n",
      "85 numbers 4 in this list\n",
      "103 numbers 9 in this list\n",
      "115 numbers 1 in this list\n",
      "92 numbers 5 in this list\n",
      "103 numbers 9 in this list\n",
      "89 numbers 6 in this list\n",
      "115 numbers 1 in this list\n",
      "89 numbers 6 in this list\n",
      "85 numbers 4 in this list\n",
      "96 numbers 3 in this list\n",
      "96 numbers 3 in this list\n",
      "98 numbers 0 in this list\n",
      "92 numbers 5 in this list\n",
      "92 numbers 5 in this list\n",
      "85 numbers 4 in this list\n",
      "103 numbers 9 in this list\n",
      "107 numbers 8 in this list\n",
      "107 numbers 8 in this list\n",
      "96 numbers 3 in this list\n",
      "107 numbers 8 in this list\n",
      "89 numbers 6 in this list\n",
      "107 numbers 8 in this list\n",
      "96 numbers 3 in this list\n",
      "99 numbers 2 in this list\n",
      "116 numbers 7 in this list\n",
      "89 numbers 6 in this list\n",
      "98 numbers 0 in this list\n",
      "107 numbers 8 in this list\n",
      "98 numbers 0 in this list\n",
      "98 numbers 0 in this list\n",
      "116 numbers 7 in this list\n",
      "115 numbers 1 in this list\n",
      "107 numbers 8 in this list\n",
      "107 numbers 8 in this list\n",
      "98 numbers 0 in this list\n",
      "99 numbers 2 in this list\n",
      "98 numbers 0 in this list\n",
      "107 numbers 8 in this list\n",
      "116 numbers 7 in this list\n",
      "103 numbers 9 in this list\n",
      "116 numbers 7 in this list\n",
      "98 numbers 0 in this list\n",
      "96 numbers 3 in this list\n",
      "89 numbers 6 in this list\n",
      "89 numbers 6 in this list\n",
      "92 numbers 5 in this list\n",
      "98 numbers 0 in this list\n",
      "99 numbers 2 in this list\n",
      "99 numbers 2 in this list\n",
      "96 numbers 3 in this list\n",
      "99 numbers 2 in this list\n",
      "98 numbers 0 in this list\n",
      "115 numbers 1 in this list\n",
      "103 numbers 9 in this list\n",
      "89 numbers 6 in this list\n",
      "99 numbers 2 in this list\n",
      "92 numbers 5 in this list\n",
      "103 numbers 9 in this list\n",
      "92 numbers 5 in this list\n",
      "115 numbers 1 in this list\n",
      "103 numbers 9 in this list\n",
      "96 numbers 3 in this list\n",
      "116 numbers 7 in this list\n",
      "115 numbers 1 in this list\n",
      "98 numbers 0 in this list\n",
      "98 numbers 0 in this list\n",
      "98 numbers 0 in this list\n",
      "99 numbers 2 in this list\n",
      "96 numbers 3 in this list\n",
      "116 numbers 7 in this list\n",
      "96 numbers 3 in this list\n",
      "107 numbers 8 in this list\n",
      "89 numbers 6 in this list\n",
      "107 numbers 8 in this list\n",
      "96 numbers 3 in this list\n",
      "103 numbers 9 in this list\n",
      "98 numbers 0 in this list\n",
      "89 numbers 6 in this list\n",
      "85 numbers 4 in this list\n",
      "107 numbers 8 in this list\n",
      "115 numbers 1 in this list\n",
      "115 numbers 1 in this list\n",
      "85 numbers 4 in this list\n",
      "98 numbers 0 in this list\n",
      "107 numbers 8 in this list\n",
      "103 numbers 9 in this list\n",
      "98 numbers 0 in this list\n",
      "116 numbers 7 in this list\n",
      "103 numbers 9 in this list\n",
      "98 numbers 0 in this list\n",
      "92 numbers 5 in this list\n",
      "107 numbers 8 in this list\n",
      "98 numbers 0 in this list\n",
      "99 numbers 2 in this list\n",
      "115 numbers 1 in this list\n",
      "85 numbers 4 in this list\n",
      "107 numbers 8 in this list\n",
      "89 numbers 6 in this list\n",
      "116 numbers 7 in this list\n",
      "98 numbers 0 in this list\n",
      "85 numbers 4 in this list\n",
      "92 numbers 5 in this list\n",
      "85 numbers 4 in this list\n",
      "89 numbers 6 in this list\n",
      "103 numbers 9 in this list\n",
      "115 numbers 1 in this list\n",
      "85 numbers 4 in this list\n",
      "103 numbers 9 in this list\n",
      "107 numbers 8 in this list\n",
      "85 numbers 4 in this list\n",
      "85 numbers 4 in this list\n",
      "107 numbers 8 in this list\n",
      "115 numbers 1 in this list\n",
      "89 numbers 6 in this list\n",
      "98 numbers 0 in this list\n",
      "103 numbers 9 in this list\n",
      "85 numbers 4 in this list\n",
      "98 numbers 0 in this list\n",
      "116 numbers 7 in this list\n",
      "98 numbers 0 in this list\n",
      "115 numbers 1 in this list\n",
      "96 numbers 3 in this list\n",
      "98 numbers 0 in this list\n",
      "99 numbers 2 in this list\n",
      "99 numbers 2 in this list\n",
      "96 numbers 3 in this list\n"
     ]
    },
    {
     "name": "stdout",
     "output_type": "stream",
     "text": [
      "98 numbers 0 in this list\n",
      "115 numbers 1 in this list\n",
      "115 numbers 1 in this list\n",
      "103 numbers 9 in this list\n",
      "99 numbers 2 in this list\n",
      "103 numbers 9 in this list\n",
      "92 numbers 5 in this list\n",
      "92 numbers 5 in this list\n",
      "92 numbers 5 in this list\n",
      "99 numbers 2 in this list\n",
      "98 numbers 0 in this list\n",
      "96 numbers 3 in this list\n",
      "92 numbers 5 in this list\n",
      "103 numbers 9 in this list\n",
      "89 numbers 6 in this list\n",
      "89 numbers 6 in this list\n",
      "98 numbers 0 in this list\n",
      "96 numbers 3 in this list\n",
      "85 numbers 4 in this list\n",
      "103 numbers 9 in this list\n",
      "107 numbers 8 in this list\n",
      "103 numbers 9 in this list\n",
      "116 numbers 7 in this list\n",
      "99 numbers 2 in this list\n",
      "115 numbers 1 in this list\n",
      "107 numbers 8 in this list\n",
      "115 numbers 1 in this list\n",
      "85 numbers 4 in this list\n",
      "103 numbers 9 in this list\n",
      "103 numbers 9 in this list\n",
      "85 numbers 4 in this list\n",
      "115 numbers 1 in this list\n",
      "99 numbers 2 in this list\n",
      "115 numbers 1 in this list\n",
      "85 numbers 4 in this list\n",
      "116 numbers 7 in this list\n",
      "89 numbers 6 in this list\n",
      "98 numbers 0 in this list\n",
      "116 numbers 7 in this list\n",
      "116 numbers 7 in this list\n",
      "85 numbers 4 in this list\n",
      "89 numbers 6 in this list\n",
      "85 numbers 4 in this list\n",
      "99 numbers 2 in this list\n",
      "103 numbers 9 in this list\n",
      "115 numbers 1 in this list\n",
      "115 numbers 1 in this list\n",
      "98 numbers 0 in this list\n",
      "85 numbers 4 in this list\n",
      "89 numbers 6 in this list\n",
      "92 numbers 5 in this list\n",
      "103 numbers 9 in this list\n",
      "99 numbers 2 in this list\n",
      "92 numbers 5 in this list\n",
      "99 numbers 2 in this list\n",
      "103 numbers 9 in this list\n",
      "115 numbers 1 in this list\n",
      "103 numbers 9 in this list\n",
      "96 numbers 3 in this list\n",
      "115 numbers 1 in this list\n",
      "96 numbers 3 in this list\n",
      "96 numbers 3 in this list\n",
      "89 numbers 6 in this list\n",
      "115 numbers 1 in this list\n",
      "85 numbers 4 in this list\n",
      "107 numbers 8 in this list\n",
      "89 numbers 6 in this list\n",
      "115 numbers 1 in this list\n",
      "107 numbers 8 in this list\n",
      "115 numbers 1 in this list\n",
      "96 numbers 3 in this list\n",
      "107 numbers 8 in this list\n",
      "92 numbers 5 in this list\n",
      "107 numbers 8 in this list\n",
      "99 numbers 2 in this list\n",
      "115 numbers 1 in this list\n",
      "115 numbers 1 in this list\n",
      "103 numbers 9 in this list\n",
      "107 numbers 8 in this list\n",
      "116 numbers 7 in this list\n",
      "92 numbers 5 in this list\n",
      "96 numbers 3 in this list\n",
      "116 numbers 7 in this list\n",
      "116 numbers 7 in this list\n",
      "85 numbers 4 in this list\n",
      "89 numbers 6 in this list\n",
      "92 numbers 5 in this list\n",
      "115 numbers 1 in this list\n",
      "116 numbers 7 in this list\n",
      "92 numbers 5 in this list\n",
      "98 numbers 0 in this list\n",
      "98 numbers 0 in this list\n",
      "85 numbers 4 in this list\n",
      "107 numbers 8 in this list\n",
      "96 numbers 3 in this list\n",
      "98 numbers 0 in this list\n",
      "98 numbers 0 in this list\n",
      "103 numbers 9 in this list\n",
      "99 numbers 2 in this list\n",
      "115 numbers 1 in this list\n",
      "115 numbers 1 in this list\n",
      "116 numbers 7 in this list\n",
      "103 numbers 9 in this list\n",
      "103 numbers 9 in this list\n",
      "89 numbers 6 in this list\n",
      "89 numbers 6 in this list\n",
      "116 numbers 7 in this list\n",
      "98 numbers 0 in this list\n",
      "96 numbers 3 in this list\n",
      "85 numbers 4 in this list\n",
      "96 numbers 3 in this list\n",
      "115 numbers 1 in this list\n",
      "89 numbers 6 in this list\n",
      "98 numbers 0 in this list\n",
      "107 numbers 8 in this list\n",
      "98 numbers 0 in this list\n",
      "96 numbers 3 in this list\n",
      "96 numbers 3 in this list\n",
      "107 numbers 8 in this list\n",
      "103 numbers 9 in this list\n",
      "92 numbers 5 in this list\n",
      "98 numbers 0 in this list\n",
      "92 numbers 5 in this list\n",
      "85 numbers 4 in this list\n",
      "116 numbers 7 in this list\n",
      "115 numbers 1 in this list\n",
      "85 numbers 4 in this list\n",
      "96 numbers 3 in this list\n",
      "89 numbers 6 in this list\n",
      "107 numbers 8 in this list\n",
      "92 numbers 5 in this list\n",
      "103 numbers 9 in this list\n",
      "96 numbers 3 in this list\n",
      "107 numbers 8 in this list\n",
      "92 numbers 5 in this list\n",
      "107 numbers 8 in this list\n",
      "99 numbers 2 in this list\n"
     ]
    }
   ],
   "source": [
    "import random\n",
    "x = [random.randint(0,9) for i in range(0,1000)]\n",
    "print (x)\n",
    "for item in x:\n",
    "    if x.count(item) > 0:\n",
    "        print (x.count(item), \"numbers\", item, \"in this list\")\n",
    "    else:\n",
    "        print('没有重复的数字')"
   ]
  },
  {
   "cell_type": "markdown",
   "metadata": {},
   "source": [
    "- 6\n",
    "![](../Photo/126.png)"
   ]
  },
  {
   "cell_type": "markdown",
   "metadata": {},
   "source": [
    "- 7\n",
    "![](../Photo/127.png)\n",
    "![](../Photo/128.png)"
   ]
  },
  {
   "cell_type": "markdown",
   "metadata": {},
   "source": [
    "- 8\n",
    "![](../Photo/129.png)"
   ]
  },
  {
   "cell_type": "code",
   "execution_count": 6,
   "metadata": {},
   "outputs": [],
   "source": [
    "def func4(one_list):\n",
    "    result_list=[]  \n",
    "    temp_list=sorted(one_list) \n",
    "    i=0   \n",
    "    while i<len(temp_list):  \n",
    "        if temp_list[i] not in result_list:\n",
    "            result_list.append(temp_list[i])\n",
    "        else:     \n",
    "             i+=1\n",
    "    return result_list "
   ]
  },
  {
   "cell_type": "code",
   "execution_count": 7,
   "metadata": {},
   "outputs": [
    {
     "data": {
      "text/plain": [
       "[1, 2, 3]"
      ]
     },
     "execution_count": 7,
     "metadata": {},
     "output_type": "execute_result"
    }
   ],
   "source": [
    "func4([1,2,1,3])"
   ]
  },
  {
   "cell_type": "markdown",
   "metadata": {},
   "source": [
    "- 9\n",
    "![](../Photo/130.png)"
   ]
  },
  {
   "cell_type": "code",
   "execution_count": 8,
   "metadata": {},
   "outputs": [
    {
     "data": {
      "text/plain": [
       "[1, 2, 3, 5]"
      ]
     },
     "execution_count": 8,
     "metadata": {},
     "output_type": "execute_result"
    }
   ],
   "source": [
    "list=[1,5,2,3]\n",
    "sorted(list)"
   ]
  },
  {
   "cell_type": "markdown",
   "metadata": {},
   "source": [
    "- 10\n",
    "![](../Photo/131.png)"
   ]
  },
  {
   "cell_type": "markdown",
   "metadata": {},
   "source": [
    "- 11\n",
    "![](../Photo/132.png)"
   ]
  },
  {
   "cell_type": "markdown",
   "metadata": {},
   "source": [
    "- 12\n",
    "![](../Photo/133.png)"
   ]
  }
 ],
 "metadata": {
  "kernelspec": {
   "display_name": "Python 3",
   "language": "python",
   "name": "python3"
  },
  "language_info": {
   "codemirror_mode": {
    "name": "ipython",
    "version": 3
   },
   "file_extension": ".py",
   "mimetype": "text/x-python",
   "name": "python",
   "nbconvert_exporter": "python",
   "pygments_lexer": "ipython3",
   "version": "3.7.3"
  }
 },
 "nbformat": 4,
 "nbformat_minor": 2
}
