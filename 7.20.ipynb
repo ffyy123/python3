{
 "cells": [
  {
   "cell_type": "markdown",
   "metadata": {},
   "source": [
    "# 函数\n",
    "\n",
    "- 函数可以用来定义可重复代码，组织和简化\n",
    "- 一般来说一个函数在实际开发中为一个小功能\n",
    "- 一个类为一个大功能\n",
    "- 同样函数的长度不要超过一屏"
   ]
  },
  {
   "cell_type": "code",
   "execution_count": 10,
   "metadata": {},
   "outputs": [],
   "source": [
    "def JJ():     #定义 JJ 函数\n",
    "    print(\"Hello\")\n",
    "    return 100   #如果不给返回值，则返回None"
   ]
  },
  {
   "cell_type": "code",
   "execution_count": 11,
   "metadata": {
    "scrolled": true
   },
   "outputs": [
    {
     "name": "stdout",
     "output_type": "stream",
     "text": [
      "Hello\n"
     ]
    },
    {
     "data": {
      "text/plain": [
       "100"
      ]
     },
     "execution_count": 11,
     "metadata": {},
     "output_type": "execute_result"
    }
   ],
   "source": [
    "JJ()     #调用这个函数"
   ]
  },
  {
   "cell_type": "code",
   "execution_count": 12,
   "metadata": {},
   "outputs": [
    {
     "name": "stdout",
     "output_type": "stream",
     "text": [
      "Hello\n",
      "100\n"
     ]
    }
   ],
   "source": [
    "a=JJ()\n",
    "print(a)"
   ]
  },
  {
   "cell_type": "code",
   "execution_count": null,
   "metadata": {},
   "outputs": [],
   "source": []
  },
  {
   "cell_type": "code",
   "execution_count": 13,
   "metadata": {},
   "outputs": [],
   "source": [
    "def JJ():     #定义 JJ 函数\n",
    "    print(\"Hello\")\n",
    "       #没有返回值,返回None"
   ]
  },
  {
   "cell_type": "code",
   "execution_count": 14,
   "metadata": {},
   "outputs": [
    {
     "name": "stdout",
     "output_type": "stream",
     "text": [
      "Hello\n",
      "None\n"
     ]
    }
   ],
   "source": [
    "a=JJ()\n",
    "print(a)"
   ]
  },
  {
   "cell_type": "raw",
   "metadata": {},
   "source": [
    "python中的所有函数实际上都是有返回值（return None）,\n",
    "如果你没有设置return，那么python将不显示None\n",
    "如果你设置return，那么将返回return这个值"
   ]
  },
  {
   "cell_type": "code",
   "execution_count": null,
   "metadata": {},
   "outputs": [],
   "source": []
  },
  {
   "cell_type": "code",
   "execution_count": 15,
   "metadata": {},
   "outputs": [],
   "source": [
    "def max_(num1,num2):\n",
    "    if num1>num2:\n",
    "        return num1\n",
    "    else:\n",
    "        return num2"
   ]
  },
  {
   "cell_type": "code",
   "execution_count": 16,
   "metadata": {},
   "outputs": [
    {
     "data": {
      "text/plain": [
       "4"
      ]
     },
     "execution_count": 16,
     "metadata": {},
     "output_type": "execute_result"
    }
   ],
   "source": [
    "max_(2,4)"
   ]
  },
  {
   "cell_type": "code",
   "execution_count": 17,
   "metadata": {},
   "outputs": [
    {
     "data": {
      "text/plain": [
       "98"
      ]
     },
     "execution_count": 17,
     "metadata": {},
     "output_type": "execute_result"
    }
   ],
   "source": [
    "max(19,98,74,89)"
   ]
  },
  {
   "cell_type": "code",
   "execution_count": 1,
   "metadata": {},
   "outputs": [
    {
     "name": "stdout",
     "output_type": "stream",
     "text": [
      "请输入一个整数：45\n",
      "奇数\n"
     ]
    }
   ],
   "source": [
    "#奇偶数\n",
    "def jio(num):\n",
    "    if num%2==0:\n",
    "        print('偶数')\n",
    "    else:\n",
    "        print('奇数')\n",
    "a=eval(input('请输入一个整数：'))\n",
    "jio(a)"
   ]
  },
  {
   "cell_type": "code",
   "execution_count": 1,
   "metadata": {},
   "outputs": [],
   "source": [
    "import random"
   ]
  },
  {
   "cell_type": "code",
   "execution_count": 2,
   "metadata": {},
   "outputs": [
    {
     "name": "stdout",
     "output_type": "stream",
     "text": [
      "4lTx\n",
      "请输入验证码：sdfg\n",
      "输入错误，请重新输入\n",
      "Gmw8\n",
      "请输入验证码：Gmw8\n",
      "输入正确\n"
     ]
    }
   ],
   "source": [
    "#验证码\n",
    "def yzm():\n",
    "    y=''\n",
    "    for j in range(0,4):\n",
    "        a=random.randint(1,3)\n",
    "        if a==1:\n",
    "            b=random.randint(97,122)\n",
    "            i=chr(b)\n",
    "        elif a==2:\n",
    "            b=random.randint(65,90)\n",
    "            i=chr(b)\n",
    "        else:\n",
    "            b=random.randint(0,9)\n",
    "            i=str(b)\n",
    "        y+=i\n",
    "    return y\n",
    "while 1:\n",
    "    yzm_=yzm()\n",
    "    print(yzm_)\n",
    "    shuru=input('请输入验证码：')\n",
    "    if shuru == yzm_:\n",
    "        print('输入正确')\n",
    "        break\n",
    "    else:\n",
    "        print('输入错误，请重新输入')"
   ]
  },
  {
   "cell_type": "code",
   "execution_count": 18,
   "metadata": {},
   "outputs": [],
   "source": [
    "#三个数比大小\n",
    "def max_(num1,num2,num3):   \n",
    "    if num1>num2 and num1>num3:\n",
    "        return num1\n",
    "    elif num2>num1 and num2>num3:\n",
    "        return num2\n",
    "    elif num3>num1 and num3>num2:\n",
    "        return num3     "
   ]
  },
  {
   "cell_type": "code",
   "execution_count": 19,
   "metadata": {},
   "outputs": [],
   "source": [
    "def Good(name='FY'):\n",
    "    print(\"%s is a bad man !\"%name)"
   ]
  },
  {
   "cell_type": "code",
   "execution_count": 20,
   "metadata": {},
   "outputs": [],
   "source": [
    "def Good(name1='FY1',name2='FY2'):\n",
    "    print(\"%s is a bad man !\"%name)"
   ]
  },
  {
   "cell_type": "raw",
   "metadata": {},
   "source": [
    "函数的参数如果有默认值的情况，当你调用该函数时\n",
    "可以不给予参数值，\n",
    "\n",
    "\n",
    "带参数的默认值必须放在最后，否则会报错\n"
   ]
  },
  {
   "cell_type": "markdown",
   "metadata": {},
   "source": [
    "## 定义一个函数\n",
    "\n",
    "def function_name(list of parameters):\n",
    "    \n",
    "    do something\n",
    "![](../Photo/69.png)\n",
    "- 以前使用的random 或者range 或者print.. 其实都是函数或者类"
   ]
  },
  {
   "cell_type": "markdown",
   "metadata": {},
   "source": [
    "# 调用一个函数\n",
    "- functionName()\n",
    "- \"()\" 就代表调用"
   ]
  },
  {
   "cell_type": "markdown",
   "metadata": {},
   "source": [
    "![](../Photo/70.png)"
   ]
  },
  {
   "cell_type": "markdown",
   "metadata": {},
   "source": [
    "## 带返回值和不带返回值的函数\n",
    "- return 返回的内容\n",
    "- return 返回多个值\n",
    "- 一般情况下，在多个函数协同完成一个功能的时候，那么将会有返回值"
   ]
  },
  {
   "cell_type": "markdown",
   "metadata": {},
   "source": [
    "![](../Photo/71.png)\n",
    "\n",
    "- 当然也可以自定义返回None"
   ]
  },
  {
   "cell_type": "markdown",
   "metadata": {},
   "source": [
    "## EP：\n",
    "![](../Photo/72.png)"
   ]
  },
  {
   "cell_type": "raw",
   "metadata": {},
   "source": [
    "出现什么错误：\n",
    "上面 min(5,6)输出的是None，第二次min出来的是（51,6），即 n2是（51,6），if n2<None 这时不能比较了"
   ]
  },
  {
   "cell_type": "code",
   "execution_count": 21,
   "metadata": {},
   "outputs": [],
   "source": [
    "def fun1():\n",
    "    print('gegege')\n",
    "def fun2():\n",
    "    fun1()"
   ]
  },
  {
   "cell_type": "code",
   "execution_count": 22,
   "metadata": {},
   "outputs": [
    {
     "name": "stdout",
     "output_type": "stream",
     "text": [
      "gegege\n"
     ]
    }
   ],
   "source": [
    "fun2()"
   ]
  },
  {
   "cell_type": "raw",
   "metadata": {},
   "source": [
    "用函数方法写"
   ]
  },
  {
   "cell_type": "code",
   "execution_count": 23,
   "metadata": {},
   "outputs": [],
   "source": [
    "#判断奇数，偶数\n",
    "def hhhh(num_):\n",
    "    if num_ %2==0:\n",
    "        print(\"偶数\")\n",
    "    else:\n",
    "        print(\"奇数\")"
   ]
  },
  {
   "cell_type": "code",
   "execution_count": 24,
   "metadata": {},
   "outputs": [],
   "source": [
    "import random"
   ]
  },
  {
   "cell_type": "code",
   "execution_count": 25,
   "metadata": {},
   "outputs": [
    {
     "name": "stdout",
     "output_type": "stream",
     "text": [
      "验证码为: 9030\n",
      "<<4565\n",
      "验证码输入错误\n",
      "验证码为: 8339\n",
      "<<8339\n",
      "验证码输入正确\n"
     ]
    }
   ],
   "source": [
    "#验证码\n",
    "while 1:\n",
    "    number=random.randint(1000,9999)\n",
    "    print('验证码为:',number)\n",
    "    me = eval(input('<<'))\n",
    "    if number == me:\n",
    "        print('验证码输入正确')\n",
    "        break\n",
    "        #print('----')#如果break了，那么之后的都不运行\n",
    "    else:\n",
    "        print('验证码输入错误')"
   ]
  },
  {
   "cell_type": "markdown",
   "metadata": {},
   "source": [
    "# KNN算法\n",
    "# 读取图片，进行对比分析\n",
    "import matplotlib.pyplot as plt \n",
    "\n",
    "res = plt.imread('D:/rabbit.jpg')\n",
    "print(res)"
   ]
  },
  {
   "cell_type": "markdown",
   "metadata": {},
   "source": [
    "## 类型和关键字参数\n",
    "- 普通参数\n",
    "- 多个参数\n",
    "- 默认值参数\n",
    "- 不定长参数"
   ]
  },
  {
   "cell_type": "markdown",
   "metadata": {},
   "source": [
    "## 普通参数"
   ]
  },
  {
   "cell_type": "markdown",
   "metadata": {},
   "source": [
    "## 多个参数"
   ]
  },
  {
   "cell_type": "markdown",
   "metadata": {},
   "source": [
    "## 默认值参数\n",
    "- 默认参数只能放在最后  *之后的必须强制命名传入参数,* 之后的变量必须带参数名"
   ]
  },
  {
   "cell_type": "markdown",
   "metadata": {},
   "source": [
    "# 强制命名\n",
    "- *之后的必须强制命名传入参数,* 之后的变量必须带参数名"
   ]
  },
  {
   "cell_type": "code",
   "execution_count": 3,
   "metadata": {},
   "outputs": [
    {
     "name": "stdout",
     "output_type": "stream",
     "text": [
      "(1, 2, 3, 4)\n",
      "()\n"
     ]
    }
   ],
   "source": [
    "def tt(*args):#可迭代\n",
    "    print(args)\n",
    "tt(1,2,3,4)\n",
    "tt()"
   ]
  },
  {
   "cell_type": "code",
   "execution_count": 4,
   "metadata": {},
   "outputs": [
    {
     "data": {
      "text/plain": [
       "3"
      ]
     },
     "execution_count": 4,
     "metadata": {},
     "output_type": "execute_result"
    }
   ],
   "source": [
    "def max_(*args):\n",
    "    for i in args:\n",
    "        a=1\n",
    "        for j in args:\n",
    "            if i<j:\n",
    "                a=0\n",
    "                break\n",
    "        if a==1:\n",
    "            return i\n",
    "max_(1,2,3)"
   ]
  },
  {
   "cell_type": "code",
   "execution_count": 5,
   "metadata": {},
   "outputs": [
    {
     "data": {
      "text/plain": [
       "6"
      ]
     },
     "execution_count": 5,
     "metadata": {},
     "output_type": "execute_result"
    }
   ],
   "source": [
    "def sum_(*args):\n",
    "    a=0\n",
    "    for i in args:\n",
    "        a+=i\n",
    "    return a\n",
    "sum_(1,2,3)"
   ]
  },
  {
   "cell_type": "code",
   "execution_count": 6,
   "metadata": {},
   "outputs": [
    {
     "data": {
      "text/plain": [
       "2.0"
      ]
     },
     "execution_count": 6,
     "metadata": {},
     "output_type": "execute_result"
    }
   ],
   "source": [
    "def mean_(*args):\n",
    "    a=0\n",
    "    for i in args:\n",
    "        a+=i\n",
    "    b=a/len(args)\n",
    "    return b\n",
    "mean_(1,2,3)"
   ]
  },
  {
   "cell_type": "code",
   "execution_count": 7,
   "metadata": {},
   "outputs": [],
   "source": [
    "def con(*args):\n",
    "    num1=0\n",
    "    num2=0\n",
    "    num3=0\n",
    "    for i in args:\n",
    "        a=ord(i)\n",
    "        if a>=65 and a<=90:\n",
    "            num1+=1\n",
    "        elif a>=97 and a<=122:\n",
    "            num2+=1\n",
    "        else:\n",
    "            num3+=1\n",
    "    print('%d 个大写，%d 个小写，%d 个数字'%(num1,num2,num3))"
   ]
  },
  {
   "cell_type": "code",
   "execution_count": 8,
   "metadata": {},
   "outputs": [
    {
     "name": "stdout",
     "output_type": "stream",
     "text": [
      "2 个大写，2 个小写，2 个数字\n"
     ]
    }
   ],
   "source": [
    "con('A','1','C','2','d','b')"
   ]
  },
  {
   "cell_type": "code",
   "execution_count": 31,
   "metadata": {},
   "outputs": [
    {
     "ename": "IndentationError",
     "evalue": "expected an indented block (<ipython-input-31-79c064106840>, line 12)",
     "output_type": "error",
     "traceback": [
      "\u001b[1;36m  File \u001b[1;32m\"<ipython-input-31-79c064106840>\"\u001b[1;36m, line \u001b[1;32m12\u001b[0m\n\u001b[1;33m    print(i)\u001b[0m\n\u001b[1;37m    ^\u001b[0m\n\u001b[1;31mIndentationError\u001b[0m\u001b[1;31m:\u001b[0m expected an indented block\n"
     ]
    }
   ],
   "source": [
    "#统计个数\n",
    "def U(str_):\n",
    "    for i in str_:\n",
    "        ASCII=ord(i)\n",
    "        if 97<=ASCII<=122:\n",
    "            xiaoxie+=1\n",
    "        elif xxxx:\n",
    "            \n",
    "            \n",
    "            \n",
    "            \n",
    "    print(i)"
   ]
  },
  {
   "cell_type": "markdown",
   "metadata": {},
   "source": [
    "## 不定长参数\n",
    "- \\*args, 不定长，输入多少参数都可以，不写入参数也可以\n",
    "> - 可以输入多个参数\n",
    "  - 返回输出结果的类型是元组类型，元组可以迭代，输入多少个参数都可以迭代来取出\n",
    "  - args 名字是可以修改的，只是通常约定为args\n",
    "- \\**kwargs, 不定长第二种\n",
    "> - 可以输入多个参数，但需要带参数名称\n",
    "  - 返回的数据类型是字典\n",
    "  - 输入的一定要是表达式(键值对)\n",
    "- 一般大的项目传入参数时，使用config文件一次写入所有的参数"
   ]
  },
  {
   "cell_type": "code",
   "execution_count": null,
   "metadata": {},
   "outputs": [],
   "source": []
  },
  {
   "cell_type": "markdown",
   "metadata": {},
   "source": [
    "### \\**kwargs, 不定长第二种\n",
    "- 第二种不定长参数传入方法，使用字典数据传入\n",
    "- 写入参数时，必须先写\\*args, 再写\\**kwargs。 这是固定写法"
   ]
  },
  {
   "cell_type": "code",
   "execution_count": 9,
   "metadata": {},
   "outputs": [
    {
     "name": "stdout",
     "output_type": "stream",
     "text": [
      "{'a': 100, 'b': 1000}\n"
     ]
    }
   ],
   "source": [
    "def tt (**kwargs):\n",
    "    print(kwargs)\n",
    "tt(a=100,b=1000)"
   ]
  },
  {
   "cell_type": "code",
   "execution_count": 10,
   "metadata": {},
   "outputs": [
    {
     "name": "stdout",
     "output_type": "stream",
     "text": [
      "(1, 2, 3, 4, 5)\n",
      "{'a': 100, 'b': 1}\n"
     ]
    }
   ],
   "source": [
    "def tt (*args,**kwargs):\n",
    "    print(args)\n",
    "    print(kwargs)\n",
    "tt(1,2,3,4,5,a=100,b=1)"
   ]
  },
  {
   "cell_type": "markdown",
   "metadata": {},
   "source": [
    "## 变量的作用域\n",
    "- 局部变量 local\n",
    "- 全局变量 global\n",
    "- globals 函数返回一个全局变量的字典，包括所有导入的变量\n",
    "- locals() 函数会以字典类型返回当前位置的全部局部变量。"
   ]
  },
  {
   "cell_type": "code",
   "execution_count": 26,
   "metadata": {},
   "outputs": [
    {
     "name": "stdout",
     "output_type": "stream",
     "text": [
      "1000\n"
     ]
    }
   ],
   "source": [
    "a=1000\n",
    "def Y():\n",
    "    print(a)\n",
    "Y()"
   ]
  },
  {
   "cell_type": "code",
   "execution_count": 27,
   "metadata": {},
   "outputs": [
    {
     "name": "stdout",
     "output_type": "stream",
     "text": [
      "1100\n"
     ]
    }
   ],
   "source": [
    "a=1000\n",
    "b=10\n",
    "def Y():\n",
    "    global a,b\n",
    "    a+=100\n",
    "    print(a)\n",
    "Y()"
   ]
  },
  {
   "cell_type": "code",
   "execution_count": 4,
   "metadata": {},
   "outputs": [
    {
     "data": {
      "text/plain": [
       "{'__name__': '__main__',\n",
       " '__doc__': 'Automatically created module for IPython interactive environment',\n",
       " '__package__': None,\n",
       " '__loader__': None,\n",
       " '__spec__': None,\n",
       " '__builtin__': <module 'builtins' (built-in)>,\n",
       " '__builtins__': <module 'builtins' (built-in)>,\n",
       " '_ih': ['',\n",
       "  'a=1000\\ndef Y():\\n    print(a)\\nY()',\n",
       "  'a=1000\\ndef Y():\\n    print(a)\\nY()',\n",
       "  'a=1000\\nb=10\\ndef Y():\\n    global a,b\\n    a+=100\\n    print(a)\\nY()',\n",
       "  'globals()'],\n",
       " '_oh': {},\n",
       " '_dh': ['C:\\\\Users\\\\ASUS\\\\Desktop\\\\Python\\\\7.20'],\n",
       " 'In': ['',\n",
       "  'a=1000\\ndef Y():\\n    print(a)\\nY()',\n",
       "  'a=1000\\ndef Y():\\n    print(a)\\nY()',\n",
       "  'a=1000\\nb=10\\ndef Y():\\n    global a,b\\n    a+=100\\n    print(a)\\nY()',\n",
       "  'globals()'],\n",
       " 'Out': {},\n",
       " 'get_ipython': <bound method InteractiveShell.get_ipython of <ipykernel.zmqshell.ZMQInteractiveShell object at 0x00000261225A03C8>>,\n",
       " 'exit': <IPython.core.autocall.ZMQExitAutocall at 0x261225b6978>,\n",
       " 'quit': <IPython.core.autocall.ZMQExitAutocall at 0x261225b6978>,\n",
       " '_': '',\n",
       " '__': '',\n",
       " '___': '',\n",
       " '_i': 'a=1000\\nb=10\\ndef Y():\\n    global a,b\\n    a+=100\\n    print(a)\\nY()',\n",
       " '_ii': 'a=1000\\ndef Y():\\n    print(a)\\nY()',\n",
       " '_iii': 'a=1000\\ndef Y():\\n    print(a)\\nY()',\n",
       " '_i1': 'a=1000\\ndef Y():\\n    print(a)\\nY()',\n",
       " 'a': 1100,\n",
       " 'Y': <function __main__.Y()>,\n",
       " '_i2': 'a=1000\\ndef Y():\\n    print(a)\\nY()',\n",
       " '_i3': 'a=1000\\nb=10\\ndef Y():\\n    global a,b\\n    a+=100\\n    print(a)\\nY()',\n",
       " 'b': 10,\n",
       " '_i4': 'globals()'}"
      ]
     },
     "execution_count": 4,
     "metadata": {},
     "output_type": "execute_result"
    }
   ],
   "source": [
    "globals()"
   ]
  },
  {
   "cell_type": "markdown",
   "metadata": {},
   "source": [
    "## 注意：\n",
    "- global ：在进行赋值操作的时候需要声明\n",
    "- 官方解释：This is because when you make an assignment to a variable in a scope, that variable becomes local to that scope and shadows any similarly named variable in the outer scope.\n",
    "- ![](../Photo/73.png)"
   ]
  },
  {
   "cell_type": "markdown",
   "metadata": {},
   "source": [
    "## EP：\n",
    "- 定义一个邮箱加密函数，使得输入邮箱后进行ASCII码加密\n",
    "- 定义一个判断其是否为闰年的函数\n",
    "- 函数的嵌套：定义两个函数A，B，B函数接受A函数的数值并判定是否为奇数或者偶数"
   ]
  },
  {
   "cell_type": "markdown",
   "metadata": {},
   "source": [
    "# Homework\n",
    "- 1\n",
    "![](../Photo/74.png)"
   ]
  },
  {
   "cell_type": "code",
   "execution_count": 16,
   "metadata": {},
   "outputs": [
    {
     "name": "stdout",
     "output_type": "stream",
     "text": [
      "1 5 12 22 35 51 70 92 117 145 \n",
      "176 210 247 287 330 376 425 477 532 590 \n",
      "651 715 782 852 925 1001 1080 1162 1247 1335 \n",
      "1426 1520 1617 1717 1820 1926 2035 2147 2262 2380 \n",
      "2501 2625 2752 2882 3015 3151 3290 3432 3577 3725 \n",
      "3876 4030 4187 4347 4510 4676 4845 5017 5192 5370 \n",
      "5551 5735 5922 6112 6305 6501 6700 6902 7107 7315 \n",
      "7526 7740 7957 8177 8400 8626 8855 9087 9322 9560 \n",
      "9801 10045 10292 10542 10795 11051 11310 11572 11837 12105 \n",
      "12376 12650 12927 13207 13490 13776 14065 14357 14652 14950 \n"
     ]
    }
   ],
   "source": [
    "def wujiao():\n",
    "    a=0\n",
    "    for i in range (1,101):\n",
    "        num=int(i*(3*i-1)/2)\n",
    "        print(num,end=' ')\n",
    "        a+=1\n",
    "        if a%10==0:\n",
    "            print()\n",
    "wujiao()"
   ]
  },
  {
   "cell_type": "markdown",
   "metadata": {},
   "source": [
    "- 2 \n",
    "![](../Photo/75.png)"
   ]
  },
  {
   "cell_type": "code",
   "execution_count": 1,
   "metadata": {},
   "outputs": [],
   "source": [
    "def sumdigits(n):\n",
    "    while 1:\n",
    "            a=n%10  #4\n",
    "            b=n//10  #23\n",
    "            c=b%10   #3\n",
    "            d=c//10   #2\n",
    "            e=d%10\n",
    "            m=a+c+e\n",
    "            print(m)\n",
    "            break"
   ]
  },
  {
   "cell_type": "code",
   "execution_count": 2,
   "metadata": {},
   "outputs": [
    {
     "name": "stdout",
     "output_type": "stream",
     "text": [
      "14\n"
     ]
    }
   ],
   "source": [
    "sumdigits(4377)"
   ]
  },
  {
   "cell_type": "code",
   "execution_count": null,
   "metadata": {},
   "outputs": [],
   "source": []
  },
  {
   "cell_type": "code",
   "execution_count": 18,
   "metadata": {},
   "outputs": [
    {
     "data": {
      "text/plain": [
       "9"
      ]
     },
     "execution_count": 18,
     "metadata": {},
     "output_type": "execute_result"
    }
   ],
   "source": [
    "def sumdigits(n):\n",
    "    j=0\n",
    "    num=str(n)\n",
    "    for i in num:\n",
    "        b=int(i)\n",
    "        j+=b\n",
    "    return j\n",
    "sumdigits(234)"
   ]
  },
  {
   "cell_type": "markdown",
   "metadata": {},
   "source": [
    "- 3\n",
    "![](../Photo/76.png)"
   ]
  },
  {
   "cell_type": "code",
   "execution_count": 3,
   "metadata": {},
   "outputs": [],
   "source": [
    "def displaysortednumbers(num1,num2,num3):\n",
    "    if num1<num2 and num1<num3 and num2<num3:\n",
    "        return num1, num2 ,num3\n",
    "    elif num1<num2 and num1<num3 and num3<num2:\n",
    "        return num1, num3 ,num2\n",
    "    elif num2<num1 and num2<num3 and num1<num3:\n",
    "        return num2, num1,num3\n",
    "    elif num2<num1 and num2<num3 and num3<num1:\n",
    "        return num2, num3,num1\n",
    "    elif num3<num1 and num3<num2 and num2<num1:\n",
    "        return num3, num2,num1\n",
    "    elif num3<num1 and num3<num2 and num1<num2:\n",
    "        return num3, num1,num2"
   ]
  },
  {
   "cell_type": "code",
   "execution_count": 7,
   "metadata": {},
   "outputs": [
    {
     "data": {
      "text/plain": [
       "(1, 4, 9)"
      ]
     },
     "execution_count": 7,
     "metadata": {},
     "output_type": "execute_result"
    }
   ],
   "source": [
    "displaysortednumbers(4,9,1)"
   ]
  },
  {
   "cell_type": "markdown",
   "metadata": {},
   "source": [
    "# - 4\n",
    "![](../Photo/77.png)"
   ]
  },
  {
   "cell_type": "raw",
   "metadata": {},
   "source": [
    "4.     2     22      222\n",
    "      2*10^0    2*10^0+2*10^1     2*10^0+2*10^1+2*10^2\n"
   ]
  },
  {
   "cell_type": "code",
   "execution_count": 69,
   "metadata": {},
   "outputs": [],
   "source": [
    "def sum_(num1,num2):\n",
    "    sum_ = 0 \n",
    "    a = 0\n",
    "    for i in range(0,num2):\n",
    "    #for i in range（0，num2）：\n",
    "        a = num1 * 10 ** i + a \n",
    "        sum_+=a\n",
    "    return sum_\n",
    "        #sum _ + = a \n",
    "   #  返回总和_ "
   ]
  },
  {
   "cell_type": "code",
   "execution_count": 70,
   "metadata": {},
   "outputs": [
    {
     "data": {
      "text/plain": [
       "60"
      ]
     },
     "execution_count": 70,
     "metadata": {},
     "output_type": "execute_result"
    }
   ],
   "source": [
    "sum_(5,2)"
   ]
  },
  {
   "cell_type": "markdown",
   "metadata": {},
   "source": [
    "- 5\n",
    "![](../Photo/78.png)"
   ]
  },
  {
   "cell_type": "code",
   "execution_count": 1,
   "metadata": {},
   "outputs": [],
   "source": [
    "def printchars(ch1,ch2,numberperline):\n",
    "    for i in range(76,91):\n",
    "        chr(i)\n",
    "        print(chr(i))\n",
    "        i+=1\n",
    "    if i%10==0:\n",
    "        print(\"\\n\")\n",
    "    "
   ]
  },
  {
   "cell_type": "code",
   "execution_count": 3,
   "metadata": {},
   "outputs": [
    {
     "name": "stdout",
     "output_type": "stream",
     "text": [
      "L\n",
      "M\n",
      "N\n",
      "O\n",
      "P\n",
      "Q\n",
      "R\n",
      "S\n",
      "T\n",
      "U\n",
      "V\n",
      "W\n",
      "X\n",
      "Y\n",
      "Z\n"
     ]
    }
   ],
   "source": [
    "printchars(61,90,13)"
   ]
  },
  {
   "cell_type": "markdown",
   "metadata": {},
   "source": [
    "- 6\n",
    "![](../Photo/79.png)"
   ]
  },
  {
   "cell_type": "code",
   "execution_count": 11,
   "metadata": {},
   "outputs": [
    {
     "name": "stdout",
     "output_type": "stream",
     "text": [
      "2010年有365天\n",
      "2011年有365天\n",
      "2012年有366天\n",
      "2013年有365天\n",
      "2014年有365天\n",
      "2015年有365天\n",
      "2016年有366天\n",
      "2017年有365天\n",
      "2018年有365天\n",
      "2019年有365天\n",
      "2020年有366天\n"
     ]
    }
   ],
   "source": [
    "#显示从2010年到2020年每年的天数\n",
    "def tianshu(year):\n",
    "    if year%4==0 and year%100!=0 or year%400==0:\n",
    "        print('%d年有366天'%year)\n",
    "    else:\n",
    "        print('%d年有365天'%year)\n",
    "for i in range(2010,2021):\n",
    "    tianshu(i)"
   ]
  },
  {
   "cell_type": "code",
   "execution_count": 8,
   "metadata": {},
   "outputs": [],
   "source": [
    "def numberofdaysinyear(year):\n",
    "    if (year % 4==0 and not year % 100==1) or (year % 400==0):\n",
    "        print('366')\n",
    "    else:\n",
    "        print('365')\n",
    "    "
   ]
  },
  {
   "cell_type": "code",
   "execution_count": 10,
   "metadata": {},
   "outputs": [
    {
     "name": "stdout",
     "output_type": "stream",
     "text": [
      "365\n"
     ]
    }
   ],
   "source": [
    "numberofdaysinyear(2001)"
   ]
  },
  {
   "cell_type": "markdown",
   "metadata": {},
   "source": [
    "- 7\n",
    "![](../Photo/80.png)"
   ]
  },
  {
   "cell_type": "code",
   "execution_count": 2,
   "metadata": {},
   "outputs": [],
   "source": [
    "import math\n",
    "def distance(x1,y1,x2,y2):\n",
    "    x = x1-x2\n",
    "    y = y1-y2\n",
    "    distance =math.pow((x*x+y*y),1/2)\n",
    "    print(distance)"
   ]
  },
  {
   "cell_type": "code",
   "execution_count": 3,
   "metadata": {},
   "outputs": [
    {
     "name": "stdout",
     "output_type": "stream",
     "text": [
      "5.0\n"
     ]
    }
   ],
   "source": [
    "distance(2,6,6,9)"
   ]
  },
  {
   "cell_type": "markdown",
   "metadata": {},
   "source": [
    "- 8\n",
    "![](../Photo/81.png)"
   ]
  },
  {
   "cell_type": "code",
   "execution_count": 3,
   "metadata": {},
   "outputs": [],
   "source": [
    "def meisen():\n",
    "    num=2**31-1\n",
    "    for i in range(3,num+1):\n",
    "        a=1\n",
    "        for j in range(2,i):\n",
    "            if i%j==0:\n",
    "                a=0\n",
    "                break\n",
    "        if a==1:\n",
    "            for p in range(1,32):\n",
    "                if i==2**p-1:\n",
    "                    print(p,i)\n"
   ]
  },
  {
   "cell_type": "code",
   "execution_count": null,
   "metadata": {},
   "outputs": [
    {
     "name": "stdout",
     "output_type": "stream",
     "text": [
      "2 3\n",
      "3 7\n",
      "5 31\n",
      "7 127\n",
      "13 8191\n"
     ]
    }
   ],
   "source": [
    "print(meisen())"
   ]
  },
  {
   "cell_type": "markdown",
   "metadata": {},
   "source": [
    "- 9\n",
    "![](../Photo/82.png)\n",
    "![](../Photo/83.png)"
   ]
  },
  {
   "cell_type": "code",
   "execution_count": 1,
   "metadata": {},
   "outputs": [
    {
     "name": "stdout",
     "output_type": "stream",
     "text": [
      "time.time:1557620825.281730\n",
      "time.struct_time(tm_year=2019, tm_mon=5, tm_mday=12, tm_hour=8, tm_min=27, tm_sec=5, tm_wday=6, tm_yday=132, tm_isdst=0)\n"
     ]
    },
    {
     "data": {
      "text/plain": [
       "'Sun May 12 08:27:05 2019'"
      ]
     },
     "execution_count": 1,
     "metadata": {},
     "output_type": "execute_result"
    }
   ],
   "source": [
    "import time\n",
    "print(\"time.time:%f\"%time.time())   #从1970年1月1日0时0分0秒起,至当前时间,经过的浮点秒数\n",
    "time.localtime()   #返回当前时间的stuck_time(tuple的形式)格式\n",
    "print(time.localtime(time.time()))   #输出为time.struct_time\n",
    "#其中为年,月,日,时,分,秒,周几(0-6,0为周一),一年的第几天(0-366),\n",
    "\n",
    "time.asctime()    #传入struct_time的时间,输出格式化时间,英文简写的星期几,几月,几日,时间,年份"
   ]
  },
  {
   "cell_type": "code",
   "execution_count": 2,
   "metadata": {},
   "outputs": [
    {
     "data": {
      "text/plain": [
       "'2019-05-12 08:27:10'"
      ]
     },
     "execution_count": 2,
     "metadata": {},
     "output_type": "execute_result"
    }
   ],
   "source": [
    "import time\n",
    "time.time()\n",
    "now = time.localtime()\n",
    "time.strftime(\"%Y-%m-%d %H:%M:%S\",now)\n"
   ]
  },
  {
   "cell_type": "markdown",
   "metadata": {},
   "source": [
    "- 10\n",
    "![](../Photo/84.png)"
   ]
  },
  {
   "cell_type": "code",
   "execution_count": 12,
   "metadata": {},
   "outputs": [
    {
     "name": "stdout",
     "output_type": "stream",
     "text": [
      "3 2\n",
      "3 1\n",
      "5 4\n",
      "2 2\n",
      "3 2\n",
      "你赢了\n"
     ]
    }
   ],
   "source": [
    "#掷骰子\n",
    "\n",
    "def touzi(num1,num2):\n",
    "        \n",
    "    print(num1,num2)\n",
    "    if num1+num2==2 or num1+num2==3 or num1+num2==12:\n",
    "        print(\"你输了\")\n",
    "    elif num1+num2==7 or num1+num2==11:\n",
    "        print('你赢了')\n",
    "    else:\n",
    "        num3=num1+num2\n",
    "        while 1:\n",
    "            num4=random.randint(1,6)\n",
    "            num5=random.randint(1,6)\n",
    "            print(num4,num5)\n",
    "            if num5+num4==7:\n",
    "                print('你输了')\n",
    "                break\n",
    "            elif num5+num4==num3:\n",
    "                print('你赢了')\n",
    "                break\n",
    "num1=random.randint(1,6)\n",
    "num2=random.randint(1,6)\n",
    "touzi(num1,num2)"
   ]
  },
  {
   "cell_type": "markdown",
   "metadata": {},
   "source": [
    "- 11 \n",
    "### 去网上寻找如何用Python代码发送邮件 \n",
    "    - time.sleep(3)  3秒发送一次\n",
    "    - 一旦错误后，重新换一个邮箱"
   ]
  }
 ],
 "metadata": {
  "kernelspec": {
   "display_name": "Python 3",
   "language": "python",
   "name": "python3"
  },
  "language_info": {
   "codemirror_mode": {
    "name": "ipython",
    "version": 3
   },
   "file_extension": ".py",
   "mimetype": "text/x-python",
   "name": "python",
   "nbconvert_exporter": "python",
   "pygments_lexer": "ipython3",
   "version": "3.7.3"
  }
 },
 "nbformat": 4,
 "nbformat_minor": 2
}
