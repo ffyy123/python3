{
 "cells": [
  {
   "cell_type": "raw",
   "metadata": {},
   "source": [
    "1"
   ]
  },
  {
   "cell_type": "code",
   "execution_count": 1,
   "metadata": {},
   "outputs": [
    {
     "name": "stdout",
     "output_type": "stream",
     "text": [
      "a,b,c1,2,3\n",
      "theequation has no real roots\n"
     ]
    }
   ],
   "source": [
    "a,b,c=eval(input('a,b,c'))\n",
    "d=b**2-4*a*c\n",
    "if d>0:\n",
    "    x1=(-b+d**(1/2))/2*a\n",
    "    x2=(-b-d**(1/2))/2*a\n",
    "    print('roots are',x1,'and',x2)\n",
    "elif d==0:\n",
    "    x=(-b)/2*a\n",
    "    print('root is',x)\n",
    "else:\n",
    "    print('theequation has no real roots')"
   ]
  },
  {
   "cell_type": "raw",
   "metadata": {},
   "source": [
    "2"
   ]
  },
  {
   "cell_type": "code",
   "execution_count": 3,
   "metadata": {},
   "outputs": [],
   "source": [
    "import random"
   ]
  },
  {
   "cell_type": "code",
   "execution_count": 4,
   "metadata": {},
   "outputs": [
    {
     "name": "stdout",
     "output_type": "stream",
     "text": [
      "160\n",
      "输入一个整数160\n",
      "真\n"
     ]
    }
   ],
   "source": [
    "num1=random.randint(0,100)\n",
    "num2=random.randint(0,100)\n",
    "num=num1+num2\n",
    "print(num)\n",
    "num_=eval(input('输入一个整数'))\n",
    "if num_==num:\n",
    "    print('真')\n",
    "else:\n",
    "    print('假')"
   ]
  },
  {
   "cell_type": "raw",
   "metadata": {},
   "source": [
    "3"
   ]
  },
  {
   "cell_type": "code",
   "execution_count": 14,
   "metadata": {},
   "outputs": [
    {
     "name": "stdout",
     "output_type": "stream",
     "text": [
      "请输入今天星期几和几天后1,4\n",
      "星期5\n"
     ]
    }
   ],
   "source": [
    "today,day=eval(input('请输入今天星期几和几天后'))\n",
    "week=(today+day)%7\n",
    "print('星期',week,sep=\"\")"
   ]
  },
  {
   "cell_type": "raw",
   "metadata": {},
   "source": [
    "4"
   ]
  },
  {
   "cell_type": "code",
   "execution_count": 5,
   "metadata": {},
   "outputs": [
    {
     "name": "stdout",
     "output_type": "stream",
     "text": [
      "请输入三个数5,7,2\n",
      "2 5 7\n"
     ]
    }
   ],
   "source": [
    "a,b,c=eval(input('请输入三个数'))\n",
    "if a>=b:\n",
    "    if b>=c:\n",
    "        print(c,b,a)\n",
    "    elif a>=c:\n",
    "        print(b,c,a)\n",
    "    else:\n",
    "        print(b,a,c)\n",
    "elif b<=c:\n",
    "    print(a,b,c)\n",
    "elif a>=c:\n",
    "    print(c,a,b)\n",
    "else:\n",
    "    print(a,c,b)"
   ]
  },
  {
   "cell_type": "raw",
   "metadata": {},
   "source": [
    "5"
   ]
  },
  {
   "cell_type": "code",
   "execution_count": 16,
   "metadata": {},
   "outputs": [
    {
     "name": "stdout",
     "output_type": "stream",
     "text": [
      "weight and price50,24\n",
      "weight and price25,11\n",
      "package2\n"
     ]
    }
   ],
   "source": [
    "weight1,price1=eval(input('weight and price'))\n",
    "weight2,price2=eval(input('weight and price'))\n",
    "danjia1=price1/weight1\n",
    "danjia2=price2/weight2\n",
    "if danjia1>danjia2:\n",
    "    print('package2')\n",
    "elif danjia1>danjia2:\n",
    "    print('package1')\n",
    "else:\n",
    "    print('都可以')"
   ]
  },
  {
   "cell_type": "markdown",
   "metadata": {},
   "source": [
    "6"
   ]
  },
  {
   "cell_type": "code",
   "execution_count": 17,
   "metadata": {},
   "outputs": [
    {
     "name": "stdout",
     "output_type": "stream",
     "text": [
      "请输入年和月2000,5\n",
      "2000 年 5 有31天\n"
     ]
    }
   ],
   "source": [
    "year,yue=eval(input('请输入年和月'))\n",
    "if (year%4==0 and year%100!=0) or year%400==0:\n",
    "    if yue==2:\n",
    "        print(year,'年',yue,'有29天')\n",
    "    elif yue%2==1:\n",
    "        print(year,'年',yue,'有31天')\n",
    "    else:\n",
    "        print(year,'年',yue,'有30天')\n",
    "else:\n",
    "    if yue==2:\n",
    "        print(year,'年',yue,'有28天')\n",
    "    elif yue%2==1:\n",
    "        print(year,'年',yue,'有31天')\n",
    "    else:\n",
    "        print(year,'年',yue,'有30天')"
   ]
  },
  {
   "cell_type": "raw",
   "metadata": {},
   "source": [
    "7"
   ]
  },
  {
   "cell_type": "code",
   "execution_count": 6,
   "metadata": {},
   "outputs": [
    {
     "name": "stdout",
     "output_type": "stream",
     "text": [
      "0为正面，1为反面1\n",
      "错误\n"
     ]
    }
   ],
   "source": [
    "yingbi=random.randint(0,1)\n",
    "caice=eval(input('0为正面，1为反面'))\n",
    "if caice==yingbi:\n",
    "    print('正确')\n",
    "else:\n",
    "    print('错误')"
   ]
  },
  {
   "cell_type": "raw",
   "metadata": {},
   "source": [
    "8"
   ]
  },
  {
   "cell_type": "code",
   "execution_count": 18,
   "metadata": {},
   "outputs": [
    {
     "name": "stdout",
     "output_type": "stream",
     "text": [
      "0\n",
      "剪刀0，石头1，布2:6\n",
      "you won\n"
     ]
    }
   ],
   "source": [
    "me=random.randint(0,2)\n",
    "print(me)\n",
    "you=eval(input('剪刀0，石头1，布2:'))\n",
    "if you==me:\n",
    "    print('平局')\n",
    "elif me==0 and you==2:\n",
    "    print('it is a game')\n",
    "elif me==2 and you==0:\n",
    "    print('you won')\n",
    "elif me>you:\n",
    "    print('it is a game')\n",
    "else:\n",
    "    print('you won')\n"
   ]
  },
  {
   "cell_type": "raw",
   "metadata": {},
   "source": [
    "9"
   ]
  },
  {
   "cell_type": "code",
   "execution_count": 7,
   "metadata": {},
   "outputs": [
    {
     "name": "stdout",
     "output_type": "stream",
     "text": [
      "请输入年份：2001\n",
      "请输入月份：1\n",
      "请输入天：31\n",
      "星期3\n"
     ]
    }
   ],
   "source": [
    "year=eval(input('请输入年份：'))\n",
    "month=eval(input('请输入月份：'))\n",
    "day=eval(input('请输入天：'))\n",
    "if month<3:\n",
    "    year=year-1\n",
    "    month=month+12\n",
    "j=year//100\n",
    "k=year%100\n",
    "a=(26*(month+1)//10)+k\n",
    "b=k//4+j//4+5*j\n",
    "h=(day+a+b-1)%7\n",
    "print('星期',h,sep='')"
   ]
  },
  {
   "cell_type": "raw",
   "metadata": {},
   "source": [
    "10"
   ]
  },
  {
   "cell_type": "code",
   "execution_count": 9,
   "metadata": {},
   "outputs": [
    {
     "name": "stdout",
     "output_type": "stream",
     "text": [
      "红桃 2\n"
     ]
    }
   ],
   "source": [
    "daxiao=random.randint(1,13)\n",
    "huase=random.randint(1,4)\n",
    "if daxiao==1:\n",
    "    daxiao=\"A\"\n",
    "elif daxiao==11:\n",
    "    daxiao=\"J\"\n",
    "elif daxiao==12:\n",
    "    daxiao=\"Q\"\n",
    "elif daxiao==13:\n",
    "    daxiao=\"K\"\n",
    "elif huase==1:\n",
    "    huase=\"梅花\"\n",
    "elif huase==2:\n",
    "    huase=\"红桃\"\n",
    "elif huase==3:\n",
    "    huase=\"方块\"\n",
    "elif huase==4:\n",
    "    huase=\"黑桃\"\n",
    "print(huase,daxiao)"
   ]
  },
  {
   "cell_type": "raw",
   "metadata": {},
   "source": [
    "11"
   ]
  },
  {
   "cell_type": "code",
   "execution_count": 11,
   "metadata": {},
   "outputs": [
    {
     "name": "stdout",
     "output_type": "stream",
     "text": [
      "请输入一个三位数222\n",
      "222 is a palindrome\n"
     ]
    }
   ],
   "source": [
    "number=eval(input('请输入一个三位数'))\n",
    "if number%10==number//100:\n",
    "    print(number,'is a palindrome')\n",
    "else:\n",
    "    print(num,'is not a palindrome')"
   ]
  },
  {
   "cell_type": "code",
   "execution_count": 12,
   "metadata": {},
   "outputs": [
    {
     "name": "stdout",
     "output_type": "stream",
     "text": [
      "请输入一个整数：546\n",
      "546 is not a palindrome\n"
     ]
    }
   ],
   "source": [
    "num = input('请输入一个整数：')\n",
    "num1=num[::-1]\n",
    "if num==num1:\n",
    "    print(num,'is a palindrome')\n",
    "else:\n",
    "    print(num,'is not a palindrome')"
   ]
  },
  {
   "cell_type": "code",
   "execution_count": 13,
   "metadata": {},
   "outputs": [
    {
     "name": "stdout",
     "output_type": "stream",
     "text": [
      "请输入一个整数：333\n",
      "333 is a palindrome\n"
     ]
    }
   ],
   "source": [
    "number = eval(input('请输入一个整数：'))\n",
    "if number%10==number//100:\n",
    "    print(number,'is a palindrome')\n",
    "else:\n",
    "    print(number,'is not a palindrome')"
   ]
  },
  {
   "cell_type": "raw",
   "metadata": {},
   "source": [
    "12"
   ]
  },
  {
   "cell_type": "code",
   "execution_count": null,
   "metadata": {},
   "outputs": [],
   "source": [
    "a,b,c=eval(input('输入三角形边长：'))\n",
    "if (a+b)>c and (a+c)>b and (b+c)>a:\n",
    "#if (a+b)c and (a+c)>b and (b+c)>a:\n",
    "    zhouchang=a+b+c\n",
    "    print(zhouchang)\n",
    "else:\n",
    "    print('不是三角')"
   ]
  }
 ],
 "metadata": {
  "kernelspec": {
   "display_name": "Python 3",
   "language": "python",
   "name": "python3"
  },
  "language_info": {
   "codemirror_mode": {
    "name": "ipython",
    "version": 3
   },
   "file_extension": ".py",
   "mimetype": "text/x-python",
   "name": "python",
   "nbconvert_exporter": "python",
   "pygments_lexer": "ipython3",
   "version": "3.7.3"
  }
 },
 "nbformat": 4,
 "nbformat_minor": 2
}
